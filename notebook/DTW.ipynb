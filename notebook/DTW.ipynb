{
 "cells": [
  {
   "cell_type": "markdown",
   "id": "358c56ef",
   "metadata": {},
   "source": [
    "###### General Steps to Follow\n",
    "1. Importing Packages\n",
    "1. Setup Mediapipe\n",
    "1. Counting Based on Some Thresholds"
   ]
  },
  {
   "cell_type": "markdown",
   "id": "785544d4",
   "metadata": {},
   "source": [
    "# ------------------------------------------------------------------------------------------------------------"
   ]
  },
  {
   "cell_type": "markdown",
   "id": "5823d3d1",
   "metadata": {},
   "source": [
    "## 1) Importing Packages"
   ]
  },
  {
   "cell_type": "code",
   "execution_count": 27,
   "id": "2bb27fdd",
   "metadata": {},
   "outputs": [],
   "source": [
    "import os\n",
    "import sys\n",
    "REPO_DIR_PATH = os.path.normpath(os.path.join(\n",
    "    os.path.join(os.getcwd(), \"..\")))\n",
    "sys.path.append(REPO_DIR_PATH)"
   ]
  },
  {
   "cell_type": "code",
   "execution_count": 28,
   "id": "a5479073",
   "metadata": {},
   "outputs": [],
   "source": [
    "import cv2\n",
    "import mediapipe as mp\n",
    "import matplotlib.pyplot as plt\n",
    "import numpy as np\n",
    "import cv2\n",
    "import matplotlib.pyplot as plt\n",
    "from src.data_preprocessing.data_transformation import DataTransformer\n",
    "from scipy.signal import medfilt\n",
    "from scipy.signal import find_peaks\n",
    "import numpy as np\n"
   ]
  },
  {
   "cell_type": "markdown",
   "id": "547a8868",
   "metadata": {},
   "source": [
    "# ------------------------------------------------------------------------------------------------------------"
   ]
  },
  {
   "cell_type": "markdown",
   "id": "9be17546",
   "metadata": {},
   "source": [
    "## 2) Setup Mediapipe"
   ]
  },
  {
   "cell_type": "code",
   "execution_count": 29,
   "id": "e44f0309",
   "metadata": {},
   "outputs": [],
   "source": [
    "# Setup mediapipe instance\n",
    "mp_pose = mp.solutions.pose\n",
    "mp_drawing = mp.solutions.drawing_utils"
   ]
  },
  {
   "cell_type": "code",
   "execution_count": 30,
   "id": "884d16c4",
   "metadata": {
    "scrolled": true
   },
   "outputs": [
    {
     "name": "stderr",
     "output_type": "stream",
     "text": [
      "I0000 00:00:1712418720.318330    4963 gl_context_egl.cc:85] Successfully initialized EGL. Major : 1 Minor: 5\n",
      "I0000 00:00:1712418720.357984   13456 gl_context.cc:357] GL version: 3.2 (OpenGL ES 3.2 NVIDIA 535.161.07), renderer: NVIDIA GeForce GTX 1650/PCIe/SSE2\n"
     ]
    }
   ],
   "source": [
    "pose_model = mp_pose.Pose(min_detection_confidence = 0.5, min_tracking_confidence = 0.5)"
   ]
  },
  {
   "cell_type": "markdown",
   "id": "f85959c2",
   "metadata": {},
   "source": [
    "###                                                              MediaPipe Poses\n",
    "<img src=\"https://i.imgur.com/3j8BPdc.png\" style=\"height:300px\" >"
   ]
  },
  {
   "cell_type": "markdown",
   "id": "0edf1417",
   "metadata": {},
   "source": [
    "# ------------------------------------------------------------------------------------------------------------"
   ]
  },
  {
   "cell_type": "markdown",
   "id": "82fae8e5",
   "metadata": {},
   "source": [
    "## 2) Some Data Preprocessing of The Input Video before Using DTW"
   ]
  },
  {
   "cell_type": "markdown",
   "id": "0c2c9e7c",
   "metadata": {},
   "source": [
    "#### 1- Get frames and angles from the video"
   ]
  },
  {
   "cell_type": "code",
   "execution_count": 31,
   "id": "e910689a",
   "metadata": {},
   "outputs": [],
   "source": [
    "def calculate_angle(a,b,c):\n",
    "    a = np.array(a) # First\n",
    "    b = np.array(b) # Mid\n",
    "    c = np.array(c) # End\n",
    "    \n",
    "    radians = np.arctan2(c[1]-b[1], c[0]-b[0]) - np.arctan2(a[1]-b[1], a[0]-b[0])\n",
    "    angle = np.abs(radians*180.0/np.pi)\n",
    "    \n",
    "    if angle >180.0:\n",
    "        angle = 360-angle\n",
    "        \n",
    "    return angle"
   ]
  },
  {
   "cell_type": "code",
   "execution_count": 32,
   "id": "5473a7f1",
   "metadata": {},
   "outputs": [],
   "source": [
    "def get_video_frames_and_angles(video_source):\n",
    "    cap = cv2.VideoCapture(video_source)\n",
    "    frames = []\n",
    "    angles = []\n",
    "    while cap.isOpened():\n",
    "        ret, frame = cap.read()\n",
    "        if not ret:\n",
    "            break\n",
    "        frames.append(frame)\n",
    "\n",
    "        # Recolor image to RGB\n",
    "        image = cv2.cvtColor(frame, cv2.COLOR_BGR2RGB)\n",
    "        image.flags.writeable = False\n",
    "\n",
    "        # Make detection\n",
    "        results = pose_model.process(image)\n",
    "\n",
    "        # Recolor back to BGR\n",
    "        image.flags.writeable = True\n",
    "        image = cv2.cvtColor(image, cv2.COLOR_RGB2BGR)\n",
    "\n",
    "        # Extract landmarks\n",
    "        try:\n",
    "            if results.pose_landmarks == None:\n",
    "                continue\n",
    "            landmarks = results.pose_landmarks.landmark\n",
    "\n",
    "            # Get coordinates\n",
    "            shoulder = [landmarks[mp_pose.PoseLandmark.LEFT_SHOULDER.value].x,landmarks[mp_pose.PoseLandmark.LEFT_SHOULDER.value].y]\n",
    "            elbow = [landmarks[mp_pose.PoseLandmark.LEFT_ELBOW.value].x,landmarks[mp_pose.PoseLandmark.LEFT_ELBOW.value].y]\n",
    "            wrist = [landmarks[mp_pose.PoseLandmark.LEFT_WRIST.value].x,landmarks[mp_pose.PoseLandmark.LEFT_WRIST.value].y]\n",
    "\n",
    "            # Calculate angle\n",
    "            angle = calculate_angle(shoulder, elbow, wrist)\n",
    "            angles.append(angle)\n",
    "\n",
    "            # Visualize angle\n",
    "            cv2.putText(image, str(angle), \n",
    "                           tuple(np.multiply(elbow, [640, 480]).astype(int)), \n",
    "                           cv2.FONT_HERSHEY_SIMPLEX, 0.5, (255, 255, 255), 2, cv2.LINE_AA\n",
    "                                )\n",
    "\n",
    "            # Curl counter logic based on angle change\n",
    "            if previous_angle is not None:\n",
    "                if angle > previous_angle:\n",
    "                    if decreasing:\n",
    "                        counter += 1\n",
    "                        decreasing = False\n",
    "                    increasing = True\n",
    "                elif angle < previous_angle:\n",
    "                    if increasing:\n",
    "                        decreasing = True\n",
    "                    increasing = False\n",
    "            previous_angle = angle\n",
    "        except:\n",
    "            pass\n",
    "\n",
    "        # Render curl counter\n",
    "        # Setup status box\n",
    "        cv2.rectangle(image, (0,0), (225,73), (245,117,16), -1)\n",
    "\n",
    "        # Rep data\n",
    "        mp_drawing.draw_landmarks(image, results.pose_landmarks, mp_pose.POSE_CONNECTIONS,\n",
    "                                mp_drawing.DrawingSpec(color=(245,117,66), thickness=2, circle_radius=2), \n",
    "                                mp_drawing.DrawingSpec(color=(245,66,230), thickness=2, circle_radius=2) \n",
    "                                 )   \n",
    "        cv2.imshow('Mediapipe Feed', image)\n",
    "\n",
    "        if cv2.waitKey(10) & 0xFF == ord('q'):\n",
    "            break\n",
    "\n",
    "    cap.release()\n",
    "    cv2.destroyAllWindows()\n",
    "            \n",
    "    return frames, angles"
   ]
  },
  {
   "cell_type": "markdown",
   "id": "9dd7e35a",
   "metadata": {},
   "source": [
    "#### 2- Apply median filter to the angles"
   ]
  },
  {
   "cell_type": "code",
   "execution_count": 33,
   "id": "da00c495",
   "metadata": {},
   "outputs": [],
   "source": [
    "def MedianFilter(angles):\n",
    "    window_size = 11\n",
    "    # Apply median filter to the angles_series\n",
    "    denoised_angles = medfilt(angles, kernel_size=window_size)\n",
    "    return denoised_angles"
   ]
  },
  {
   "cell_type": "markdown",
   "id": "7f192901",
   "metadata": {},
   "source": [
    "#### 3- Get the peaks and troughs"
   ]
  },
  {
   "cell_type": "code",
   "execution_count": 34,
   "id": "ef92186d",
   "metadata": {},
   "outputs": [],
   "source": [
    "def get_peaks_and_troughs(angles):\n",
    "    peaks, _ = find_peaks(angles, prominence=0.1)  # Adjust prominence threshold as needed\n",
    "    troughs, _ = find_peaks(-angles, prominence=0.1)  # Find troughs by negating the angle data\n",
    "    return peaks, troughs"
   ]
  },
  {
   "cell_type": "markdown",
   "id": "6df368da",
   "metadata": {},
   "source": [
    "#### 4- Get the cycles by deviding the frames according to the increasing/decreasing in the angles (peaks/troughs)"
   ]
  },
  {
   "cell_type": "code",
   "execution_count": 35,
   "id": "b7664241",
   "metadata": {},
   "outputs": [],
   "source": [
    "def get_cycles(frames, peaks):\n",
    "    cycles = []\n",
    "    for peak_index in range(len(peaks)-1):\n",
    "        cycle = []\n",
    "        cnt = peaks[peak_index]\n",
    "        while True:\n",
    "            cycle.append(frames[cnt])\n",
    "            if cnt == peaks[peak_index+1]:\n",
    "                break\n",
    "            cnt+=1\n",
    "        cycles.append(cycle)\n",
    "    return cycles"
   ]
  },
  {
   "cell_type": "markdown",
   "id": "54e260fc",
   "metadata": {},
   "source": [
    "#### 5- Convert each cycle to sequential data"
   ]
  },
  {
   "cell_type": "code",
   "execution_count": 36,
   "id": "79e67ac2",
   "metadata": {
    "scrolled": false
   },
   "outputs": [
    {
     "name": "stderr",
     "output_type": "stream",
     "text": [
      "I0000 00:00:1712418728.544787    4963 gl_context_egl.cc:85] Successfully initialized EGL. Major : 1 Minor: 5\n",
      "I0000 00:00:1712418728.577551   13479 gl_context.cc:357] GL version: 3.2 (OpenGL ES 3.2 NVIDIA 535.161.07), renderer: NVIDIA GeForce GTX 1650/PCIe/SSE2\n"
     ]
    }
   ],
   "source": [
    "obj = DataTransformer(\"bicep\",\"poses\")\n",
    "def get_sequential_data(cycles):\n",
    "    seq_data = []\n",
    "    for cycle in cycles:\n",
    "        seq = []\n",
    "        for frame in cycle:\n",
    "            poses = obj.get_frame_poses(frame)\n",
    "            if poses == None:\n",
    "                continue\n",
    "            seq.append(poses)\n",
    "        seq_data.append(np.array(seq))\n",
    "    return seq_data"
   ]
  },
  {
   "cell_type": "code",
   "execution_count": 37,
   "id": "89cd3235",
   "metadata": {},
   "outputs": [],
   "source": [
    "def data_preprocessing(video_source):\n",
    "    frames, angles = get_video_frames_and_angles(video_source)\n",
    "    denoised_angles = MedianFilter(angles)\n",
    "    peaks, troughs = get_peaks_and_troughs(denoised_angles)\n",
    "    cycles = get_cycles(frames, peaks)\n",
    "    seq_data = get_sequential_data(cycles)\n",
    "    return frames, angles, denoised_angles, peaks, troughs, cycles, seq_data"
   ]
  },
  {
   "cell_type": "markdown",
   "id": "de38712b",
   "metadata": {},
   "source": [
    "#### Testing the functions"
   ]
  },
  {
   "cell_type": "code",
   "execution_count": 24,
   "id": "15dbe04b",
   "metadata": {
    "scrolled": false
   },
   "outputs": [
    {
     "name": "stderr",
     "output_type": "stream",
     "text": [
      "I0000 00:00:1712324841.985974    9369 gl_context_egl.cc:85] Successfully initialized EGL. Major : 1 Minor: 5\n",
      "I0000 00:00:1712324842.024914    9607 gl_context.cc:357] GL version: 3.2 (OpenGL ES 3.2 NVIDIA 535.161.07), renderer: NVIDIA GeForce GTX 1650/PCIe/SSE2\n"
     ]
    }
   ],
   "source": [
    "video_source = 0\n",
    "frames, angles, denoised_angles, peaks, troughs, cycles, seq_data = data_preprocessing(video_source)"
   ]
  },
  {
   "cell_type": "code",
   "execution_count": 29,
   "id": "bd3cc016",
   "metadata": {},
   "outputs": [
    {
     "data": {
      "text/plain": [
       "(12, (258, 24))"
      ]
     },
     "execution_count": 29,
     "metadata": {},
     "output_type": "execute_result"
    }
   ],
   "source": [
    "len(cycles), seq_data[11].shape"
   ]
  },
  {
   "cell_type": "markdown",
   "id": "c9c3a1bb",
   "metadata": {},
   "source": [
    "#### Plotting Peaks and Troughs"
   ]
  },
  {
   "cell_type": "code",
   "execution_count": 25,
   "id": "370535d2",
   "metadata": {
    "scrolled": false
   },
   "outputs": [
    {
     "data": {
      "text/plain": [
       "Text(0.5, 1.0, 'Angles Series with Peaks and Troughs')"
      ]
     },
     "execution_count": 25,
     "metadata": {},
     "output_type": "execute_result"
    },
    {
     "data": {
      "image/png": "[encoded data removed]",
      "text/plain": [
       "<Figure size 640x480 with 1 Axes>"
      ]
     },
     "metadata": {},
     "output_type": "display_data"
    }
   ],
   "source": [
    "# Plot the angle series\n",
    "plt.plot(denoised_angles, label='Angle Series')\n",
    "\n",
    "# Plot peaks and troughs\n",
    "plt.plot(peaks, denoised_angles[peaks], 'ro', label='Peaks')\n",
    "plt.plot(troughs, denoised_angles[troughs], 'bo', label='Troughs')\n",
    "\n",
    "# Set labels and title\n",
    "plt.xlabel('Frame')\n",
    "plt.ylabel('Angle')\n",
    "plt.title('Angles Series with Peaks and Troughs')"
   ]
  },
  {
   "cell_type": "markdown",
   "id": "df2bdb5f",
   "metadata": {},
   "source": [
    "# ------------------------------------------------------------------------------------------------------------"
   ]
  },
  {
   "cell_type": "markdown",
   "id": "6f1d8fcc",
   "metadata": {},
   "source": [
    "## 3) DTW Analysis"
   ]
  },
  {
   "cell_type": "code",
   "execution_count": 46,
   "id": "9443280c",
   "metadata": {},
   "outputs": [],
   "source": [
    "def euclidean_distance(v1, v2):\n",
    "    \"\"\"\n",
    "    Compute the Euclidean distance between two vectors.\n",
    "    \n",
    "    Parameters:\n",
    "        v1 (numpy.ndarray): First vector.\n",
    "        v2 (numpy.ndarray): Second vector.\n",
    "        \n",
    "    Returns:\n",
    "        float: Euclidean distance between the two vectors.\n",
    "    \"\"\"\n",
    "    return np.linalg.norm(v1 - v2)\n",
    "\n",
    "def dtw_distance(s1, s2):\n",
    "    \"\"\"\n",
    "    Compute the Dynamic Time Warping (DTW) distance between two sequences of vectors.\n",
    "    \n",
    "    Parameters:\n",
    "        s1 (numpy.ndarray): First sequence of vectors (2D array).\n",
    "        s2 (numpy.ndarray): Second sequence of vectors (2D array).\n",
    "        \n",
    "    Returns:\n",
    "        float: DTW distance between the two sequences.\n",
    "    \"\"\"\n",
    "    # Calculate the length of each sequence\n",
    "    n, m = len(s1), len(s2)\n",
    "    \n",
    "    # Initialize the DTW matrix with zeros\n",
    "    dtw_matrix = np.zeros((n + 1, m + 1))\n",
    "    \n",
    "    # Fill the first row and column of the matrix with infinity\n",
    "    dtw_matrix[0, 1:] = np.inf\n",
    "    dtw_matrix[1:, 0] = np.inf\n",
    "    \n",
    "    # Calculate the DTW matrix\n",
    "    for i in range(1, n + 1):\n",
    "        for j in range(1, m + 1):\n",
    "            cost = euclidean_distance(s1[i - 1], s2[j - 1])\n",
    "            dtw_matrix[i, j] = cost + min(dtw_matrix[i - 1, j], dtw_matrix[i, j - 1], dtw_matrix[i - 1, j - 1])\n",
    "    \n",
    "    # Return the DTW distance\n",
    "    return dtw_matrix[n, m]"
   ]
  },
  {
   "cell_type": "markdown",
   "id": "5428b847",
   "metadata": {},
   "source": [
    "#### 1- Load some reference sequential data"
   ]
  },
  {
   "cell_type": "code",
   "execution_count": 38,
   "id": "9d621159",
   "metadata": {},
   "outputs": [],
   "source": [
    "def load_some_reference_seq_data():\n",
    "    video_source = \"/media/amro/944A72844A726342/E-JUST/Mine/Year3/S1/Seminar/Datasets/archive/Original Datasets/Bicep Curl/b1/b1_bicepcurl_1.mp4\"\n",
    "    reference_frames, reference_angles, reference_denoised_angles, reference_peaks, reference_troughs, reference_cycles, reference_seq_data = data_preprocessing(video_source)\n",
    "    return reference_frames, reference_angles, reference_denoised_angles, reference_peaks, reference_troughs, reference_cycles, reference_seq_data"
   ]
  },
  {
   "cell_type": "code",
   "execution_count": 39,
   "id": "957b74de",
   "metadata": {},
   "outputs": [],
   "source": [
    "reference_frames, reference_angles, reference_denoised_angles, reference_peaks, reference_troughs, reference_cycles, reference_seq_data = load_some_reference_seq_data()"
   ]
  },
  {
   "cell_type": "code",
   "execution_count": 40,
   "id": "c55b3269",
   "metadata": {},
   "outputs": [
    {
     "data": {
      "text/plain": [
       "10"
      ]
     },
     "execution_count": 40,
     "metadata": {},
     "output_type": "execute_result"
    }
   ],
   "source": [
    "len(reference_seq_data)"
   ]
  },
  {
   "cell_type": "code",
   "execution_count": 41,
   "id": "1c79f035",
   "metadata": {
    "scrolled": true
   },
   "outputs": [
    {
     "data": {
      "text/plain": [
       "array([ 58, 119, 177, 239, 303, 365, 428, 491, 553, 617, 640])"
      ]
     },
     "execution_count": 41,
     "metadata": {},
     "output_type": "execute_result"
    }
   ],
   "source": [
    "reference_peaks"
   ]
  },
  {
   "cell_type": "markdown",
   "id": "8e480771",
   "metadata": {},
   "source": [
    "##### Plotting Peaks and Troughs"
   ]
  },
  {
   "cell_type": "code",
   "execution_count": 53,
   "id": "7fc07404",
   "metadata": {
    "scrolled": true
   },
   "outputs": [
    {
     "data": {
      "text/plain": [
       "Text(0.5, 1.0, 'Angles Series with Peaks and Troughs of the Refrence Data')"
      ]
     },
     "execution_count": 53,
     "metadata": {},
     "output_type": "execute_result"
    },
    {
     "data": {
      "image/png": "[encoded data removed]",
      "text/plain": [
       "<Figure size 640x480 with 1 Axes>"
      ]
     },
     "metadata": {},
     "output_type": "display_data"
    }
   ],
   "source": [
    "# Plot the angle series\n",
    "plt.plot(reference_denoised_angles, label='Angle Series')\n",
    "\n",
    "# Plot peaks and troughs\n",
    "plt.plot(reference_peaks, reference_denoised_angles[reference_peaks], 'ro', label='Peaks')\n",
    "#plt.plot(troughs, denoised_angles[troughs], 'bo', label='Troughs')\n",
    "\n",
    "# Set labels and title\n",
    "plt.xlabel('Frame')\n",
    "plt.ylabel('Angle')\n",
    "plt.title('Angles Series with Peaks and Troughs of the Refrence Data')"
   ]
  },
  {
   "cell_type": "markdown",
   "id": "48f41c8b",
   "metadata": {},
   "source": [
    "#### 2- Get the sequential data of the input video"
   ]
  },
  {
   "cell_type": "code",
   "execution_count": 58,
   "id": "7d09e223",
   "metadata": {},
   "outputs": [],
   "source": [
    "video_source = 0\n",
    "frames, angles, denoised_angles, peaks, troughs, cycles, seq_data = data_preprocessing(video_source)"
   ]
  },
  {
   "cell_type": "code",
   "execution_count": 59,
   "id": "b1695639",
   "metadata": {
    "scrolled": true
   },
   "outputs": [
    {
     "data": {
      "text/plain": [
       "array([  8,  33,  50,  79, 119, 150, 179, 206])"
      ]
     },
     "execution_count": 59,
     "metadata": {},
     "output_type": "execute_result"
    }
   ],
   "source": [
    "peaks"
   ]
  },
  {
   "cell_type": "markdown",
   "id": "17177337",
   "metadata": {},
   "source": [
    "##### Plotting Peaks and Troughs"
   ]
  },
  {
   "cell_type": "code",
   "execution_count": 60,
   "id": "fd9d067b",
   "metadata": {
    "scrolled": true
   },
   "outputs": [
    {
     "data": {
      "text/plain": [
       "Text(0.5, 1.0, 'Angles Series with Peaks and Troughs')"
      ]
     },
     "execution_count": 60,
     "metadata": {},
     "output_type": "execute_result"
    },
    {
     "data": {
      "image/png": "[encoded data removed]",
      "text/plain": [
       "<Figure size 640x480 with 1 Axes>"
      ]
     },
     "metadata": {},
     "output_type": "display_data"
    }
   ],
   "source": [
    "# Plot the angle series\n",
    "plt.plot(denoised_angles, label='Angle Series')\n",
    "\n",
    "# Plot peaks and troughs\n",
    "plt.plot(peaks, denoised_angles[peaks], 'ro', label='Peaks')\n",
    "#plt.plot(troughs, denoised_angles[troughs], 'bo', label='Troughs')\n",
    "\n",
    "# Set labels and title\n",
    "plt.xlabel('Frame')\n",
    "plt.ylabel('Angle')\n",
    "plt.title('Angles Series with Peaks and Troughs')"
   ]
  },
  {
   "cell_type": "markdown",
   "id": "341e2051",
   "metadata": {},
   "source": [
    "#### 3- Calculating the DTW distances"
   ]
  },
  {
   "cell_type": "code",
   "execution_count": 72,
   "id": "119724bf",
   "metadata": {},
   "outputs": [
    {
     "data": {
      "text/plain": [
       "194.17690552081504"
      ]
     },
     "execution_count": 72,
     "metadata": {},
     "output_type": "execute_result"
    }
   ],
   "source": [
    "input_cycle_number = 5\n",
    "ref_index = 1\n",
    "dtw_distance(seq_data[input_cycle_number-1], reference_seq_data[ref_index])"
   ]
  },
  {
   "cell_type": "code",
   "execution_count": 57,
   "id": "37132d60",
   "metadata": {},
   "outputs": [
    {
     "data": {
      "text/plain": [
       "3.175309652734867"
      ]
     },
     "execution_count": 57,
     "metadata": {},
     "output_type": "execute_result"
    }
   ],
   "source": [
    "dtw_distance(reference_seq_data[0], reference_seq_data[4])"
   ]
  },
  {
   "cell_type": "code",
   "execution_count": null,
   "id": "aa88c7b8",
   "metadata": {},
   "outputs": [],
   "source": []
  },
  {
   "cell_type": "code",
   "execution_count": 12,
   "id": "9c89897f",
   "metadata": {},
   "outputs": [],
   "source": [
    "f,a = get_video_frames_and_angles(0)"
   ]
  },
  {
   "cell_type": "code",
   "execution_count": 11,
   "id": "a386b74a",
   "metadata": {},
   "outputs": [
    {
     "data": {
      "text/plain": [
       "[35.52526200004732,\n",
       " 21.201617404272273,\n",
       " 19.58288351601817,\n",
       " 26.16558561440421,\n",
       " 33.42926557185892,\n",
       " 41.81919593732897,\n",
       " 26.88480488827369,\n",
       " 19.169708009810197,\n",
       " 38.73102883241098,\n",
       " 27.49316614907847,\n",
       " 26.445568756216943,\n",
       " 40.388855190948505,\n",
       " 28.037485398825314,\n",
       " 27.0314737020334,\n",
       " 30.83958176877476,\n",
       " 25.178261316579086,\n",
       " 25.144434025520738,\n",
       " 79.10105017635664,\n",
       " 145.41234362363852,\n",
       " 149.6602062853282,\n",
       " 148.33790150509626,\n",
       " 152.23823700558725,\n",
       " 147.28376768362278,\n",
       " 153.5895512274622,\n",
       " 147.6610833964552,\n",
       " 149.8010474666227,\n",
       " 159.01901534883984,\n",
       " 157.75791369193828,\n",
       " 153.37725233390353,\n",
       " 153.09879273157375,\n",
       " 157.06565675566137,\n",
       " 176.59819735087578,\n",
       " 168.7744309201963,\n",
       " 170.73765095497149,\n",
       " 168.01710388008036,\n",
       " 157.9796318347261,\n",
       " 164.0235560593575,\n",
       " 158.8112584673101,\n",
       " 167.43819773423,\n",
       " 167.76755743578607,\n",
       " 169.80863092794456,\n",
       " 170.42177711528632,\n",
       " 170.05270504745135]"
      ]
     },
     "execution_count": 11,
     "metadata": {},
     "output_type": "execute_result"
    }
   ],
   "source": [
    "a"
   ]
  },
  {
   "cell_type": "code",
   "execution_count": 24,
   "id": "8d6b8617",
   "metadata": {},
   "outputs": [],
   "source": [
    "def save_cycle_frames_as_video( cycle_frames, output_path, fps=30):\n",
    "    \"\"\"\n",
    "    Save a list of frames as a video file.\n",
    "    input:\n",
    "        cycle_frames(list): List of frames\n",
    "        output_path(str): Output video file path\n",
    "        fps(int): Frames per second\n",
    "    output:\n",
    "        None\n",
    "    \"\"\"\n",
    "    try:\n",
    "        # Get the shape of the first frame to determine video dimensions\n",
    "        height, width, _ = cycle_frames[0].shape\n",
    "\n",
    "        # Define the codec and create VideoWriter object\n",
    "        # Choose the codec (here, MP4V)\n",
    "        fourcc = cv2.VideoWriter_fourcc(*'mp4v')\n",
    "        out = cv2.VideoWriter(output_path, fourcc, fps, (width, height))\n",
    "\n",
    "        try:\n",
    "            # Write each frame to the video file\n",
    "            for frame in cycle_frames:\n",
    "                out.write(frame)\n",
    "        finally:\n",
    "            # Release the VideoWriter object\n",
    "            out.release()\n",
    "    except Exception as e:\n",
    "        logging.error(\"Error: \"+str(e))\n",
    "        raise CustomException(e, sys)\n",
    "\n",
    "def save_cycles_as_videos( cycles: list, video_name: str):\n",
    "    \"\"\"\n",
    "    This function will save the cycles as videos in the output directory.\n",
    "    input:\n",
    "        cycles(list): List of cycles\n",
    "        video_name(str): Video name\n",
    "    output:\n",
    "        None\n",
    "    \"\"\"\n",
    "    output_dir = \"\"\n",
    "    for i, cycle in enumerate(cycles):\n",
    "        output_path = os.path.join(\n",
    "            output_dir, video_name+\"_cycle\"+str(i)+\".mp4\")\n",
    "        save_cycle_frames_as_video(cycle, output_path)"
   ]
  },
  {
   "cell_type": "code",
   "execution_count": 25,
   "id": "f50e8e6e",
   "metadata": {},
   "outputs": [],
   "source": [
    "save_cycles_as_videos(reference_cycles, \"video\")"
   ]
  },
  {
   "cell_type": "code",
   "execution_count": null,
   "id": "aba7c711",
   "metadata": {},
   "outputs": [],
   "source": []
  }
 ],
 "metadata": {
  "kernelspec": {
   "display_name": "ai1",
   "language": "python",
   "name": "ai1"
  },
  "language_info": {
   "codemirror_mode": {
    "name": "ipython",
    "version": 3
   },
   "file_extension": ".py",
   "mimetype": "text/x-python",
   "name": "python",
   "nbconvert_exporter": "python",
   "pygments_lexer": "ipython3",
   "version": "3.9.18"
  }
 },
 "nbformat": 4,
 "nbformat_minor": 5
}
