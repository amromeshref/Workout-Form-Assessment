{
 "cells": [
  {
   "cell_type": "markdown",
   "id": "5ccddfb7",
   "metadata": {},
   "source": [
    "###### General Steps to Follow\n",
    "1. Importing Packages\n",
    "1. Test Bicep"
   ]
  },
  {
   "cell_type": "markdown",
   "id": "ec0d4e4f",
   "metadata": {},
   "source": [
    "# -------------------------------------------------------------------------------------------------------------"
   ]
  },
  {
   "cell_type": "markdown",
   "id": "97299fd0",
   "metadata": {},
   "source": [
    "## 1) Importing Packages"
   ]
  },
  {
   "cell_type": "code",
   "execution_count": 1,
   "id": "01388a38",
   "metadata": {},
   "outputs": [],
   "source": [
    "import os\n",
    "import sys\n",
    "REPO_DIR_PATH = os.path.normpath(os.path.join(\n",
    "    os.path.join(os.getcwd(), \"..\")))\n",
    "sys.path.append(REPO_DIR_PATH)"
   ]
  },
  {
   "cell_type": "code",
   "execution_count": 2,
   "id": "7ab15474",
   "metadata": {
    "scrolled": true
   },
   "outputs": [
    {
     "name": "stderr",
     "output_type": "stream",
     "text": [
      "2024-04-14 13:25:34.598255: I tensorflow/core/platform/cpu_feature_guard.cc:210] This TensorFlow binary is optimized to use available CPU instructions in performance-critical operations.\n",
      "To enable the following instructions: AVX2 FMA, in other operations, rebuild TensorFlow with the appropriate compiler flags.\n",
      "2024-04-14 13:25:35.191619: W tensorflow/compiler/tf2tensorrt/utils/py_utils.cc:38] TF-TRT Warning: Could not find TensorRT\n"
     ]
    }
   ],
   "source": [
    "from src.models.predict_model import ModelPredictor\n",
    "import cv2\n",
    "import mediapipe as mp\n",
    "from src.data_preprocessing.data_transformation import DataTransformer\n",
    "from scipy.signal import medfilt\n",
    "from scipy.signal import find_peaks\n",
    "import numpy as np\n",
    "from datetime import datetime"
   ]
  },
  {
   "cell_type": "markdown",
   "id": "e2926169",
   "metadata": {},
   "source": [
    "# -------------------------------------------------------------------------------------------------------------"
   ]
  },
  {
   "cell_type": "markdown",
   "id": "c84912b0",
   "metadata": {},
   "source": [
    "# -------------------------------------------------------------------------------------------------------------"
   ]
  },
  {
   "cell_type": "markdown",
   "id": "556751bc",
   "metadata": {},
   "source": [
    "## 2) Data Preprocessing"
   ]
  },
  {
   "cell_type": "code",
   "execution_count": 4,
   "id": "0708372c",
   "metadata": {},
   "outputs": [
    {
     "name": "stderr",
     "output_type": "stream",
     "text": [
      "WARNING: All log messages before absl::InitializeLog() is called are written to STDERR\n",
      "I0000 00:00:1713093941.464133   11031 gl_context_egl.cc:85] Successfully initialized EGL. Major : 1 Minor: 5\n",
      "I0000 00:00:1713093941.493477   11107 gl_context.cc:357] GL version: 3.2 (OpenGL ES 3.2 NVIDIA 535.171.04), renderer: NVIDIA GeForce GTX 1650/PCIe/SSE2\n",
      "INFO: Created TensorFlow Lite XNNPACK delegate for CPU.\n"
     ]
    }
   ],
   "source": [
    "# Setup mediapipe instance\n",
    "mp_pose = mp.solutions.pose\n",
    "mp_drawing = mp.solutions.drawing_utils\n",
    "pose_model = mp_pose.Pose(min_detection_confidence = 0.5, min_tracking_confidence = 0.5)"
   ]
  },
  {
   "cell_type": "markdown",
   "id": "dcc27651",
   "metadata": {},
   "source": [
    "#### 1- Get frames and angles from the video"
   ]
  },
  {
   "cell_type": "code",
   "execution_count": 5,
   "id": "2497a56e",
   "metadata": {},
   "outputs": [],
   "source": [
    "def calculate_angle(a,b,c):\n",
    "    a = np.array(a) # First\n",
    "    b = np.array(b) # Mid\n",
    "    c = np.array(c) # End\n",
    "    \n",
    "    radians = np.arctan2(c[1]-b[1], c[0]-b[0]) - np.arctan2(a[1]-b[1], a[0]-b[0])\n",
    "    angle = np.abs(radians*180.0/np.pi)\n",
    "    \n",
    "    if angle >180.0:\n",
    "        angle = 360-angle\n",
    "        \n",
    "    return angle"
   ]
  },
  {
   "cell_type": "code",
   "execution_count": 6,
   "id": "5cdcd940",
   "metadata": {},
   "outputs": [],
   "source": [
    "def get_video_frames_and_angles(video_source):\n",
    "    cap = cv2.VideoCapture(video_source)\n",
    "    frames = []\n",
    "    angles = []\n",
    "    while cap.isOpened():\n",
    "        ret, frame = cap.read()\n",
    "        if not ret:\n",
    "            break\n",
    "        frames.append(frame)\n",
    "        \n",
    "\n",
    "        # Recolor image to RGB\n",
    "        image = cv2.cvtColor(frame, cv2.COLOR_BGR2RGB)\n",
    "        image.flags.writeable = False\n",
    "\n",
    "        # Make detection\n",
    "        results = pose_model.process(image)\n",
    "\n",
    "        # Recolor back to BGR\n",
    "        image.flags.writeable = True\n",
    "        image = cv2.cvtColor(image, cv2.COLOR_RGB2BGR)\n",
    "\n",
    "        # Extract landmarks\n",
    "        if results.pose_landmarks == None:\n",
    "            continue\n",
    "        landmarks = results.pose_landmarks.landmark\n",
    "\n",
    "        # Get coordinates\n",
    "        shoulder = [landmarks[mp_pose.PoseLandmark.LEFT_SHOULDER.value].x,landmarks[mp_pose.PoseLandmark.LEFT_SHOULDER.value].y]\n",
    "        elbow = [landmarks[mp_pose.PoseLandmark.LEFT_ELBOW.value].x,landmarks[mp_pose.PoseLandmark.LEFT_ELBOW.value].y]\n",
    "        wrist = [landmarks[mp_pose.PoseLandmark.LEFT_WRIST.value].x,landmarks[mp_pose.PoseLandmark.LEFT_WRIST.value].y]\n",
    "\n",
    "        # Calculate angle\n",
    "        angle = calculate_angle(shoulder, elbow, wrist)\n",
    "        angles.append(angle)\n",
    "\n",
    "        # Visualize angle\n",
    "        height, width, _ = image.shape\n",
    "        cv2.putText(image, str(round(angle,2)), \n",
    "                       tuple(np.multiply(elbow, [width+40, height+20]).astype(int)), \n",
    "                       cv2.FONT_HERSHEY_SIMPLEX, 0.5, (255, 255, 255), 2, cv2.LINE_AA)\n",
    "\n",
    "        # Rep data\n",
    "        mp_drawing.draw_landmarks(image, results.pose_landmarks, mp_pose.POSE_CONNECTIONS,\n",
    "                                mp_drawing.DrawingSpec(color=(245,117,66), thickness=2, circle_radius=2), \n",
    "                                mp_drawing.DrawingSpec(color=(245,66,230), thickness=2, circle_radius=2) \n",
    "                                 )   \n",
    "        cv2.imshow('Mediapipe Feed', image)\n",
    "\n",
    "        if cv2.waitKey(10) & 0xFF == ord('q'):\n",
    "            break\n",
    "\n",
    "    cap.release()\n",
    "    cv2.destroyAllWindows()\n",
    "            \n",
    "    return frames, angles"
   ]
  },
  {
   "cell_type": "markdown",
   "id": "203e85d7",
   "metadata": {},
   "source": [
    "#### 2- Apply median filter to the angles"
   ]
  },
  {
   "cell_type": "code",
   "execution_count": 7,
   "id": "03ff8f5f",
   "metadata": {},
   "outputs": [],
   "source": [
    "def MedianFilter(angles):\n",
    "    window_size = 41\n",
    "    # Apply median filter to the angles_series\n",
    "    denoised_angles = medfilt(angles, kernel_size=window_size)\n",
    "    return denoised_angles"
   ]
  },
  {
   "cell_type": "markdown",
   "id": "faa1356d",
   "metadata": {},
   "source": [
    "#### 3- Get the peaks and troughs"
   ]
  },
  {
   "cell_type": "code",
   "execution_count": 8,
   "id": "166c10b7",
   "metadata": {},
   "outputs": [],
   "source": [
    "def get_peaks_and_troughs(angles):\n",
    "    peaks, _ = find_peaks(angles, prominence=0.1)  # Adjust prominence threshold as needed\n",
    "    troughs, _ = find_peaks(-angles, prominence=0.1)  # Find troughs by negating the angle data\n",
    "    return peaks, troughs"
   ]
  },
  {
   "cell_type": "markdown",
   "id": "1783f2e5",
   "metadata": {},
   "source": [
    "#### 4- Get the cycles by deviding the frames according to the increasing/decreasing in the angles (peaks/troughs)"
   ]
  },
  {
   "cell_type": "code",
   "execution_count": 9,
   "id": "2d7bd3d7",
   "metadata": {},
   "outputs": [],
   "source": [
    "def get_cycles(frames, peaks):\n",
    "    cycles = []\n",
    "    for peak_index in range(len(peaks)-1):\n",
    "        cycle = []\n",
    "        cnt = peaks[peak_index]\n",
    "        while True:\n",
    "            cycle.append(frames[cnt])\n",
    "            if cnt == peaks[peak_index+1]:\n",
    "                break\n",
    "            cnt+=1\n",
    "        cycles.append(cycle)\n",
    "    return cycles"
   ]
  },
  {
   "cell_type": "code",
   "execution_count": 34,
   "id": "897f922b",
   "metadata": {},
   "outputs": [],
   "source": [
    "def save_cycle_frames_as_video(cycle_frames, output_path, fps=30):\n",
    "    \"\"\"\n",
    "    Save a list of frames as a video file.\n",
    "    input:\n",
    "        cycle_frames(list): List of frames\n",
    "        output_path(str): Output video file path\n",
    "        fps(int): Frames per second\n",
    "    output:\n",
    "        None\n",
    "    \"\"\"\n",
    "    try:\n",
    "        # Get the shape of the first frame to determine video dimensions\n",
    "        height, width, _ = cycle_frames[0].shape\n",
    "\n",
    "        # Define the codec and create VideoWriter object\n",
    "        # Choose the codec (here, MP4V)\n",
    "        fourcc = cv2.VideoWriter_fourcc(*'mp4v')\n",
    "        out = cv2.VideoWriter(output_path, fourcc, fps, (width, height))\n",
    "\n",
    "        try:\n",
    "            # Write each frame to the video file\n",
    "            for frame in cycle_frames:\n",
    "                out.write(frame)\n",
    "        finally:\n",
    "            # Release the VideoWriter object\n",
    "            out.release()\n",
    "    except Exception as e:\n",
    "        logging.error(\"Error: \"+str(e))\n",
    "        raise CustomException(e, sys)\n",
    "\n",
    "def save_cycles_as_videos(cycles: list):\n",
    "    \"\"\"\n",
    "    This function will save the cycles as videos in the output directory.\n",
    "    input:\n",
    "        cycles(list): List of cycles\n",
    "        video_name(str): Video name\n",
    "    output:\n",
    "        None\n",
    "    \"\"\"\n",
    "    video_name = str(datetime.now().strftime('%Y-%m-%d-%I-%M-%S'))\n",
    "    output_dir = os.path.normpath(os.path.join(\n",
    "    os.path.join(os.getcwd(), \"..\",\"results\",\"cycles_divider\",video_name)))\n",
    "    # Check if the directory already exists\n",
    "    if not os.path.exists(output_dir):\n",
    "        # Create the directory\n",
    "        os.makedirs(output_dir)\n",
    "    for i, cycle in enumerate(cycles):\n",
    "        output_path = os.path.join(\n",
    "            output_dir, video_name+\"_cycle\"+str(i+1)+\".mp4\")\n",
    "        save_cycle_frames_as_video(cycle, output_path)"
   ]
  },
  {
   "cell_type": "markdown",
   "id": "5bd57f09",
   "metadata": {},
   "source": [
    "#### 5- Convert each cycle to sequential data"
   ]
  },
  {
   "cell_type": "code",
   "execution_count": 18,
   "id": "5abdf936",
   "metadata": {},
   "outputs": [],
   "source": [
    "def get_seq_data(cycles):\n",
    "    transformer = DataTransformer(\"bicep\",\"angles\")\n",
    "    seq_data = transformer.get_sequential_data(cycles)\n",
    "    return seq_data"
   ]
  },
  {
   "cell_type": "code",
   "execution_count": 19,
   "id": "01dd12b4",
   "metadata": {},
   "outputs": [],
   "source": [
    "def data_preprocessing(video_source):\n",
    "    frames, angles = get_video_frames_and_angles(video_source)\n",
    "    denoised_angles = MedianFilter(angles)\n",
    "    peaks, troughs = get_peaks_and_troughs(denoised_angles)\n",
    "    cycles = get_cycles(frames, peaks)\n",
    "    seq_data = get_seq_data(cycles)\n",
    "    return frames, angles, denoised_angles, peaks, troughs, cycles, seq_data"
   ]
  },
  {
   "cell_type": "markdown",
   "id": "fd338242",
   "metadata": {},
   "source": [
    "# -------------------------------------------------------------------------------------------------------------"
   ]
  },
  {
   "cell_type": "markdown",
   "id": "802ff821",
   "metadata": {},
   "source": [
    "## 2) Get Predictions"
   ]
  },
  {
   "cell_type": "code",
   "execution_count": 3,
   "id": "7f7a4273",
   "metadata": {},
   "outputs": [],
   "source": [
    "def get_predictions(predictor, seq):\n",
    "    pred1 = predictor.predict_criteria1(seq)\n",
    "    pred2 = predictor.predict_criteria2(seq)\n",
    "    pred3 = predictor.predict_criteria3(seq)\n",
    "    print(\"criteria1:\", pred1)\n",
    "    print(\"criteria2:\", pred2)\n",
    "    print(\"criteria3:\", pred3)"
   ]
  },
  {
   "cell_type": "code",
   "execution_count": 38,
   "id": "70c5fb72",
   "metadata": {},
   "outputs": [
    {
     "name": "stderr",
     "output_type": "stream",
     "text": [
      "I0000 00:00:1713095514.334092   11031 gl_context_egl.cc:85] Successfully initialized EGL. Major : 1 Minor: 5\n",
      "I0000 00:00:1713095514.369645   15181 gl_context.cc:357] GL version: 3.2 (OpenGL ES 3.2 NVIDIA 535.171.04), renderer: NVIDIA GeForce GTX 1650/PCIe/SSE2\n"
     ]
    }
   ],
   "source": [
    "video_source = \"/media/amro/944A72844A726342/E-JUST/Mine/Year3/S1/Seminar/repo/data/external/self_collected_data/bicep/criteria_1/1/12B.mp4\"\n",
    "#video_source = 0\n",
    "frames, angles, denoised_angles, peaks, troughs, cycles, seq_data = data_preprocessing(video_source)"
   ]
  },
  {
   "cell_type": "code",
   "execution_count": 39,
   "id": "7c8de803",
   "metadata": {},
   "outputs": [],
   "source": [
    "save_cycles_as_videos(cycles) #saved at results/cycles_divider"
   ]
  },
  {
   "cell_type": "code",
   "execution_count": 25,
   "id": "1b62fb87",
   "metadata": {},
   "outputs": [],
   "source": [
    "exercise_name = \"bicep\"\n",
    "evaluation_type = \"angles\"\n",
    "predictor = ModelPredictor(exercise_name, evaluation_type)"
   ]
  },
  {
   "cell_type": "code",
   "execution_count": 33,
   "id": "bf5d8923",
   "metadata": {},
   "outputs": [
    {
     "name": "stdout",
     "output_type": "stream",
     "text": [
      "Cycle: 1\n",
      "\u001b[1m1/1\u001b[0m \u001b[32m━━━━━━━━━━━━━━━━━━━━\u001b[0m\u001b[37m\u001b[0m \u001b[1m0s\u001b[0m 63ms/step\n",
      "\u001b[1m1/1\u001b[0m \u001b[32m━━━━━━━━━━━━━━━━━━━━\u001b[0m\u001b[37m\u001b[0m \u001b[1m0s\u001b[0m 57ms/step\n",
      "\u001b[1m1/1\u001b[0m \u001b[32m━━━━━━━━━━━━━━━━━━━━\u001b[0m\u001b[37m\u001b[0m \u001b[1m0s\u001b[0m 46ms/step\n",
      "criteria1: 0.9850567\n",
      "criteria2: 0.979162\n",
      "criteria3: 0.79863536\n",
      "\n",
      "\n",
      "Cycle: 2\n",
      "\u001b[1m1/1\u001b[0m \u001b[32m━━━━━━━━━━━━━━━━━━━━\u001b[0m\u001b[37m\u001b[0m \u001b[1m0s\u001b[0m 48ms/step\n",
      "\u001b[1m1/1\u001b[0m \u001b[32m━━━━━━━━━━━━━━━━━━━━\u001b[0m\u001b[37m\u001b[0m \u001b[1m0s\u001b[0m 38ms/step\n",
      "\u001b[1m1/1\u001b[0m \u001b[32m━━━━━━━━━━━━━━━━━━━━\u001b[0m\u001b[37m\u001b[0m \u001b[1m0s\u001b[0m 40ms/step\n",
      "criteria1: 0.9837821\n",
      "criteria2: 0.9877338\n",
      "criteria3: 0.93033993\n",
      "\n",
      "\n",
      "Cycle: 3\n",
      "\u001b[1m1/1\u001b[0m \u001b[32m━━━━━━━━━━━━━━━━━━━━\u001b[0m\u001b[37m\u001b[0m \u001b[1m0s\u001b[0m 40ms/step\n",
      "\u001b[1m1/1\u001b[0m \u001b[32m━━━━━━━━━━━━━━━━━━━━\u001b[0m\u001b[37m\u001b[0m \u001b[1m0s\u001b[0m 47ms/step\n",
      "\u001b[1m1/1\u001b[0m \u001b[32m━━━━━━━━━━━━━━━━━━━━\u001b[0m\u001b[37m\u001b[0m \u001b[1m0s\u001b[0m 49ms/step\n",
      "criteria1: 0.9826963\n",
      "criteria2: 0.9895569\n",
      "criteria3: 0.06478944\n",
      "\n",
      "\n",
      "Cycle: 4\n",
      "\u001b[1m1/1\u001b[0m \u001b[32m━━━━━━━━━━━━━━━━━━━━\u001b[0m\u001b[37m\u001b[0m \u001b[1m0s\u001b[0m 53ms/step\n",
      "\u001b[1m1/1\u001b[0m \u001b[32m━━━━━━━━━━━━━━━━━━━━\u001b[0m\u001b[37m\u001b[0m \u001b[1m0s\u001b[0m 39ms/step\n",
      "\u001b[1m1/1\u001b[0m \u001b[32m━━━━━━━━━━━━━━━━━━━━\u001b[0m\u001b[37m\u001b[0m \u001b[1m0s\u001b[0m 42ms/step\n",
      "criteria1: 0.984205\n",
      "criteria2: 0.9896439\n",
      "criteria3: 0.21655308\n",
      "\n",
      "\n",
      "Cycle: 5\n",
      "\u001b[1m1/1\u001b[0m \u001b[32m━━━━━━━━━━━━━━━━━━━━\u001b[0m\u001b[37m\u001b[0m \u001b[1m0s\u001b[0m 39ms/step\n",
      "\u001b[1m1/1\u001b[0m \u001b[32m━━━━━━━━━━━━━━━━━━━━\u001b[0m\u001b[37m\u001b[0m \u001b[1m0s\u001b[0m 43ms/step\n",
      "\u001b[1m1/1\u001b[0m \u001b[32m━━━━━━━━━━━━━━━━━━━━\u001b[0m\u001b[37m\u001b[0m \u001b[1m0s\u001b[0m 39ms/step\n",
      "criteria1: 0.9832181\n",
      "criteria2: 0.9908527\n",
      "criteria3: 0.08779562\n",
      "\n",
      "\n",
      "Cycle: 6\n",
      "\u001b[1m1/1\u001b[0m \u001b[32m━━━━━━━━━━━━━━━━━━━━\u001b[0m\u001b[37m\u001b[0m \u001b[1m0s\u001b[0m 53ms/step\n",
      "\u001b[1m1/1\u001b[0m \u001b[32m━━━━━━━━━━━━━━━━━━━━\u001b[0m\u001b[37m\u001b[0m \u001b[1m0s\u001b[0m 55ms/step\n",
      "\u001b[1m1/1\u001b[0m \u001b[32m━━━━━━━━━━━━━━━━━━━━\u001b[0m\u001b[37m\u001b[0m \u001b[1m0s\u001b[0m 46ms/step\n",
      "criteria1: 0.9835557\n",
      "criteria2: 0.9849803\n",
      "criteria3: 0.22358008\n",
      "\n",
      "\n",
      "Cycle: 7\n",
      "\u001b[1m1/1\u001b[0m \u001b[32m━━━━━━━━━━━━━━━━━━━━\u001b[0m\u001b[37m\u001b[0m \u001b[1m0s\u001b[0m 49ms/step\n",
      "\u001b[1m1/1\u001b[0m \u001b[32m━━━━━━━━━━━━━━━━━━━━\u001b[0m\u001b[37m\u001b[0m \u001b[1m0s\u001b[0m 53ms/step\n",
      "\u001b[1m1/1\u001b[0m \u001b[32m━━━━━━━━━━━━━━━━━━━━\u001b[0m\u001b[37m\u001b[0m \u001b[1m0s\u001b[0m 55ms/step\n",
      "criteria1: 0.9844606\n",
      "criteria2: 0.986428\n",
      "criteria3: 0.22376183\n",
      "\n",
      "\n",
      "Cycle: 8\n",
      "\u001b[1m1/1\u001b[0m \u001b[32m━━━━━━━━━━━━━━━━━━━━\u001b[0m\u001b[37m\u001b[0m \u001b[1m0s\u001b[0m 56ms/step\n",
      "\u001b[1m1/1\u001b[0m \u001b[32m━━━━━━━━━━━━━━━━━━━━\u001b[0m\u001b[37m\u001b[0m \u001b[1m0s\u001b[0m 50ms/step\n",
      "\u001b[1m1/1\u001b[0m \u001b[32m━━━━━━━━━━━━━━━━━━━━\u001b[0m\u001b[37m\u001b[0m \u001b[1m0s\u001b[0m 46ms/step\n",
      "criteria1: 0.98306316\n",
      "criteria2: 0.99069524\n",
      "criteria3: 0.16594765\n",
      "\n",
      "\n",
      "Cycle: 9\n",
      "\u001b[1m1/1\u001b[0m \u001b[32m━━━━━━━━━━━━━━━━━━━━\u001b[0m\u001b[37m\u001b[0m \u001b[1m0s\u001b[0m 56ms/step\n",
      "\u001b[1m1/1\u001b[0m \u001b[32m━━━━━━━━━━━━━━━━━━━━\u001b[0m\u001b[37m\u001b[0m \u001b[1m0s\u001b[0m 52ms/step\n",
      "\u001b[1m1/1\u001b[0m \u001b[32m━━━━━━━━━━━━━━━━━━━━\u001b[0m\u001b[37m\u001b[0m \u001b[1m0s\u001b[0m 51ms/step\n",
      "criteria1: 0.9844078\n",
      "criteria2: 0.05753925\n",
      "criteria3: 0.7535081\n",
      "\n",
      "\n",
      "Cycle: 10\n",
      "\u001b[1m1/1\u001b[0m \u001b[32m━━━━━━━━━━━━━━━━━━━━\u001b[0m\u001b[37m\u001b[0m \u001b[1m0s\u001b[0m 52ms/step\n",
      "\u001b[1m1/1\u001b[0m \u001b[32m━━━━━━━━━━━━━━━━━━━━\u001b[0m\u001b[37m\u001b[0m \u001b[1m0s\u001b[0m 51ms/step\n",
      "\u001b[1m1/1\u001b[0m \u001b[32m━━━━━━━━━━━━━━━━━━━━\u001b[0m\u001b[37m\u001b[0m \u001b[1m0s\u001b[0m 56ms/step\n",
      "criteria1: 0.98291415\n",
      "criteria2: 0.546596\n",
      "criteria3: 0.055508927\n",
      "\n",
      "\n",
      "Cycle: 11\n",
      "\u001b[1m1/1\u001b[0m \u001b[32m━━━━━━━━━━━━━━━━━━━━\u001b[0m\u001b[37m\u001b[0m \u001b[1m0s\u001b[0m 39ms/step\n",
      "\u001b[1m1/1\u001b[0m \u001b[32m━━━━━━━━━━━━━━━━━━━━\u001b[0m\u001b[37m\u001b[0m \u001b[1m0s\u001b[0m 52ms/step\n",
      "\u001b[1m1/1\u001b[0m \u001b[32m━━━━━━━━━━━━━━━━━━━━\u001b[0m\u001b[37m\u001b[0m \u001b[1m0s\u001b[0m 49ms/step\n",
      "criteria1: 0.9843582\n",
      "criteria2: 0.46883577\n",
      "criteria3: 0.27918303\n",
      "\n",
      "\n"
     ]
    }
   ],
   "source": [
    "i = 1\n",
    "for seq in seq_data:\n",
    "    print(\"Cycle:\",i)\n",
    "    i+=1\n",
    "    get_predictions(predictor, seq)\n",
    "    print(\"\\n\")"
   ]
  },
  {
   "cell_type": "code",
   "execution_count": null,
   "id": "52457a7b",
   "metadata": {},
   "outputs": [],
   "source": []
  }
 ],
 "metadata": {
  "kernelspec": {
   "display_name": "ai1",
   "language": "python",
   "name": "ai1"
  },
  "language_info": {
   "codemirror_mode": {
    "name": "ipython",
    "version": 3
   },
   "file_extension": ".py",
   "mimetype": "text/x-python",
   "name": "python",
   "nbconvert_exporter": "python",
   "pygments_lexer": "ipython3",
   "version": "3.9.18"
  }
 },
 "nbformat": 4,
 "nbformat_minor": 5
}
