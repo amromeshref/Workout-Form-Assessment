{
 "cells": [
  {
   "cell_type": "markdown",
   "id": "ccf9b6e3",
   "metadata": {},
   "source": [
    "###### General Steps to Follow\n",
    "1. Importing Packages\n",
    "1. Test Bicep"
   ]
  },
  {
   "cell_type": "markdown",
   "id": "a5ffa494",
   "metadata": {},
   "source": [
    "# -------------------------------------------------------------------------------------------------------------"
   ]
  },
  {
   "cell_type": "markdown",
   "id": "0721a633",
   "metadata": {},
   "source": [
    "## 1) Importing Packages"
   ]
  },
  {
   "cell_type": "code",
   "execution_count": 1,
   "id": "1c25dd16",
   "metadata": {},
   "outputs": [],
   "source": [
    "import os\n",
    "import sys\n",
    "REPO_DIR_PATH = os.path.normpath(os.path.join(\n",
    "    os.path.join(os.getcwd(), \"..\")))\n",
    "sys.path.append(REPO_DIR_PATH)"
   ]
  },
  {
   "cell_type": "code",
   "execution_count": 2,
   "id": "9ea24b6a",
   "metadata": {
    "scrolled": true
   },
   "outputs": [
    {
     "name": "stderr",
     "output_type": "stream",
     "text": [
      "2024-04-14 11:09:55.286518: I tensorflow/core/platform/cpu_feature_guard.cc:210] This TensorFlow binary is optimized to use available CPU instructions in performance-critical operations.\n",
      "To enable the following instructions: AVX2 FMA, in other operations, rebuild TensorFlow with the appropriate compiler flags.\n",
      "2024-04-14 11:09:55.879038: W tensorflow/compiler/tf2tensorrt/utils/py_utils.cc:38] TF-TRT Warning: Could not find TensorRT\n"
     ]
    }
   ],
   "source": [
    "from src.models.predict_model import ModelPredictor\n",
    "from src.data_preprocessing.cycles_divider import CyclesDivider\n",
    "import numpy as np"
   ]
  },
  {
   "cell_type": "markdown",
   "id": "70fa269d",
   "metadata": {},
   "source": [
    "# -------------------------------------------------------------------------------------------------------------"
   ]
  },
  {
   "cell_type": "code",
   "execution_count": 8,
   "id": "10f693a9",
   "metadata": {},
   "outputs": [],
   "source": [
    "def get_predictions(predictor, seq):\n",
    "    pred1 = predictor.predict_criteria1(seq)\n",
    "    pred2 = predictor.predict_criteria2(seq)\n",
    "    pred3 = predictor.predict_criteria3(seq)\n",
    "    print(\"criteria1:\", pred1)\n",
    "    print(\"criteria2:\", pred2)\n",
    "    print(\"criteria3:\", pred3)"
   ]
  },
  {
   "cell_type": "markdown",
   "id": "5713a017",
   "metadata": {},
   "source": [
    "# -------------------------------------------------------------------------------------------------------------"
   ]
  },
  {
   "cell_type": "markdown",
   "id": "6f001ce3",
   "metadata": {},
   "source": [
    "## 2) Test Bicep"
   ]
  },
  {
   "cell_type": "code",
   "execution_count": 5,
   "id": "72b3ff0b",
   "metadata": {
    "scrolled": true
   },
   "outputs": [
    {
     "name": "stderr",
     "output_type": "stream",
     "text": [
      "I0000 00:00:1713085895.280170    5831 gl_context_egl.cc:85] Successfully initialized EGL. Major : 1 Minor: 5\n",
      "I0000 00:00:1713085895.312511    6024 gl_context.cc:357] GL version: 3.2 (OpenGL ES 3.2 NVIDIA 535.171.04), renderer: NVIDIA GeForce GTX 1650/PCIe/SSE2\n"
     ]
    }
   ],
   "source": [
    "video_path = \"/media/amro/944A72844A726342/E-JUST/Mine/Year3/S1/Seminar/repo/data/external/self_collected_data/bicep/criteria_1/1/12B.mp4\"\n",
    "exercise_name = \"bicep\"\n",
    "evaluation_type = \"angles\"\n",
    "predictor = ModelPredictor(exercise_name, evaluation_type)\n",
    "divider = CyclesDivider(exercise_name, evaluation_type)\n",
    "cycles = divider.get_cycles(video_path)\n",
    "sequential_data = divider.get_sequential_data(cycles)"
   ]
  },
  {
   "cell_type": "code",
   "execution_count": 6,
   "id": "bfd7127f",
   "metadata": {},
   "outputs": [
    {
     "name": "stdout",
     "output_type": "stream",
     "text": [
      "(150, 8)\n",
      "(150, 8)\n",
      "(150, 8)\n",
      "(150, 8)\n",
      "(150, 8)\n",
      "(150, 8)\n",
      "(150, 8)\n",
      "(150, 8)\n"
     ]
    }
   ],
   "source": [
    "for seq in sequential_data:\n",
    "    print(seq.shape)"
   ]
  },
  {
   "cell_type": "code",
   "execution_count": 13,
   "id": "66ece696",
   "metadata": {
    "scrolled": false
   },
   "outputs": [
    {
     "name": "stdout",
     "output_type": "stream",
     "text": [
      "\u001b[1m1/1\u001b[0m \u001b[32m━━━━━━━━━━━━━━━━━━━━\u001b[0m\u001b[37m\u001b[0m \u001b[1m0s\u001b[0m 62ms/step\n",
      "\u001b[1m1/1\u001b[0m \u001b[32m━━━━━━━━━━━━━━━━━━━━\u001b[0m\u001b[37m\u001b[0m \u001b[1m0s\u001b[0m 58ms/step\n",
      "\u001b[1m1/1\u001b[0m \u001b[32m━━━━━━━━━━━━━━━━━━━━\u001b[0m\u001b[37m\u001b[0m \u001b[1m0s\u001b[0m 47ms/step\n",
      "criteria1: 0.98545283\n",
      "criteria2: 0.8549764\n",
      "criteria3: 0.39167\n"
     ]
    }
   ],
   "source": [
    "get_predictions(predictor, sequential_data[7])"
   ]
  },
  {
   "cell_type": "code",
   "execution_count": null,
   "id": "f0d23992",
   "metadata": {},
   "outputs": [],
   "source": []
  }
 ],
 "metadata": {
  "kernelspec": {
   "display_name": "ai1",
   "language": "python",
   "name": "ai1"
  },
  "language_info": {
   "codemirror_mode": {
    "name": "ipython",
    "version": 3
   },
   "file_extension": ".py",
   "mimetype": "text/x-python",
   "name": "python",
   "nbconvert_exporter": "python",
   "pygments_lexer": "ipython3",
   "version": "3.9.18"
  }
 },
 "nbformat": 4,
 "nbformat_minor": 5
}
