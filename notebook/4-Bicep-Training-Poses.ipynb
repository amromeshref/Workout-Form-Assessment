{
 "cells": [
  {
   "cell_type": "markdown",
   "id": "49197a92",
   "metadata": {},
   "source": [
    "###### General Steps to Follow\n",
    "1. Importing Packages\n",
    "1. Criteria 1 - Poses\n",
    "1. Criteria 2 - Poses\n",
    "1. Criteria 3 - Poses\n",
    "1. Criteria 4 - Poses\n",
    "1. Full Test"
   ]
  },
  {
   "cell_type": "markdown",
   "id": "1d8f7f04",
   "metadata": {},
   "source": [
    "# -------------------------------------------------------------------------------------------------------------"
   ]
  },
  {
   "cell_type": "markdown",
   "id": "6a839b87",
   "metadata": {},
   "source": [
    "## 1) Importing Packages"
   ]
  },
  {
   "cell_type": "code",
   "execution_count": 1,
   "id": "e922d3aa",
   "metadata": {},
   "outputs": [
    {
     "name": "stderr",
     "output_type": "stream",
     "text": [
      "2024-04-27 21:03:47.178155: I tensorflow/core/platform/cpu_feature_guard.cc:210] This TensorFlow binary is optimized to use available CPU instructions in performance-critical operations.\n",
      "To enable the following instructions: AVX2 FMA, in other operations, rebuild TensorFlow with the appropriate compiler flags.\n",
      "2024-04-27 21:03:48.007245: W tensorflow/compiler/tf2tensorrt/utils/py_utils.cc:38] TF-TRT Warning: Could not find TensorRT\n"
     ]
    }
   ],
   "source": [
    "import numpy as np\n",
    "from tensorflow.keras.models import Sequential\n",
    "from tensorflow.keras.layers import Dense, BatchNormalization, GRU\n",
    "from sklearn.model_selection import train_test_split\n",
    "from sklearn.metrics import confusion_matrix\n",
    "from sklearn.metrics import accuracy_score\n",
    "from tensorflow.keras.optimizers import Adam\n",
    "from tensorflow.keras.losses import BinaryCrossentropy\n",
    "import tensorflow as tf"
   ]
  },
  {
   "cell_type": "markdown",
   "id": "c1cd4608",
   "metadata": {},
   "source": [
    "# -------------------------------------------------------------------------------------------------------------"
   ]
  },
  {
   "cell_type": "code",
   "execution_count": 2,
   "id": "653c0255",
   "metadata": {},
   "outputs": [],
   "source": [
    "def evaluate(output, y_true):\n",
    "    y_pred = np.zeros((output.shape[0],1), dtype = \"int\")\n",
    "    y_pred[(output > 0.5)] = 1\n",
    "    y_pred = y_pred.reshape(y_pred.shape[0])\n",
    "    print(\"accuracy =\", accuracy_score(y_true, y_pred))"
   ]
  },
  {
   "cell_type": "code",
   "execution_count": 9,
   "id": "c1655cb7",
   "metadata": {},
   "outputs": [],
   "source": [
    "def reshape_input_sequence(data, shape):\n",
    "    new_data = []\n",
    "    for training_example in data:\n",
    "        new_data.append(training_example[0:shape])\n",
    "    new_data = np.array(new_data)\n",
    "    return new_data"
   ]
  },
  {
   "cell_type": "markdown",
   "id": "fd397039",
   "metadata": {},
   "source": [
    "## 2) Criteria 1 - Poses"
   ]
  },
  {
   "cell_type": "markdown",
   "id": "e3002047",
   "metadata": {},
   "source": [
    "#### Loading training data"
   ]
  },
  {
   "cell_type": "code",
   "execution_count": 3,
   "id": "3250a80a",
   "metadata": {},
   "outputs": [],
   "source": [
    "criteria1_data_poses = np.load(\"../data/processed/bicep/poses/training_data_bicep_poses_criteria_1.npy\", allow_pickle = True)"
   ]
  },
  {
   "cell_type": "code",
   "execution_count": 4,
   "id": "b2245699",
   "metadata": {},
   "outputs": [
    {
     "data": {
      "text/plain": [
       "954"
      ]
     },
     "execution_count": 4,
     "metadata": {},
     "output_type": "execute_result"
    }
   ],
   "source": [
    "len(criteria1_data_poses)"
   ]
  },
  {
   "cell_type": "markdown",
   "id": "008162c4",
   "metadata": {},
   "source": [
    "#### Getting X_train, X_test, y_train, y_test"
   ]
  },
  {
   "cell_type": "code",
   "execution_count": 11,
   "id": "48f20591",
   "metadata": {},
   "outputs": [],
   "source": [
    "X = np.vstack(criteria1_data_poses[:, 0])\n",
    "y = np.vstack(criteria1_data_poses[:, 1])\n",
    "X_train_criteria1_poses, X_test_criteria1_poses, y_train_criteria1_poses, y_test_criteria1_poses = train_test_split(\n",
    "    X, y, test_size=0.2, random_state=42)"
   ]
  },
  {
   "cell_type": "code",
   "execution_count": 12,
   "id": "7a9c00d8",
   "metadata": {
    "scrolled": false
   },
   "outputs": [
    {
     "name": "stdout",
     "output_type": "stream",
     "text": [
      "X_train_criteria1_poses shape: (763, 600, 24)\n",
      "y_train_criteria1_poses shape: (763, 1)\n",
      "X_test_criteria1_poses shape: (191, 600, 24)\n",
      "y_test_criteria1_poses shape: (191, 1)\n"
     ]
    }
   ],
   "source": [
    "print(\"X_train_criteria1_poses shape:\", X_train_criteria1_poses.shape)\n",
    "print(\"y_train_criteria1_poses shape:\", y_train_criteria1_poses.shape)\n",
    "print(\"X_test_criteria1_poses shape:\", X_test_criteria1_poses.shape)\n",
    "print(\"y_test_criteria1_poses shape:\", y_test_criteria1_poses.shape)"
   ]
  },
  {
   "cell_type": "markdown",
   "id": "6aa2d95a",
   "metadata": {},
   "source": [
    "#### Reducing the length of the input sequence in X_train, X_test"
   ]
  },
  {
   "cell_type": "code",
   "execution_count": 13,
   "id": "9236e3a8",
   "metadata": {},
   "outputs": [
    {
     "name": "stdout",
     "output_type": "stream",
     "text": [
      "X_train_criteria1_poses shape: (763, 150, 24)\n",
      "y_train_criteria1_poses shape: (763, 1)\n",
      "X_test_criteria1_poses shape: (191, 150, 24)\n",
      "y_test_criteria1_poses shape: (191, 1)\n"
     ]
    }
   ],
   "source": [
    "new_length = 150\n",
    "X_train_criteria1_poses = reshape_input_sequence(X_train_criteria1_poses, new_length)\n",
    "X_test_criteria1_poses = reshape_input_sequence(X_test_criteria1_poses, new_length)\n",
    "print(\"X_train_criteria1_poses shape:\", X_train_criteria1_poses.shape)\n",
    "print(\"y_train_criteria1_poses shape:\", y_train_criteria1_poses.shape)\n",
    "print(\"X_test_criteria1_poses shape:\", X_test_criteria1_poses.shape)\n",
    "print(\"y_test_criteria1_poses shape:\", y_test_criteria1_poses.shape)"
   ]
  },
  {
   "cell_type": "markdown",
   "id": "9f4b1eda",
   "metadata": {},
   "source": [
    "#### Building and training the model"
   ]
  },
  {
   "cell_type": "code",
   "execution_count": 223,
   "id": "318929f4",
   "metadata": {},
   "outputs": [
    {
     "name": "stderr",
     "output_type": "stream",
     "text": [
      "/home/amro/anaconda3/envs/ai1/lib/python3.9/site-packages/keras/src/layers/rnn/rnn.py:204: UserWarning: Do not pass an `input_shape`/`input_dim` argument to a layer. When using Sequential models, prefer using an `Input(shape)` object as the first layer in the model instead.\n",
      "  super().__init__(**kwargs)\n"
     ]
    },
    {
     "data": {
      "text/html": [
       "<pre style=\"white-space:pre;overflow-x:auto;line-height:normal;font-family:Menlo,'DejaVu Sans Mono',consolas,'Courier New',monospace\"><span style=\"font-weight: bold\">Model: \"criteria1_poses_model\"</span>\n",
       "</pre>\n"
      ],
      "text/plain": [
       "\u001b[1mModel: \"criteria1_poses_model\"\u001b[0m\n"
      ]
     },
     "metadata": {},
     "output_type": "display_data"
    },
    {
     "data": {
      "text/html": [
       "<pre style=\"white-space:pre;overflow-x:auto;line-height:normal;font-family:Menlo,'DejaVu Sans Mono',consolas,'Courier New',monospace\">┏━━━━━━━━━━━━━━━━━━━━━━━━━━━━━━━━━┳━━━━━━━━━━━━━━━━━━━━━━━━┳━━━━━━━━━━━━━━━┓\n",
       "┃<span style=\"font-weight: bold\"> Layer (type)                    </span>┃<span style=\"font-weight: bold\"> Output Shape           </span>┃<span style=\"font-weight: bold\">       Param # </span>┃\n",
       "┡━━━━━━━━━━━━━━━━━━━━━━━━━━━━━━━━━╇━━━━━━━━━━━━━━━━━━━━━━━━╇━━━━━━━━━━━━━━━┩\n",
       "│ gru_94 (<span style=\"color: #0087ff; text-decoration-color: #0087ff\">GRU</span>)                    │ (<span style=\"color: #00d7ff; text-decoration-color: #00d7ff\">None</span>, <span style=\"color: #00af00; text-decoration-color: #00af00\">150</span>, <span style=\"color: #00af00; text-decoration-color: #00af00\">256</span>)       │       <span style=\"color: #00af00; text-decoration-color: #00af00\">216,576</span> │\n",
       "├─────────────────────────────────┼────────────────────────┼───────────────┤\n",
       "│ batch_normalization_96          │ (<span style=\"color: #00d7ff; text-decoration-color: #00d7ff\">None</span>, <span style=\"color: #00af00; text-decoration-color: #00af00\">150</span>, <span style=\"color: #00af00; text-decoration-color: #00af00\">256</span>)       │         <span style=\"color: #00af00; text-decoration-color: #00af00\">1,024</span> │\n",
       "│ (<span style=\"color: #0087ff; text-decoration-color: #0087ff\">BatchNormalization</span>)            │                        │               │\n",
       "├─────────────────────────────────┼────────────────────────┼───────────────┤\n",
       "│ gru_95 (<span style=\"color: #0087ff; text-decoration-color: #0087ff\">GRU</span>)                    │ (<span style=\"color: #00d7ff; text-decoration-color: #00d7ff\">None</span>, <span style=\"color: #00af00; text-decoration-color: #00af00\">150</span>, <span style=\"color: #00af00; text-decoration-color: #00af00\">128</span>)       │       <span style=\"color: #00af00; text-decoration-color: #00af00\">148,224</span> │\n",
       "├─────────────────────────────────┼────────────────────────┼───────────────┤\n",
       "│ batch_normalization_97          │ (<span style=\"color: #00d7ff; text-decoration-color: #00d7ff\">None</span>, <span style=\"color: #00af00; text-decoration-color: #00af00\">150</span>, <span style=\"color: #00af00; text-decoration-color: #00af00\">128</span>)       │           <span style=\"color: #00af00; text-decoration-color: #00af00\">512</span> │\n",
       "│ (<span style=\"color: #0087ff; text-decoration-color: #0087ff\">BatchNormalization</span>)            │                        │               │\n",
       "├─────────────────────────────────┼────────────────────────┼───────────────┤\n",
       "│ gru_96 (<span style=\"color: #0087ff; text-decoration-color: #0087ff\">GRU</span>)                    │ (<span style=\"color: #00d7ff; text-decoration-color: #00d7ff\">None</span>, <span style=\"color: #00af00; text-decoration-color: #00af00\">150</span>, <span style=\"color: #00af00; text-decoration-color: #00af00\">64</span>)        │        <span style=\"color: #00af00; text-decoration-color: #00af00\">37,248</span> │\n",
       "├─────────────────────────────────┼────────────────────────┼───────────────┤\n",
       "│ batch_normalization_98          │ (<span style=\"color: #00d7ff; text-decoration-color: #00d7ff\">None</span>, <span style=\"color: #00af00; text-decoration-color: #00af00\">150</span>, <span style=\"color: #00af00; text-decoration-color: #00af00\">64</span>)        │           <span style=\"color: #00af00; text-decoration-color: #00af00\">256</span> │\n",
       "│ (<span style=\"color: #0087ff; text-decoration-color: #0087ff\">BatchNormalization</span>)            │                        │               │\n",
       "├─────────────────────────────────┼────────────────────────┼───────────────┤\n",
       "│ gru_97 (<span style=\"color: #0087ff; text-decoration-color: #0087ff\">GRU</span>)                    │ (<span style=\"color: #00d7ff; text-decoration-color: #00d7ff\">None</span>, <span style=\"color: #00af00; text-decoration-color: #00af00\">32</span>)             │         <span style=\"color: #00af00; text-decoration-color: #00af00\">9,408</span> │\n",
       "├─────────────────────────────────┼────────────────────────┼───────────────┤\n",
       "│ batch_normalization_99          │ (<span style=\"color: #00d7ff; text-decoration-color: #00d7ff\">None</span>, <span style=\"color: #00af00; text-decoration-color: #00af00\">32</span>)             │           <span style=\"color: #00af00; text-decoration-color: #00af00\">128</span> │\n",
       "│ (<span style=\"color: #0087ff; text-decoration-color: #0087ff\">BatchNormalization</span>)            │                        │               │\n",
       "├─────────────────────────────────┼────────────────────────┼───────────────┤\n",
       "│ dense_26 (<span style=\"color: #0087ff; text-decoration-color: #0087ff\">Dense</span>)                │ (<span style=\"color: #00d7ff; text-decoration-color: #00d7ff\">None</span>, <span style=\"color: #00af00; text-decoration-color: #00af00\">1</span>)              │            <span style=\"color: #00af00; text-decoration-color: #00af00\">33</span> │\n",
       "└─────────────────────────────────┴────────────────────────┴───────────────┘\n",
       "</pre>\n"
      ],
      "text/plain": [
       "┏━━━━━━━━━━━━━━━━━━━━━━━━━━━━━━━━━┳━━━━━━━━━━━━━━━━━━━━━━━━┳━━━━━━━━━━━━━━━┓\n",
       "┃\u001b[1m \u001b[0m\u001b[1mLayer (type)                   \u001b[0m\u001b[1m \u001b[0m┃\u001b[1m \u001b[0m\u001b[1mOutput Shape          \u001b[0m\u001b[1m \u001b[0m┃\u001b[1m \u001b[0m\u001b[1m      Param #\u001b[0m\u001b[1m \u001b[0m┃\n",
       "┡━━━━━━━━━━━━━━━━━━━━━━━━━━━━━━━━━╇━━━━━━━━━━━━━━━━━━━━━━━━╇━━━━━━━━━━━━━━━┩\n",
       "│ gru_94 (\u001b[38;5;33mGRU\u001b[0m)                    │ (\u001b[38;5;45mNone\u001b[0m, \u001b[38;5;34m150\u001b[0m, \u001b[38;5;34m256\u001b[0m)       │       \u001b[38;5;34m216,576\u001b[0m │\n",
       "├─────────────────────────────────┼────────────────────────┼───────────────┤\n",
       "│ batch_normalization_96          │ (\u001b[38;5;45mNone\u001b[0m, \u001b[38;5;34m150\u001b[0m, \u001b[38;5;34m256\u001b[0m)       │         \u001b[38;5;34m1,024\u001b[0m │\n",
       "│ (\u001b[38;5;33mBatchNormalization\u001b[0m)            │                        │               │\n",
       "├─────────────────────────────────┼────────────────────────┼───────────────┤\n",
       "│ gru_95 (\u001b[38;5;33mGRU\u001b[0m)                    │ (\u001b[38;5;45mNone\u001b[0m, \u001b[38;5;34m150\u001b[0m, \u001b[38;5;34m128\u001b[0m)       │       \u001b[38;5;34m148,224\u001b[0m │\n",
       "├─────────────────────────────────┼────────────────────────┼───────────────┤\n",
       "│ batch_normalization_97          │ (\u001b[38;5;45mNone\u001b[0m, \u001b[38;5;34m150\u001b[0m, \u001b[38;5;34m128\u001b[0m)       │           \u001b[38;5;34m512\u001b[0m │\n",
       "│ (\u001b[38;5;33mBatchNormalization\u001b[0m)            │                        │               │\n",
       "├─────────────────────────────────┼────────────────────────┼───────────────┤\n",
       "│ gru_96 (\u001b[38;5;33mGRU\u001b[0m)                    │ (\u001b[38;5;45mNone\u001b[0m, \u001b[38;5;34m150\u001b[0m, \u001b[38;5;34m64\u001b[0m)        │        \u001b[38;5;34m37,248\u001b[0m │\n",
       "├─────────────────────────────────┼────────────────────────┼───────────────┤\n",
       "│ batch_normalization_98          │ (\u001b[38;5;45mNone\u001b[0m, \u001b[38;5;34m150\u001b[0m, \u001b[38;5;34m64\u001b[0m)        │           \u001b[38;5;34m256\u001b[0m │\n",
       "│ (\u001b[38;5;33mBatchNormalization\u001b[0m)            │                        │               │\n",
       "├─────────────────────────────────┼────────────────────────┼───────────────┤\n",
       "│ gru_97 (\u001b[38;5;33mGRU\u001b[0m)                    │ (\u001b[38;5;45mNone\u001b[0m, \u001b[38;5;34m32\u001b[0m)             │         \u001b[38;5;34m9,408\u001b[0m │\n",
       "├─────────────────────────────────┼────────────────────────┼───────────────┤\n",
       "│ batch_normalization_99          │ (\u001b[38;5;45mNone\u001b[0m, \u001b[38;5;34m32\u001b[0m)             │           \u001b[38;5;34m128\u001b[0m │\n",
       "│ (\u001b[38;5;33mBatchNormalization\u001b[0m)            │                        │               │\n",
       "├─────────────────────────────────┼────────────────────────┼───────────────┤\n",
       "│ dense_26 (\u001b[38;5;33mDense\u001b[0m)                │ (\u001b[38;5;45mNone\u001b[0m, \u001b[38;5;34m1\u001b[0m)              │            \u001b[38;5;34m33\u001b[0m │\n",
       "└─────────────────────────────────┴────────────────────────┴───────────────┘\n"
      ]
     },
     "metadata": {},
     "output_type": "display_data"
    },
    {
     "data": {
      "text/html": [
       "<pre style=\"white-space:pre;overflow-x:auto;line-height:normal;font-family:Menlo,'DejaVu Sans Mono',consolas,'Courier New',monospace\"><span style=\"font-weight: bold\"> Total params: </span><span style=\"color: #00af00; text-decoration-color: #00af00\">413,409</span> (1.58 MB)\n",
       "</pre>\n"
      ],
      "text/plain": [
       "\u001b[1m Total params: \u001b[0m\u001b[38;5;34m413,409\u001b[0m (1.58 MB)\n"
      ]
     },
     "metadata": {},
     "output_type": "display_data"
    },
    {
     "data": {
      "text/html": [
       "<pre style=\"white-space:pre;overflow-x:auto;line-height:normal;font-family:Menlo,'DejaVu Sans Mono',consolas,'Courier New',monospace\"><span style=\"font-weight: bold\"> Trainable params: </span><span style=\"color: #00af00; text-decoration-color: #00af00\">412,449</span> (1.57 MB)\n",
       "</pre>\n"
      ],
      "text/plain": [
       "\u001b[1m Trainable params: \u001b[0m\u001b[38;5;34m412,449\u001b[0m (1.57 MB)\n"
      ]
     },
     "metadata": {},
     "output_type": "display_data"
    },
    {
     "data": {
      "text/html": [
       "<pre style=\"white-space:pre;overflow-x:auto;line-height:normal;font-family:Menlo,'DejaVu Sans Mono',consolas,'Courier New',monospace\"><span style=\"font-weight: bold\"> Non-trainable params: </span><span style=\"color: #00af00; text-decoration-color: #00af00\">960</span> (3.75 KB)\n",
       "</pre>\n"
      ],
      "text/plain": [
       "\u001b[1m Non-trainable params: \u001b[0m\u001b[38;5;34m960\u001b[0m (3.75 KB)\n"
      ]
     },
     "metadata": {},
     "output_type": "display_data"
    }
   ],
   "source": [
    "criteria1_poses_model = Sequential(\n",
    "    [\n",
    "        GRU(units=256, input_shape=(X_train_criteria1_poses.shape[1], X_train_criteria1_poses.shape[2]), return_sequences=True),\n",
    "        #LSTM(units = 1024, return_sequences=True),\n",
    "        #BatchNormalization(),\n",
    "        #LSTM(units = 512, return_sequences=True),\n",
    "        BatchNormalization(),\n",
    "        #GRU(units = 256, return_sequences=True),\n",
    "        #BatchNormalization(),\n",
    "        #GRU(units = 256, return_sequences=True),\n",
    "        #BatchNormalization(),\n",
    "        GRU(units = 128, return_sequences=True),\n",
    "        BatchNormalization(),\n",
    "        GRU(units = 64, return_sequences=True),\n",
    "        BatchNormalization(),\n",
    "        GRU(units = 32),\n",
    "        BatchNormalization(),\n",
    "        #Dense(256, activation = \"relu\"),\n",
    "        #BatchNormalization(),\n",
    "        #Dense(128, activation = \"relu\"),\n",
    "        #BatchNormalization(),\n",
    "        #Dense(64, activation = \"relu\"),\n",
    "         #BatchNormalization(),\n",
    "        Dense(1, activation = \"linear\")\n",
    "    ], \n",
    "    name=\"criteria1_poses_model\"\n",
    ")\n",
    "\n",
    "criteria1_poses_model.summary()"
   ]
  },
  {
   "cell_type": "code",
   "execution_count": 259,
   "id": "72b2a8c1",
   "metadata": {},
   "outputs": [],
   "source": [
    "criteria1_poses_model.compile(metrics = ['accuracy'], \n",
    "                               optimizer = Adam(learning_rate = 0.0001),\n",
    "                              loss = BinaryCrossentropy(from_logits = True))"
   ]
  },
  {
   "cell_type": "code",
   "execution_count": 267,
   "id": "5a9684dc",
   "metadata": {
    "scrolled": true
   },
   "outputs": [],
   "source": [
    "criteria1_poses_model.fit(X_train_criteria1_poses, y_train_criteria1_poses, epochs = 10, batch_size = 32)"
   ]
  },
  {
   "cell_type": "markdown",
   "id": "de242d59",
   "metadata": {},
   "source": [
    "#### Saving the model"
   ]
  },
  {
   "cell_type": "code",
   "execution_count": 264,
   "id": "22934061",
   "metadata": {},
   "outputs": [
    {
     "name": "stderr",
     "output_type": "stream",
     "text": [
      "WARNING:absl:You are saving your model as an HDF5 file via `model.save()` or `keras.saving.save_model(model)`. This file format is considered legacy. We recommend using instead the native Keras format, e.g. `model.save('my_model.keras')` or `keras.saving.save_model(model, 'my_model.keras')`. \n"
     ]
    }
   ],
   "source": [
    "criteria1_poses_model.save(\"../models/other/bicep/poses/bicep_criteria1_poses_model_v4.h5\")"
   ]
  },
  {
   "cell_type": "markdown",
   "id": "8c8c0702",
   "metadata": {},
   "source": [
    "#### Loading the model"
   ]
  },
  {
   "cell_type": "code",
   "execution_count": 256,
   "id": "7100c6b8",
   "metadata": {},
   "outputs": [
    {
     "name": "stderr",
     "output_type": "stream",
     "text": [
      "WARNING:absl:Compiled the loaded model, but the compiled metrics have yet to be built. `model.compile_metrics` will be empty until you train or evaluate the model.\n"
     ]
    }
   ],
   "source": [
    "criteria1_poses_model = tf.keras.models.load_model(\"../models/other/bicep/poses/bicep_criteria1_poses_model_v2.h5\")"
   ]
  },
  {
   "cell_type": "markdown",
   "id": "586c2a67",
   "metadata": {},
   "source": [
    "#### Evaluating the model"
   ]
  },
  {
   "cell_type": "markdown",
   "id": "bf8d50ec",
   "metadata": {},
   "source": [
    "###### Train Data"
   ]
  },
  {
   "cell_type": "code",
   "execution_count": 262,
   "id": "b158795f",
   "metadata": {
    "scrolled": false
   },
   "outputs": [
    {
     "name": "stdout",
     "output_type": "stream",
     "text": [
      "\u001b[1m24/24\u001b[0m \u001b[32m━━━━━━━━━━━━━━━━━━━━\u001b[0m\u001b[37m\u001b[0m \u001b[1m3s\u001b[0m 118ms/step\n",
      "accuracy = 0.9882044560943644\n"
     ]
    }
   ],
   "source": [
    "y_pred = criteria1_poses_model.predict(X_train_criteria1_poses)\n",
    "y_pred = tf.nn.sigmoid(y_pred)\n",
    "evaluate(y_pred, y_train_criteria1_poses)"
   ]
  },
  {
   "cell_type": "markdown",
   "id": "48c40fc2",
   "metadata": {},
   "source": [
    "###### Test Data"
   ]
  },
  {
   "cell_type": "code",
   "execution_count": 261,
   "id": "c1b08fdc",
   "metadata": {
    "scrolled": true
   },
   "outputs": [
    {
     "name": "stdout",
     "output_type": "stream",
     "text": [
      "\u001b[1m6/6\u001b[0m \u001b[32m━━━━━━━━━━━━━━━━━━━━\u001b[0m\u001b[37m\u001b[0m \u001b[1m1s\u001b[0m 174ms/step\n",
      "accuracy = 0.9633507853403142\n"
     ]
    }
   ],
   "source": [
    "y_pred = criteria1_poses_model.predict(X_test_criteria1_poses)\n",
    "y_pred = tf.nn.sigmoid(y_pred)\n",
    "evaluate(y_pred, y_test_criteria1_poses)"
   ]
  },
  {
   "cell_type": "markdown",
   "id": "34df49b7",
   "metadata": {},
   "source": [
    "# -------------------------------------------------------------------------------------------------------------"
   ]
  },
  {
   "cell_type": "markdown",
   "id": "fd21aa89",
   "metadata": {},
   "source": [
    "## 3) Criteria 2 - Poses"
   ]
  },
  {
   "cell_type": "markdown",
   "id": "e2aa501e",
   "metadata": {},
   "source": [
    "#### Loading training data"
   ]
  },
  {
   "cell_type": "code",
   "execution_count": 265,
   "id": "0106fce6",
   "metadata": {},
   "outputs": [],
   "source": [
    "criteria2_data_poses = np.load(\"../data/processed/bicep/poses/training_data_bicep_poses_criteria_2.npy\", allow_pickle = True)"
   ]
  },
  {
   "cell_type": "code",
   "execution_count": 266,
   "id": "ed9ae8d6",
   "metadata": {},
   "outputs": [
    {
     "data": {
      "text/plain": [
       "1064"
      ]
     },
     "execution_count": 266,
     "metadata": {},
     "output_type": "execute_result"
    }
   ],
   "source": [
    "len(criteria2_data_poses)"
   ]
  },
  {
   "cell_type": "markdown",
   "id": "497250b3",
   "metadata": {},
   "source": [
    "#### Getting X_train, X_test, y_train, y_test"
   ]
  },
  {
   "cell_type": "code",
   "execution_count": 268,
   "id": "f18f7459",
   "metadata": {},
   "outputs": [],
   "source": [
    "X = np.vstack(criteria2_data_poses[:, 0])\n",
    "y = np.vstack(criteria2_data_poses[:, 1])\n",
    "X_train_criteria2_poses, X_test_criteria2_poses, y_train_criteria2_poses, y_test_criteria2_poses = train_test_split(\n",
    "    X, y, test_size=0.2, random_state=42)"
   ]
  },
  {
   "cell_type": "code",
   "execution_count": 269,
   "id": "37ac90fd",
   "metadata": {
    "scrolled": true
   },
   "outputs": [
    {
     "name": "stdout",
     "output_type": "stream",
     "text": [
      "X_train_criteria2_poses shape: (851, 600, 24)\n",
      "y_train_criteria2_poses shape: (851, 1)\n",
      "X_test_criteria2_poses shape: (213, 600, 24)\n",
      "y_test_criteria2_poses shape: (213, 1)\n"
     ]
    }
   ],
   "source": [
    "print(\"X_train_criteria2_poses shape:\", X_train_criteria2_poses.shape)\n",
    "print(\"y_train_criteria2_poses shape:\", y_train_criteria2_poses.shape)\n",
    "print(\"X_test_criteria2_poses shape:\", X_test_criteria2_poses.shape)\n",
    "print(\"y_test_criteria2_poses shape:\", y_test_criteria2_poses.shape)"
   ]
  },
  {
   "cell_type": "markdown",
   "id": "20035518",
   "metadata": {},
   "source": [
    "#### Reducing the length of the input sequence in X_train, X_test"
   ]
  },
  {
   "cell_type": "code",
   "execution_count": 270,
   "id": "d290d472",
   "metadata": {},
   "outputs": [
    {
     "name": "stdout",
     "output_type": "stream",
     "text": [
      "X_train_criteria2_poses shape: (851, 150, 24)\n",
      "y_train_criteria2_poses shape: (851, 1)\n",
      "X_test_criteria2_poses shape: (213, 150, 24)\n",
      "y_test_criteria2_poses shape: (213, 1)\n"
     ]
    }
   ],
   "source": [
    "new_length = 150\n",
    "X_train_criteria2_poses = reshape_input_sequence(X_train_criteria2_poses, new_length)\n",
    "X_test_criteria2_poses = reshape_input_sequence(X_test_criteria2_poses, new_length)\n",
    "print(\"X_train_criteria2_poses shape:\", X_train_criteria2_poses.shape)\n",
    "print(\"y_train_criteria2_poses shape:\", y_train_criteria2_poses.shape)\n",
    "print(\"X_test_criteria2_poses shape:\", X_test_criteria2_poses.shape)\n",
    "print(\"y_test_criteria2_poses shape:\", y_test_criteria2_poses.shape)"
   ]
  },
  {
   "cell_type": "markdown",
   "id": "5704720b",
   "metadata": {},
   "source": [
    "#### Building and training the model"
   ]
  },
  {
   "cell_type": "code",
   "execution_count": 271,
   "id": "b19bbe73",
   "metadata": {},
   "outputs": [
    {
     "name": "stderr",
     "output_type": "stream",
     "text": [
      "/home/amro/anaconda3/envs/ai1/lib/python3.9/site-packages/keras/src/layers/rnn/rnn.py:204: UserWarning: Do not pass an `input_shape`/`input_dim` argument to a layer. When using Sequential models, prefer using an `Input(shape)` object as the first layer in the model instead.\n",
      "  super().__init__(**kwargs)\n"
     ]
    },
    {
     "data": {
      "text/html": [
       "<pre style=\"white-space:pre;overflow-x:auto;line-height:normal;font-family:Menlo,'DejaVu Sans Mono',consolas,'Courier New',monospace\"><span style=\"font-weight: bold\">Model: \"criteria2_poses_model\"</span>\n",
       "</pre>\n"
      ],
      "text/plain": [
       "\u001b[1mModel: \"criteria2_poses_model\"\u001b[0m\n"
      ]
     },
     "metadata": {},
     "output_type": "display_data"
    },
    {
     "data": {
      "text/html": [
       "<pre style=\"white-space:pre;overflow-x:auto;line-height:normal;font-family:Menlo,'DejaVu Sans Mono',consolas,'Courier New',monospace\">┏━━━━━━━━━━━━━━━━━━━━━━━━━━━━━━━━━┳━━━━━━━━━━━━━━━━━━━━━━━━┳━━━━━━━━━━━━━━━┓\n",
       "┃<span style=\"font-weight: bold\"> Layer (type)                    </span>┃<span style=\"font-weight: bold\"> Output Shape           </span>┃<span style=\"font-weight: bold\">       Param # </span>┃\n",
       "┡━━━━━━━━━━━━━━━━━━━━━━━━━━━━━━━━━╇━━━━━━━━━━━━━━━━━━━━━━━━╇━━━━━━━━━━━━━━━┩\n",
       "│ gru_98 (<span style=\"color: #0087ff; text-decoration-color: #0087ff\">GRU</span>)                    │ (<span style=\"color: #00d7ff; text-decoration-color: #00d7ff\">None</span>, <span style=\"color: #00af00; text-decoration-color: #00af00\">150</span>, <span style=\"color: #00af00; text-decoration-color: #00af00\">200</span>)       │       <span style=\"color: #00af00; text-decoration-color: #00af00\">135,600</span> │\n",
       "├─────────────────────────────────┼────────────────────────┼───────────────┤\n",
       "│ batch_normalization_100         │ (<span style=\"color: #00d7ff; text-decoration-color: #00d7ff\">None</span>, <span style=\"color: #00af00; text-decoration-color: #00af00\">150</span>, <span style=\"color: #00af00; text-decoration-color: #00af00\">200</span>)       │           <span style=\"color: #00af00; text-decoration-color: #00af00\">800</span> │\n",
       "│ (<span style=\"color: #0087ff; text-decoration-color: #0087ff\">BatchNormalization</span>)            │                        │               │\n",
       "├─────────────────────────────────┼────────────────────────┼───────────────┤\n",
       "│ gru_99 (<span style=\"color: #0087ff; text-decoration-color: #0087ff\">GRU</span>)                    │ (<span style=\"color: #00d7ff; text-decoration-color: #00d7ff\">None</span>, <span style=\"color: #00af00; text-decoration-color: #00af00\">150</span>, <span style=\"color: #00af00; text-decoration-color: #00af00\">128</span>)       │       <span style=\"color: #00af00; text-decoration-color: #00af00\">126,720</span> │\n",
       "├─────────────────────────────────┼────────────────────────┼───────────────┤\n",
       "│ batch_normalization_101         │ (<span style=\"color: #00d7ff; text-decoration-color: #00d7ff\">None</span>, <span style=\"color: #00af00; text-decoration-color: #00af00\">150</span>, <span style=\"color: #00af00; text-decoration-color: #00af00\">128</span>)       │           <span style=\"color: #00af00; text-decoration-color: #00af00\">512</span> │\n",
       "│ (<span style=\"color: #0087ff; text-decoration-color: #0087ff\">BatchNormalization</span>)            │                        │               │\n",
       "├─────────────────────────────────┼────────────────────────┼───────────────┤\n",
       "│ gru_100 (<span style=\"color: #0087ff; text-decoration-color: #0087ff\">GRU</span>)                   │ (<span style=\"color: #00d7ff; text-decoration-color: #00d7ff\">None</span>, <span style=\"color: #00af00; text-decoration-color: #00af00\">150</span>, <span style=\"color: #00af00; text-decoration-color: #00af00\">128</span>)       │        <span style=\"color: #00af00; text-decoration-color: #00af00\">99,072</span> │\n",
       "├─────────────────────────────────┼────────────────────────┼───────────────┤\n",
       "│ batch_normalization_102         │ (<span style=\"color: #00d7ff; text-decoration-color: #00d7ff\">None</span>, <span style=\"color: #00af00; text-decoration-color: #00af00\">150</span>, <span style=\"color: #00af00; text-decoration-color: #00af00\">128</span>)       │           <span style=\"color: #00af00; text-decoration-color: #00af00\">512</span> │\n",
       "│ (<span style=\"color: #0087ff; text-decoration-color: #0087ff\">BatchNormalization</span>)            │                        │               │\n",
       "├─────────────────────────────────┼────────────────────────┼───────────────┤\n",
       "│ gru_101 (<span style=\"color: #0087ff; text-decoration-color: #0087ff\">GRU</span>)                   │ (<span style=\"color: #00d7ff; text-decoration-color: #00d7ff\">None</span>, <span style=\"color: #00af00; text-decoration-color: #00af00\">32</span>)             │        <span style=\"color: #00af00; text-decoration-color: #00af00\">15,552</span> │\n",
       "├─────────────────────────────────┼────────────────────────┼───────────────┤\n",
       "│ batch_normalization_103         │ (<span style=\"color: #00d7ff; text-decoration-color: #00d7ff\">None</span>, <span style=\"color: #00af00; text-decoration-color: #00af00\">32</span>)             │           <span style=\"color: #00af00; text-decoration-color: #00af00\">128</span> │\n",
       "│ (<span style=\"color: #0087ff; text-decoration-color: #0087ff\">BatchNormalization</span>)            │                        │               │\n",
       "├─────────────────────────────────┼────────────────────────┼───────────────┤\n",
       "│ dense_27 (<span style=\"color: #0087ff; text-decoration-color: #0087ff\">Dense</span>)                │ (<span style=\"color: #00d7ff; text-decoration-color: #00d7ff\">None</span>, <span style=\"color: #00af00; text-decoration-color: #00af00\">1</span>)              │            <span style=\"color: #00af00; text-decoration-color: #00af00\">33</span> │\n",
       "└─────────────────────────────────┴────────────────────────┴───────────────┘\n",
       "</pre>\n"
      ],
      "text/plain": [
       "┏━━━━━━━━━━━━━━━━━━━━━━━━━━━━━━━━━┳━━━━━━━━━━━━━━━━━━━━━━━━┳━━━━━━━━━━━━━━━┓\n",
       "┃\u001b[1m \u001b[0m\u001b[1mLayer (type)                   \u001b[0m\u001b[1m \u001b[0m┃\u001b[1m \u001b[0m\u001b[1mOutput Shape          \u001b[0m\u001b[1m \u001b[0m┃\u001b[1m \u001b[0m\u001b[1m      Param #\u001b[0m\u001b[1m \u001b[0m┃\n",
       "┡━━━━━━━━━━━━━━━━━━━━━━━━━━━━━━━━━╇━━━━━━━━━━━━━━━━━━━━━━━━╇━━━━━━━━━━━━━━━┩\n",
       "│ gru_98 (\u001b[38;5;33mGRU\u001b[0m)                    │ (\u001b[38;5;45mNone\u001b[0m, \u001b[38;5;34m150\u001b[0m, \u001b[38;5;34m200\u001b[0m)       │       \u001b[38;5;34m135,600\u001b[0m │\n",
       "├─────────────────────────────────┼────────────────────────┼───────────────┤\n",
       "│ batch_normalization_100         │ (\u001b[38;5;45mNone\u001b[0m, \u001b[38;5;34m150\u001b[0m, \u001b[38;5;34m200\u001b[0m)       │           \u001b[38;5;34m800\u001b[0m │\n",
       "│ (\u001b[38;5;33mBatchNormalization\u001b[0m)            │                        │               │\n",
       "├─────────────────────────────────┼────────────────────────┼───────────────┤\n",
       "│ gru_99 (\u001b[38;5;33mGRU\u001b[0m)                    │ (\u001b[38;5;45mNone\u001b[0m, \u001b[38;5;34m150\u001b[0m, \u001b[38;5;34m128\u001b[0m)       │       \u001b[38;5;34m126,720\u001b[0m │\n",
       "├─────────────────────────────────┼────────────────────────┼───────────────┤\n",
       "│ batch_normalization_101         │ (\u001b[38;5;45mNone\u001b[0m, \u001b[38;5;34m150\u001b[0m, \u001b[38;5;34m128\u001b[0m)       │           \u001b[38;5;34m512\u001b[0m │\n",
       "│ (\u001b[38;5;33mBatchNormalization\u001b[0m)            │                        │               │\n",
       "├─────────────────────────────────┼────────────────────────┼───────────────┤\n",
       "│ gru_100 (\u001b[38;5;33mGRU\u001b[0m)                   │ (\u001b[38;5;45mNone\u001b[0m, \u001b[38;5;34m150\u001b[0m, \u001b[38;5;34m128\u001b[0m)       │        \u001b[38;5;34m99,072\u001b[0m │\n",
       "├─────────────────────────────────┼────────────────────────┼───────────────┤\n",
       "│ batch_normalization_102         │ (\u001b[38;5;45mNone\u001b[0m, \u001b[38;5;34m150\u001b[0m, \u001b[38;5;34m128\u001b[0m)       │           \u001b[38;5;34m512\u001b[0m │\n",
       "│ (\u001b[38;5;33mBatchNormalization\u001b[0m)            │                        │               │\n",
       "├─────────────────────────────────┼────────────────────────┼───────────────┤\n",
       "│ gru_101 (\u001b[38;5;33mGRU\u001b[0m)                   │ (\u001b[38;5;45mNone\u001b[0m, \u001b[38;5;34m32\u001b[0m)             │        \u001b[38;5;34m15,552\u001b[0m │\n",
       "├─────────────────────────────────┼────────────────────────┼───────────────┤\n",
       "│ batch_normalization_103         │ (\u001b[38;5;45mNone\u001b[0m, \u001b[38;5;34m32\u001b[0m)             │           \u001b[38;5;34m128\u001b[0m │\n",
       "│ (\u001b[38;5;33mBatchNormalization\u001b[0m)            │                        │               │\n",
       "├─────────────────────────────────┼────────────────────────┼───────────────┤\n",
       "│ dense_27 (\u001b[38;5;33mDense\u001b[0m)                │ (\u001b[38;5;45mNone\u001b[0m, \u001b[38;5;34m1\u001b[0m)              │            \u001b[38;5;34m33\u001b[0m │\n",
       "└─────────────────────────────────┴────────────────────────┴───────────────┘\n"
      ]
     },
     "metadata": {},
     "output_type": "display_data"
    },
    {
     "data": {
      "text/html": [
       "<pre style=\"white-space:pre;overflow-x:auto;line-height:normal;font-family:Menlo,'DejaVu Sans Mono',consolas,'Courier New',monospace\"><span style=\"font-weight: bold\"> Total params: </span><span style=\"color: #00af00; text-decoration-color: #00af00\">378,929</span> (1.45 MB)\n",
       "</pre>\n"
      ],
      "text/plain": [
       "\u001b[1m Total params: \u001b[0m\u001b[38;5;34m378,929\u001b[0m (1.45 MB)\n"
      ]
     },
     "metadata": {},
     "output_type": "display_data"
    },
    {
     "data": {
      "text/html": [
       "<pre style=\"white-space:pre;overflow-x:auto;line-height:normal;font-family:Menlo,'DejaVu Sans Mono',consolas,'Courier New',monospace\"><span style=\"font-weight: bold\"> Trainable params: </span><span style=\"color: #00af00; text-decoration-color: #00af00\">377,953</span> (1.44 MB)\n",
       "</pre>\n"
      ],
      "text/plain": [
       "\u001b[1m Trainable params: \u001b[0m\u001b[38;5;34m377,953\u001b[0m (1.44 MB)\n"
      ]
     },
     "metadata": {},
     "output_type": "display_data"
    },
    {
     "data": {
      "text/html": [
       "<pre style=\"white-space:pre;overflow-x:auto;line-height:normal;font-family:Menlo,'DejaVu Sans Mono',consolas,'Courier New',monospace\"><span style=\"font-weight: bold\"> Non-trainable params: </span><span style=\"color: #00af00; text-decoration-color: #00af00\">976</span> (3.81 KB)\n",
       "</pre>\n"
      ],
      "text/plain": [
       "\u001b[1m Non-trainable params: \u001b[0m\u001b[38;5;34m976\u001b[0m (3.81 KB)\n"
      ]
     },
     "metadata": {},
     "output_type": "display_data"
    }
   ],
   "source": [
    "criteria2_poses_model = Sequential(\n",
    "    [\n",
    "        GRU(units=200, input_shape=(X_train_criteria2_poses.shape[1], X_train_criteria2_poses.shape[2]), return_sequences=True),\n",
    "        #LSTM(units = 1024, return_sequences=True),\n",
    "        #BatchNormalization(),\n",
    "        #LSTM(units = 512, return_sequences=True),\n",
    "        BatchNormalization(),\n",
    "        #GRU(units = 256, return_sequences=True),\n",
    "        #BatchNormalization(),\n",
    "        GRU(units = 128, return_sequences=True),\n",
    "        BatchNormalization(),\n",
    "        GRU(units = 128, return_sequences=True),\n",
    "        BatchNormalization(),\n",
    "        GRU(units = 32),\n",
    "        BatchNormalization(),\n",
    "#         Dense(256, activation = \"relu\"),\n",
    "#         #BatchNormalization(),\n",
    "#         Dense(128, activation = \"relu\"),\n",
    "#         #BatchNormalization(),\n",
    "#         Dense(64, activation = \"relu\"),\n",
    "#         #BatchNormalization(),\n",
    "        Dense(1, activation = \"linear\")\n",
    "    ], name = \"criteria2_poses_model\"\n",
    ")\n",
    "criteria2_poses_model.summary()"
   ]
  },
  {
   "cell_type": "code",
   "execution_count": 276,
   "id": "1768b1c0",
   "metadata": {},
   "outputs": [],
   "source": [
    "criteria2_poses_model.compile(metrics = ['accuracy'], \n",
    "                               optimizer = Adam(learning_rate = 0.001),\n",
    "                              loss = BinaryCrossentropy(from_logits = True))"
   ]
  },
  {
   "cell_type": "code",
   "execution_count": 328,
   "id": "13a83998",
   "metadata": {
    "scrolled": true
   },
   "outputs": [],
   "source": [
    "criteria2_poses_model.fit(X_train_criteria2_poses, y_train_criteria2_poses, epochs = 10, batch_size = 32)"
   ]
  },
  {
   "cell_type": "markdown",
   "id": "c11790cf",
   "metadata": {},
   "source": [
    "#### Saving the model"
   ]
  },
  {
   "cell_type": "code",
   "execution_count": 281,
   "id": "c47cbb44",
   "metadata": {},
   "outputs": [
    {
     "name": "stderr",
     "output_type": "stream",
     "text": [
      "WARNING:absl:You are saving your model as an HDF5 file via `model.save()` or `keras.saving.save_model(model)`. This file format is considered legacy. We recommend using instead the native Keras format, e.g. `model.save('my_model.keras')` or `keras.saving.save_model(model, 'my_model.keras')`. \n"
     ]
    }
   ],
   "source": [
    "criteria2_poses_model.save(\"../models/other/bicep/poses/bicep_criteria2_poses_model_v1.h5\")"
   ]
  },
  {
   "cell_type": "markdown",
   "id": "d8735754",
   "metadata": {},
   "source": [
    "#### Loading the model"
   ]
  },
  {
   "cell_type": "code",
   "execution_count": 283,
   "id": "892a31b2",
   "metadata": {},
   "outputs": [
    {
     "name": "stderr",
     "output_type": "stream",
     "text": [
      "WARNING:absl:Compiled the loaded model, but the compiled metrics have yet to be built. `model.compile_metrics` will be empty until you train or evaluate the model.\n"
     ]
    }
   ],
   "source": [
    "criteria2_poses_model = tf.keras.models.load_model(\"../models/other/bicep/poses/bicep_criteria2_poses_model_v1.h5\")"
   ]
  },
  {
   "cell_type": "markdown",
   "id": "98969d23",
   "metadata": {},
   "source": [
    "#### Evaluating the model"
   ]
  },
  {
   "cell_type": "markdown",
   "id": "15b2cd6d",
   "metadata": {},
   "source": [
    "###### Train Data"
   ]
  },
  {
   "cell_type": "code",
   "execution_count": 284,
   "id": "80dd5dcc",
   "metadata": {
    "scrolled": true
   },
   "outputs": [
    {
     "name": "stdout",
     "output_type": "stream",
     "text": [
      "\u001b[1m27/27\u001b[0m \u001b[32m━━━━━━━━━━━━━━━━━━━━\u001b[0m\u001b[37m\u001b[0m \u001b[1m4s\u001b[0m 133ms/step\n",
      "accuracy = 0.9494712103407755\n"
     ]
    }
   ],
   "source": [
    "y_pred = criteria2_poses_model.predict(X_train_criteria2_poses)\n",
    "y_pred = tf.nn.sigmoid(y_pred)\n",
    "evaluate(y_pred, y_train_criteria2_poses)"
   ]
  },
  {
   "cell_type": "markdown",
   "id": "a5322c2e",
   "metadata": {},
   "source": [
    "###### Test Data"
   ]
  },
  {
   "cell_type": "code",
   "execution_count": 285,
   "id": "95daf93a",
   "metadata": {
    "scrolled": true
   },
   "outputs": [
    {
     "name": "stdout",
     "output_type": "stream",
     "text": [
      "\u001b[1m7/7\u001b[0m \u001b[32m━━━━━━━━━━━━━━━━━━━━\u001b[0m\u001b[37m\u001b[0m \u001b[1m1s\u001b[0m 123ms/step\n",
      "accuracy = 0.9530516431924883\n"
     ]
    }
   ],
   "source": [
    "y_pred = criteria2_poses_model.predict(X_test_criteria2_poses)\n",
    "y_pred = tf.nn.sigmoid(y_pred)\n",
    "evaluate(y_pred, y_test_criteria2_poses)"
   ]
  },
  {
   "cell_type": "markdown",
   "id": "b9f3e780",
   "metadata": {},
   "source": [
    "# -------------------------------------------------------------------------------------------------------------"
   ]
  },
  {
   "cell_type": "markdown",
   "id": "7457b74a",
   "metadata": {},
   "source": [
    "## 4) Criteria 3 - Poses"
   ]
  },
  {
   "cell_type": "markdown",
   "id": "f64ccba7",
   "metadata": {},
   "source": [
    "#### Loading training data"
   ]
  },
  {
   "cell_type": "code",
   "execution_count": 286,
   "id": "9e74beab",
   "metadata": {},
   "outputs": [],
   "source": [
    "criteria3_data_poses = np.load(\"../data/processed/bicep/poses/training_data_bicep_poses_criteria_3.npy\", allow_pickle = True)"
   ]
  },
  {
   "cell_type": "code",
   "execution_count": 287,
   "id": "2875dfb3",
   "metadata": {},
   "outputs": [
    {
     "data": {
      "text/plain": [
       "767"
      ]
     },
     "execution_count": 287,
     "metadata": {},
     "output_type": "execute_result"
    }
   ],
   "source": [
    "len(criteria3_data_poses)"
   ]
  },
  {
   "cell_type": "markdown",
   "id": "fb3ef5da",
   "metadata": {},
   "source": [
    "#### Getting X_train, X_test, y_train, y_test"
   ]
  },
  {
   "cell_type": "code",
   "execution_count": 288,
   "id": "701cef9f",
   "metadata": {},
   "outputs": [],
   "source": [
    "X = np.vstack(criteria3_data_poses[:, 0])\n",
    "y = np.vstack(criteria3_data_poses[:, 1])\n",
    "X_train_criteria3_poses, X_test_criteria3_poses, y_train_criteria3_poses, y_test_criteria3_poses = train_test_split(\n",
    "    X, y, test_size=0.2, random_state=42)"
   ]
  },
  {
   "cell_type": "code",
   "execution_count": 289,
   "id": "0e271ce5",
   "metadata": {},
   "outputs": [
    {
     "name": "stdout",
     "output_type": "stream",
     "text": [
      "X_train_criteria3_poses shape: (613, 600, 24)\n",
      "y_train_criteria3_poses shape: (613, 1)\n",
      "X_test_criteria3_poses shape: (154, 600, 24)\n",
      "y_test_criteria3_poses shape: (154, 1)\n"
     ]
    }
   ],
   "source": [
    "print(\"X_train_criteria3_poses shape:\", X_train_criteria3_poses.shape)\n",
    "print(\"y_train_criteria3_poses shape:\", y_train_criteria3_poses.shape)\n",
    "print(\"X_test_criteria3_poses shape:\", X_test_criteria3_poses.shape)\n",
    "print(\"y_test_criteria3_poses shape:\", y_test_criteria3_poses.shape)"
   ]
  },
  {
   "cell_type": "markdown",
   "id": "504c8a57",
   "metadata": {},
   "source": [
    "#### Reducing the length of the input sequence in X_train, X_test"
   ]
  },
  {
   "cell_type": "code",
   "execution_count": 290,
   "id": "18e40e35",
   "metadata": {},
   "outputs": [
    {
     "name": "stdout",
     "output_type": "stream",
     "text": [
      "X_train_criteria3_poses shape: (613, 150, 24)\n",
      "y_train_criteria3_poses shape: (613, 1)\n",
      "X_test_criteria3_poses shape: (154, 150, 24)\n",
      "y_test_criteria3_poses shape: (154, 1)\n"
     ]
    }
   ],
   "source": [
    "new_length = 150\n",
    "X_train_criteria3_poses = reshape_input_sequence(X_train_criteria3_poses, new_length)\n",
    "X_test_criteria3_poses = reshape_input_sequence(X_test_criteria3_poses, new_length)\n",
    "print(\"X_train_criteria3_poses shape:\", X_train_criteria3_poses.shape)\n",
    "print(\"y_train_criteria3_poses shape:\", y_train_criteria3_poses.shape)\n",
    "print(\"X_test_criteria3_poses shape:\", X_test_criteria3_poses.shape)\n",
    "print(\"y_test_criteria3_poses shape:\", y_test_criteria3_poses.shape)"
   ]
  },
  {
   "cell_type": "markdown",
   "id": "216c631b",
   "metadata": {},
   "source": [
    "#### Building and training the model"
   ]
  },
  {
   "cell_type": "code",
   "execution_count": 339,
   "id": "523f6157",
   "metadata": {},
   "outputs": [
    {
     "name": "stderr",
     "output_type": "stream",
     "text": [
      "/home/amro/anaconda3/envs/ai1/lib/python3.9/site-packages/keras/src/layers/rnn/rnn.py:204: UserWarning: Do not pass an `input_shape`/`input_dim` argument to a layer. When using Sequential models, prefer using an `Input(shape)` object as the first layer in the model instead.\n",
      "  super().__init__(**kwargs)\n"
     ]
    },
    {
     "data": {
      "text/html": [
       "<pre style=\"white-space:pre;overflow-x:auto;line-height:normal;font-family:Menlo,'DejaVu Sans Mono',consolas,'Courier New',monospace\"><span style=\"font-weight: bold\">Model: \"criteria3_poses_model\"</span>\n",
       "</pre>\n"
      ],
      "text/plain": [
       "\u001b[1mModel: \"criteria3_poses_model\"\u001b[0m\n"
      ]
     },
     "metadata": {},
     "output_type": "display_data"
    },
    {
     "data": {
      "text/html": [
       "<pre style=\"white-space:pre;overflow-x:auto;line-height:normal;font-family:Menlo,'DejaVu Sans Mono',consolas,'Courier New',monospace\">┏━━━━━━━━━━━━━━━━━━━━━━━━━━━━━━━━━┳━━━━━━━━━━━━━━━━━━━━━━━━┳━━━━━━━━━━━━━━━┓\n",
       "┃<span style=\"font-weight: bold\"> Layer (type)                    </span>┃<span style=\"font-weight: bold\"> Output Shape           </span>┃<span style=\"font-weight: bold\">       Param # </span>┃\n",
       "┡━━━━━━━━━━━━━━━━━━━━━━━━━━━━━━━━━╇━━━━━━━━━━━━━━━━━━━━━━━━╇━━━━━━━━━━━━━━━┩\n",
       "│ gru_123 (<span style=\"color: #0087ff; text-decoration-color: #0087ff\">GRU</span>)                   │ (<span style=\"color: #00d7ff; text-decoration-color: #00d7ff\">None</span>, <span style=\"color: #00af00; text-decoration-color: #00af00\">150</span>, <span style=\"color: #00af00; text-decoration-color: #00af00\">256</span>)       │       <span style=\"color: #00af00; text-decoration-color: #00af00\">216,576</span> │\n",
       "├─────────────────────────────────┼────────────────────────┼───────────────┤\n",
       "│ batch_normalization_125         │ (<span style=\"color: #00d7ff; text-decoration-color: #00d7ff\">None</span>, <span style=\"color: #00af00; text-decoration-color: #00af00\">150</span>, <span style=\"color: #00af00; text-decoration-color: #00af00\">256</span>)       │         <span style=\"color: #00af00; text-decoration-color: #00af00\">1,024</span> │\n",
       "│ (<span style=\"color: #0087ff; text-decoration-color: #0087ff\">BatchNormalization</span>)            │                        │               │\n",
       "├─────────────────────────────────┼────────────────────────┼───────────────┤\n",
       "│ gru_124 (<span style=\"color: #0087ff; text-decoration-color: #0087ff\">GRU</span>)                   │ (<span style=\"color: #00d7ff; text-decoration-color: #00d7ff\">None</span>, <span style=\"color: #00af00; text-decoration-color: #00af00\">150</span>, <span style=\"color: #00af00; text-decoration-color: #00af00\">190</span>)       │       <span style=\"color: #00af00; text-decoration-color: #00af00\">255,360</span> │\n",
       "├─────────────────────────────────┼────────────────────────┼───────────────┤\n",
       "│ batch_normalization_126         │ (<span style=\"color: #00d7ff; text-decoration-color: #00d7ff\">None</span>, <span style=\"color: #00af00; text-decoration-color: #00af00\">150</span>, <span style=\"color: #00af00; text-decoration-color: #00af00\">190</span>)       │           <span style=\"color: #00af00; text-decoration-color: #00af00\">760</span> │\n",
       "│ (<span style=\"color: #0087ff; text-decoration-color: #0087ff\">BatchNormalization</span>)            │                        │               │\n",
       "├─────────────────────────────────┼────────────────────────┼───────────────┤\n",
       "│ gru_125 (<span style=\"color: #0087ff; text-decoration-color: #0087ff\">GRU</span>)                   │ (<span style=\"color: #00d7ff; text-decoration-color: #00d7ff\">None</span>, <span style=\"color: #00af00; text-decoration-color: #00af00\">150</span>, <span style=\"color: #00af00; text-decoration-color: #00af00\">64</span>)        │        <span style=\"color: #00af00; text-decoration-color: #00af00\">49,152</span> │\n",
       "├─────────────────────────────────┼────────────────────────┼───────────────┤\n",
       "│ batch_normalization_127         │ (<span style=\"color: #00d7ff; text-decoration-color: #00d7ff\">None</span>, <span style=\"color: #00af00; text-decoration-color: #00af00\">150</span>, <span style=\"color: #00af00; text-decoration-color: #00af00\">64</span>)        │           <span style=\"color: #00af00; text-decoration-color: #00af00\">256</span> │\n",
       "│ (<span style=\"color: #0087ff; text-decoration-color: #0087ff\">BatchNormalization</span>)            │                        │               │\n",
       "├─────────────────────────────────┼────────────────────────┼───────────────┤\n",
       "│ gru_126 (<span style=\"color: #0087ff; text-decoration-color: #0087ff\">GRU</span>)                   │ (<span style=\"color: #00d7ff; text-decoration-color: #00d7ff\">None</span>, <span style=\"color: #00af00; text-decoration-color: #00af00\">20</span>)             │         <span style=\"color: #00af00; text-decoration-color: #00af00\">5,160</span> │\n",
       "├─────────────────────────────────┼────────────────────────┼───────────────┤\n",
       "│ batch_normalization_128         │ (<span style=\"color: #00d7ff; text-decoration-color: #00d7ff\">None</span>, <span style=\"color: #00af00; text-decoration-color: #00af00\">20</span>)             │            <span style=\"color: #00af00; text-decoration-color: #00af00\">80</span> │\n",
       "│ (<span style=\"color: #0087ff; text-decoration-color: #0087ff\">BatchNormalization</span>)            │                        │               │\n",
       "├─────────────────────────────────┼────────────────────────┼───────────────┤\n",
       "│ dense_33 (<span style=\"color: #0087ff; text-decoration-color: #0087ff\">Dense</span>)                │ (<span style=\"color: #00d7ff; text-decoration-color: #00d7ff\">None</span>, <span style=\"color: #00af00; text-decoration-color: #00af00\">1</span>)              │            <span style=\"color: #00af00; text-decoration-color: #00af00\">21</span> │\n",
       "└─────────────────────────────────┴────────────────────────┴───────────────┘\n",
       "</pre>\n"
      ],
      "text/plain": [
       "┏━━━━━━━━━━━━━━━━━━━━━━━━━━━━━━━━━┳━━━━━━━━━━━━━━━━━━━━━━━━┳━━━━━━━━━━━━━━━┓\n",
       "┃\u001b[1m \u001b[0m\u001b[1mLayer (type)                   \u001b[0m\u001b[1m \u001b[0m┃\u001b[1m \u001b[0m\u001b[1mOutput Shape          \u001b[0m\u001b[1m \u001b[0m┃\u001b[1m \u001b[0m\u001b[1m      Param #\u001b[0m\u001b[1m \u001b[0m┃\n",
       "┡━━━━━━━━━━━━━━━━━━━━━━━━━━━━━━━━━╇━━━━━━━━━━━━━━━━━━━━━━━━╇━━━━━━━━━━━━━━━┩\n",
       "│ gru_123 (\u001b[38;5;33mGRU\u001b[0m)                   │ (\u001b[38;5;45mNone\u001b[0m, \u001b[38;5;34m150\u001b[0m, \u001b[38;5;34m256\u001b[0m)       │       \u001b[38;5;34m216,576\u001b[0m │\n",
       "├─────────────────────────────────┼────────────────────────┼───────────────┤\n",
       "│ batch_normalization_125         │ (\u001b[38;5;45mNone\u001b[0m, \u001b[38;5;34m150\u001b[0m, \u001b[38;5;34m256\u001b[0m)       │         \u001b[38;5;34m1,024\u001b[0m │\n",
       "│ (\u001b[38;5;33mBatchNormalization\u001b[0m)            │                        │               │\n",
       "├─────────────────────────────────┼────────────────────────┼───────────────┤\n",
       "│ gru_124 (\u001b[38;5;33mGRU\u001b[0m)                   │ (\u001b[38;5;45mNone\u001b[0m, \u001b[38;5;34m150\u001b[0m, \u001b[38;5;34m190\u001b[0m)       │       \u001b[38;5;34m255,360\u001b[0m │\n",
       "├─────────────────────────────────┼────────────────────────┼───────────────┤\n",
       "│ batch_normalization_126         │ (\u001b[38;5;45mNone\u001b[0m, \u001b[38;5;34m150\u001b[0m, \u001b[38;5;34m190\u001b[0m)       │           \u001b[38;5;34m760\u001b[0m │\n",
       "│ (\u001b[38;5;33mBatchNormalization\u001b[0m)            │                        │               │\n",
       "├─────────────────────────────────┼────────────────────────┼───────────────┤\n",
       "│ gru_125 (\u001b[38;5;33mGRU\u001b[0m)                   │ (\u001b[38;5;45mNone\u001b[0m, \u001b[38;5;34m150\u001b[0m, \u001b[38;5;34m64\u001b[0m)        │        \u001b[38;5;34m49,152\u001b[0m │\n",
       "├─────────────────────────────────┼────────────────────────┼───────────────┤\n",
       "│ batch_normalization_127         │ (\u001b[38;5;45mNone\u001b[0m, \u001b[38;5;34m150\u001b[0m, \u001b[38;5;34m64\u001b[0m)        │           \u001b[38;5;34m256\u001b[0m │\n",
       "│ (\u001b[38;5;33mBatchNormalization\u001b[0m)            │                        │               │\n",
       "├─────────────────────────────────┼────────────────────────┼───────────────┤\n",
       "│ gru_126 (\u001b[38;5;33mGRU\u001b[0m)                   │ (\u001b[38;5;45mNone\u001b[0m, \u001b[38;5;34m20\u001b[0m)             │         \u001b[38;5;34m5,160\u001b[0m │\n",
       "├─────────────────────────────────┼────────────────────────┼───────────────┤\n",
       "│ batch_normalization_128         │ (\u001b[38;5;45mNone\u001b[0m, \u001b[38;5;34m20\u001b[0m)             │            \u001b[38;5;34m80\u001b[0m │\n",
       "│ (\u001b[38;5;33mBatchNormalization\u001b[0m)            │                        │               │\n",
       "├─────────────────────────────────┼────────────────────────┼───────────────┤\n",
       "│ dense_33 (\u001b[38;5;33mDense\u001b[0m)                │ (\u001b[38;5;45mNone\u001b[0m, \u001b[38;5;34m1\u001b[0m)              │            \u001b[38;5;34m21\u001b[0m │\n",
       "└─────────────────────────────────┴────────────────────────┴───────────────┘\n"
      ]
     },
     "metadata": {},
     "output_type": "display_data"
    },
    {
     "data": {
      "text/html": [
       "<pre style=\"white-space:pre;overflow-x:auto;line-height:normal;font-family:Menlo,'DejaVu Sans Mono',consolas,'Courier New',monospace\"><span style=\"font-weight: bold\"> Total params: </span><span style=\"color: #00af00; text-decoration-color: #00af00\">528,389</span> (2.02 MB)\n",
       "</pre>\n"
      ],
      "text/plain": [
       "\u001b[1m Total params: \u001b[0m\u001b[38;5;34m528,389\u001b[0m (2.02 MB)\n"
      ]
     },
     "metadata": {},
     "output_type": "display_data"
    },
    {
     "data": {
      "text/html": [
       "<pre style=\"white-space:pre;overflow-x:auto;line-height:normal;font-family:Menlo,'DejaVu Sans Mono',consolas,'Courier New',monospace\"><span style=\"font-weight: bold\"> Trainable params: </span><span style=\"color: #00af00; text-decoration-color: #00af00\">527,329</span> (2.01 MB)\n",
       "</pre>\n"
      ],
      "text/plain": [
       "\u001b[1m Trainable params: \u001b[0m\u001b[38;5;34m527,329\u001b[0m (2.01 MB)\n"
      ]
     },
     "metadata": {},
     "output_type": "display_data"
    },
    {
     "data": {
      "text/html": [
       "<pre style=\"white-space:pre;overflow-x:auto;line-height:normal;font-family:Menlo,'DejaVu Sans Mono',consolas,'Courier New',monospace\"><span style=\"font-weight: bold\"> Non-trainable params: </span><span style=\"color: #00af00; text-decoration-color: #00af00\">1,060</span> (4.14 KB)\n",
       "</pre>\n"
      ],
      "text/plain": [
       "\u001b[1m Non-trainable params: \u001b[0m\u001b[38;5;34m1,060\u001b[0m (4.14 KB)\n"
      ]
     },
     "metadata": {},
     "output_type": "display_data"
    }
   ],
   "source": [
    "criteria3_poses_model = Sequential(\n",
    "    [\n",
    "        GRU(units=256, input_shape=(X_train_criteria3_poses.shape[1], X_train_criteria3_poses.shape[2]), return_sequences=True),\n",
    "        #LSTM(units = 1024, return_sequences=True),\n",
    "        #BatchNormalization(),\n",
    "        #LSTM(units = 512, return_sequences=True),\n",
    "        BatchNormalization(),\n",
    "        GRU(units = 190, return_sequences=True),\n",
    "        BatchNormalization(),\n",
    "        #GRU(units = 150, return_sequences=True),\n",
    "        #BatchNormalization(),\n",
    "        GRU(units = 64, return_sequences=True),\n",
    "        BatchNormalization(),\n",
    "        GRU(units = 20),\n",
    "        BatchNormalization(),\n",
    "#         Dense(256, activation = \"relu\"),\n",
    "#         #BatchNormalization(),\n",
    "#         Dense(128, activation = \"relu\"),\n",
    "#         #BatchNormalization(),\n",
    "#         Dense(64, activation = \"relu\"),\n",
    "#         #BatchNormalization(),\n",
    "        Dense(1, activation = \"linear\")\n",
    "    ], name = \"criteria3_poses_model\"\n",
    ")\n",
    "criteria3_poses_model.summary()"
   ]
  },
  {
   "cell_type": "code",
   "execution_count": 376,
   "id": "cdb14393",
   "metadata": {},
   "outputs": [],
   "source": [
    "criteria3_poses_model.compile(metrics = ['accuracy'], \n",
    "                               optimizer = Adam(learning_rate = 0.0000000001),\n",
    "                              loss = BinaryCrossentropy(from_logits = True))"
   ]
  },
  {
   "cell_type": "code",
   "execution_count": 1,
   "id": "c046a809",
   "metadata": {
    "scrolled": true
   },
   "outputs": [],
   "source": [
    "criteria3_poses_model.fit(X_train_criteria3_poses, y_train_criteria3_poses, epochs = 10, batch_size = 32)"
   ]
  },
  {
   "cell_type": "markdown",
   "id": "0f3f7ac6",
   "metadata": {},
   "source": [
    "#### Saving the model"
   ]
  },
  {
   "cell_type": "code",
   "execution_count": 375,
   "id": "cc354038",
   "metadata": {},
   "outputs": [
    {
     "name": "stderr",
     "output_type": "stream",
     "text": [
      "WARNING:absl:You are saving your model as an HDF5 file via `model.save()` or `keras.saving.save_model(model)`. This file format is considered legacy. We recommend using instead the native Keras format, e.g. `model.save('my_model.keras')` or `keras.saving.save_model(model, 'my_model.keras')`. \n"
     ]
    }
   ],
   "source": [
    "criteria3_poses_model.save(\"../models/other/bicep/poses/bicep_criteria3_poses_model_v2.h5\")"
   ]
  },
  {
   "cell_type": "markdown",
   "id": "62fbe77c",
   "metadata": {},
   "source": [
    "#### Loading the model"
   ]
  },
  {
   "cell_type": "code",
   "execution_count": null,
   "id": "4d26fe62",
   "metadata": {},
   "outputs": [],
   "source": [
    "criteria3_poses_model = load_model(\"../models/other/bicep/poses/bicep_criteria3_poses_model_v1.h5\")"
   ]
  },
  {
   "cell_type": "markdown",
   "id": "653c0d9d",
   "metadata": {},
   "source": [
    "#### Evaluating the model"
   ]
  },
  {
   "cell_type": "markdown",
   "id": "b2f5951f",
   "metadata": {},
   "source": [
    "###### Train Data"
   ]
  },
  {
   "cell_type": "code",
   "execution_count": 378,
   "id": "aeda4d8b",
   "metadata": {
    "scrolled": false
   },
   "outputs": [
    {
     "name": "stdout",
     "output_type": "stream",
     "text": [
      "\u001b[1m20/20\u001b[0m \u001b[32m━━━━━━━━━━━━━━━━━━━━\u001b[0m\u001b[37m\u001b[0m \u001b[1m3s\u001b[0m 142ms/step\n",
      "accuracy = 0.9314845024469821\n"
     ]
    }
   ],
   "source": [
    "y_pred = criteria3_poses_model.predict(X_train_criteria3_poses)\n",
    "y_pred = tf.nn.sigmoid(y_pred)\n",
    "evaluate(y_pred, y_train_criteria3_poses)"
   ]
  },
  {
   "cell_type": "markdown",
   "id": "d6f82cb8",
   "metadata": {},
   "source": [
    "###### Test Data"
   ]
  },
  {
   "cell_type": "code",
   "execution_count": 379,
   "id": "2032f422",
   "metadata": {
    "scrolled": false
   },
   "outputs": [
    {
     "name": "stdout",
     "output_type": "stream",
     "text": [
      "\u001b[1m5/5\u001b[0m \u001b[32m━━━━━━━━━━━━━━━━━━━━\u001b[0m\u001b[37m\u001b[0m \u001b[1m1s\u001b[0m 117ms/step\n",
      "accuracy = 0.8961038961038961\n"
     ]
    }
   ],
   "source": [
    "y_pred = criteria3_poses_model.predict(X_test_criteria3_poses)\n",
    "y_pred = tf.nn.sigmoid(y_pred)\n",
    "evaluate(y_pred, y_test_criteria3_poses)"
   ]
  },
  {
   "cell_type": "markdown",
   "id": "3f8a8afa",
   "metadata": {},
   "source": [
    "# -------------------------------------------------------------------------------------------------------------"
   ]
  },
  {
   "cell_type": "markdown",
   "id": "5a33a5a8",
   "metadata": {},
   "source": [
    "## 5) Criteria 4 - Poses"
   ]
  },
  {
   "cell_type": "markdown",
   "id": "cf3a484d",
   "metadata": {},
   "source": [
    "#### Loading training data"
   ]
  },
  {
   "cell_type": "code",
   "execution_count": 382,
   "id": "878a5e74",
   "metadata": {},
   "outputs": [],
   "source": [
    "criteria4_data_poses = np.load(\"../data/processed/bicep/poses/training_data_bicep_poses_criteria_4.npy\", allow_pickle = True)"
   ]
  },
  {
   "cell_type": "code",
   "execution_count": 383,
   "id": "9e25cf0f",
   "metadata": {},
   "outputs": [
    {
     "data": {
      "text/plain": [
       "803"
      ]
     },
     "execution_count": 383,
     "metadata": {},
     "output_type": "execute_result"
    }
   ],
   "source": [
    "len(criteria4_data_poses)"
   ]
  },
  {
   "cell_type": "markdown",
   "id": "9ebe313b",
   "metadata": {},
   "source": [
    "#### Getting X_train, X_test, y_train, y_test"
   ]
  },
  {
   "cell_type": "code",
   "execution_count": 384,
   "id": "9f5347bf",
   "metadata": {},
   "outputs": [],
   "source": [
    "X = np.vstack(criteria4_data_poses[:, 0])\n",
    "y = np.vstack(criteria4_data_poses[:, 1])\n",
    "X_train_criteria4_poses, X_test_criteria4_poses, y_train_criteria4_poses, y_test_criteria4_poses = train_test_split(\n",
    "    X, y, test_size=0.2, random_state=42)"
   ]
  },
  {
   "cell_type": "code",
   "execution_count": 385,
   "id": "bed09d9b",
   "metadata": {
    "scrolled": true
   },
   "outputs": [
    {
     "name": "stdout",
     "output_type": "stream",
     "text": [
      "X_train_criteria4_poses shape: (642, 600, 24)\n",
      "y_train_criteria4_poses shape: (642, 1)\n",
      "X_test_criteria4_poses shape: (161, 600, 24)\n",
      "y_test_criteria4_poses shape: (161, 1)\n"
     ]
    }
   ],
   "source": [
    "print(\"X_train_criteria4_poses shape:\", X_train_criteria4_poses.shape)\n",
    "print(\"y_train_criteria4_poses shape:\", y_train_criteria4_poses.shape)\n",
    "print(\"X_test_criteria4_poses shape:\", X_test_criteria4_poses.shape)\n",
    "print(\"y_test_criteria4_poses shape:\", y_test_criteria4_poses.shape)"
   ]
  },
  {
   "cell_type": "markdown",
   "id": "5b86847d",
   "metadata": {},
   "source": [
    "#### Reducing the length of the input sequence in X_train, X_test"
   ]
  },
  {
   "cell_type": "code",
   "execution_count": 386,
   "id": "fc14e94e",
   "metadata": {},
   "outputs": [
    {
     "name": "stdout",
     "output_type": "stream",
     "text": [
      "X_train_criteria4_poses shape: (642, 150, 24)\n",
      "y_train_criteria4_poses shape: (642, 1)\n",
      "X_test_criteria4_poses shape: (161, 150, 24)\n",
      "y_test_criteria4_poses shape: (161, 1)\n"
     ]
    }
   ],
   "source": [
    "new_length = 150\n",
    "X_train_criteria4_poses = reshape_input_sequence(X_train_criteria4_poses, new_length)\n",
    "X_test_criteria4_poses = reshape_input_sequence(X_test_criteria4_poses, new_length)\n",
    "print(\"X_train_criteria4_poses shape:\", X_train_criteria4_poses.shape)\n",
    "print(\"y_train_criteria4_poses shape:\", y_train_criteria4_poses.shape)\n",
    "print(\"X_test_criteria4_poses shape:\", X_test_criteria4_poses.shape)\n",
    "print(\"y_test_criteria4_poses shape:\", y_test_criteria4_poses.shape)"
   ]
  },
  {
   "cell_type": "markdown",
   "id": "c5555974",
   "metadata": {},
   "source": [
    "#### Building and training the model"
   ]
  },
  {
   "cell_type": "code",
   "execution_count": 50,
   "id": "ddab9615",
   "metadata": {},
   "outputs": [
    {
     "name": "stdout",
     "output_type": "stream",
     "text": [
      "Model: \"criteria4_poses_model\"\n",
      "_________________________________________________________________\n",
      " Layer (type)                Output Shape              Param #   \n",
      "=================================================================\n",
      " lstm_5 (LSTM)               (None, 50)                15000     \n",
      "                                                                 \n",
      " dense_5 (Dense)             (None, 1)                 51        \n",
      "                                                                 \n",
      "=================================================================\n",
      "Total params: 15051 (58.79 KB)\n",
      "Trainable params: 15051 (58.79 KB)\n",
      "Non-trainable params: 0 (0.00 Byte)\n",
      "_________________________________________________________________\n"
     ]
    }
   ],
   "source": [
    "criteria4_poses_model = Sequential(\n",
    "    [\n",
    "        LSTM(units=50, input_shape=(X_train_criteria4_poses.shape[1], X_train_criteria4_poses.shape[2])),\n",
    "        Dense(1, activation = \"sigmoid\")\n",
    "    ], name = \"criteria4_poses_model\"\n",
    ")\n",
    "criteria4_poses_model.summary()"
   ]
  },
  {
   "cell_type": "code",
   "execution_count": 51,
   "id": "f8aca016",
   "metadata": {},
   "outputs": [],
   "source": [
    "criteria4_poses_model.compile(optimizer='adam', loss='binary_crossentropy', metrics = ['accuracy'])"
   ]
  },
  {
   "cell_type": "code",
   "execution_count": 52,
   "id": "52d42917",
   "metadata": {
    "scrolled": true
   },
   "outputs": [
    {
     "name": "stdout",
     "output_type": "stream",
     "text": [
      "Epoch 1/10\n",
      "21/21 [==============================] - 5s 187ms/step - loss: 0.6757 - accuracy: 0.6262\n",
      "Epoch 2/10\n",
      "21/21 [==============================] - 4s 176ms/step - loss: 0.6660 - accuracy: 0.6262\n",
      "Epoch 3/10\n",
      "21/21 [==============================] - 4s 187ms/step - loss: 0.6621 - accuracy: 0.6262\n",
      "Epoch 4/10\n",
      "21/21 [==============================] - 4s 198ms/step - loss: 0.6622 - accuracy: 0.6262\n",
      "Epoch 5/10\n",
      "21/21 [==============================] - 4s 185ms/step - loss: 0.6621 - accuracy: 0.6262\n",
      "Epoch 6/10\n",
      "21/21 [==============================] - 4s 188ms/step - loss: 0.6619 - accuracy: 0.6262\n",
      "Epoch 7/10\n",
      "21/21 [==============================] - 4s 184ms/step - loss: 0.6655 - accuracy: 0.6262\n",
      "Epoch 8/10\n",
      "21/21 [==============================] - 4s 187ms/step - loss: 0.6626 - accuracy: 0.6262\n",
      "Epoch 9/10\n",
      "21/21 [==============================] - 4s 167ms/step - loss: 0.6621 - accuracy: 0.6262\n",
      "Epoch 10/10\n",
      "21/21 [==============================] - 4s 179ms/step - loss: 0.6617 - accuracy: 0.6262\n"
     ]
    },
    {
     "data": {
      "text/plain": [
       "<keras.src.callbacks.History at 0x7ecf2796fa00>"
      ]
     },
     "execution_count": 52,
     "metadata": {},
     "output_type": "execute_result"
    }
   ],
   "source": [
    "criteria4_poses_model.fit(X_train_criteria4_poses,y_train_criteria4_poses, epochs = 10)"
   ]
  },
  {
   "cell_type": "markdown",
   "id": "31251fc9",
   "metadata": {},
   "source": [
    "#### Saving the model"
   ]
  },
  {
   "cell_type": "code",
   "execution_count": null,
   "id": "035ec544",
   "metadata": {},
   "outputs": [],
   "source": [
    "criteria4_poses_model.save(\"model.h5\")"
   ]
  },
  {
   "cell_type": "markdown",
   "id": "8dd06e74",
   "metadata": {},
   "source": [
    "#### Loading the model"
   ]
  },
  {
   "cell_type": "code",
   "execution_count": null,
   "id": "8aa9d059",
   "metadata": {},
   "outputs": [],
   "source": [
    "loaded_model = load_model('my_model.h5')"
   ]
  },
  {
   "cell_type": "markdown",
   "id": "7c0575ce",
   "metadata": {},
   "source": [
    "#### Evaluating the model"
   ]
  },
  {
   "cell_type": "markdown",
   "id": "db950fd5",
   "metadata": {},
   "source": [
    "###### Train Data"
   ]
  },
  {
   "cell_type": "code",
   "execution_count": 53,
   "id": "675e52ee",
   "metadata": {
    "scrolled": true
   },
   "outputs": [
    {
     "name": "stdout",
     "output_type": "stream",
     "text": [
      "21/21 [==============================] - 1s 57ms/step\n",
      "accuracy = 0.6261682242990654\n"
     ]
    }
   ],
   "source": [
    "y_pred = criteria4_poses_model.predict(X_train_criteria4_poses)\n",
    "evaluate(y_pred, y_train_criteria4_poses)"
   ]
  },
  {
   "cell_type": "markdown",
   "id": "697873be",
   "metadata": {},
   "source": [
    "###### Test Data"
   ]
  },
  {
   "cell_type": "code",
   "execution_count": 54,
   "id": "af0da39c",
   "metadata": {
    "scrolled": true
   },
   "outputs": [
    {
     "name": "stdout",
     "output_type": "stream",
     "text": [
      "6/6 [==============================] - 0s 40ms/step\n",
      "accuracy = 0.577639751552795\n"
     ]
    }
   ],
   "source": [
    "y_pred = criteria4_poses_model.predict(X_test_criteria4_poses)\n",
    "evaluate(y_pred, y_test_criteria4_poses)"
   ]
  },
  {
   "cell_type": "markdown",
   "id": "9bfe4dd6",
   "metadata": {},
   "source": [
    "# -------------------------------------------------------------------------------------------------------------"
   ]
  },
  {
   "cell_type": "markdown",
   "id": "7cf1e7f1",
   "metadata": {},
   "source": [
    "## 6) Full Test"
   ]
  },
  {
   "cell_type": "code",
   "execution_count": 396,
   "id": "b7a12b47",
   "metadata": {},
   "outputs": [],
   "source": [
    "def test_models(input_sample):\n",
    "    input_sample = input_sample.reshape((1, input_sample.shape[0], input_sample.shape[1]))\n",
    "    y_pred1 = criteria1_poses_model.predict(input_sample)\n",
    "    y_pred1 = tf.nn.sigmoid(y_pred1)\n",
    "    y_pred2 = criteria2_poses_model.predict(input_sample)\n",
    "    y_pred2 = tf.nn.sigmoid(y_pred2)\n",
    "    y_pred3 = criteria3_poses_model.predict(input_sample)\n",
    "    y_pred3 = tf.nn.sigmoid(y_pred3)\n",
    "    print(\"Criteria1:\", y_pred1[0][0].numpy())\n",
    "    print(\"Criteria2:\", y_pred2[0][0].numpy())\n",
    "    print(\"Criteria3:\", y_pred3[0][0].numpy())"
   ]
  },
  {
   "cell_type": "code",
   "execution_count": 397,
   "id": "cf1642f3",
   "metadata": {},
   "outputs": [],
   "source": [
    "import random"
   ]
  },
  {
   "cell_type": "code",
   "execution_count": 410,
   "id": "8162cf7b",
   "metadata": {},
   "outputs": [
    {
     "name": "stdout",
     "output_type": "stream",
     "text": [
      "[0]\n",
      "\u001b[1m1/1\u001b[0m \u001b[32m━━━━━━━━━━━━━━━━━━━━\u001b[0m\u001b[37m\u001b[0m \u001b[1m0s\u001b[0m 56ms/step\n",
      "\u001b[1m1/1\u001b[0m \u001b[32m━━━━━━━━━━━━━━━━━━━━\u001b[0m\u001b[37m\u001b[0m \u001b[1m0s\u001b[0m 57ms/step\n",
      "\u001b[1m1/1\u001b[0m \u001b[32m━━━━━━━━━━━━━━━━━━━━\u001b[0m\u001b[37m\u001b[0m \u001b[1m0s\u001b[0m 61ms/step\n",
      "Criteria1: 0.9503206\n",
      "Criteria2: 0.63359296\n",
      "Criteria3: 0.0653212\n"
     ]
    }
   ],
   "source": [
    "num = random.randint(0,X_test_criteria4_poses.shape[0]-1)\n",
    "input_sample = X_test_criteria4_poses[num]\n",
    "print(y_test_criteria4_poses[num])\n",
    "test_models(input_sample)"
   ]
  },
  {
   "cell_type": "code",
   "execution_count": null,
   "id": "11e93c9e",
   "metadata": {},
   "outputs": [],
   "source": []
  },
  {
   "cell_type": "code",
   "execution_count": 387,
   "id": "851b144a",
   "metadata": {},
   "outputs": [],
   "source": [
    "#X_test_criteria4_poses[0][0:10]"
   ]
  },
  {
   "cell_type": "code",
   "execution_count": 388,
   "id": "34b47da9",
   "metadata": {
    "scrolled": true
   },
   "outputs": [],
   "source": [
    "#X_test_criteria4_poses[1][0:10]"
   ]
  },
  {
   "cell_type": "code",
   "execution_count": null,
   "id": "d6f2128d",
   "metadata": {},
   "outputs": [],
   "source": []
  },
  {
   "cell_type": "code",
   "execution_count": null,
   "id": "0d41518b",
   "metadata": {},
   "outputs": [],
   "source": []
  },
  {
   "cell_type": "code",
   "execution_count": null,
   "id": "5f242581",
   "metadata": {},
   "outputs": [],
   "source": []
  }
 ],
 "metadata": {
  "kernelspec": {
   "display_name": "ai1",
   "language": "python",
   "name": "ai1"
  },
  "language_info": {
   "codemirror_mode": {
    "name": "ipython",
    "version": 3
   },
   "file_extension": ".py",
   "mimetype": "text/x-python",
   "name": "python",
   "nbconvert_exporter": "python",
   "pygments_lexer": "ipython3",
   "version": "3.9.18"
  }
 },
 "nbformat": 4,
 "nbformat_minor": 5
}
