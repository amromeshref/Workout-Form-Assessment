{
 "cells": [
  {
   "cell_type": "markdown",
   "id": "49197a92",
   "metadata": {},
   "source": [
    "###### General Steps to Follow\n",
    "1. Importing Packages\n",
    "1. Criteria 1 - Poses\n",
    "1. Criteria 2 - Poses\n",
    "1. Criteria 3 - Poses\n",
    "1. Criteria 4 - Poses\n",
    "1. Full Test"
   ]
  },
  {
   "cell_type": "markdown",
   "id": "1d8f7f04",
   "metadata": {},
   "source": [
    "# -------------------------------------------------------------------------------------------------------------"
   ]
  },
  {
   "cell_type": "markdown",
   "id": "6a839b87",
   "metadata": {},
   "source": [
    "## 1) Importing Packages"
   ]
  },
  {
   "cell_type": "code",
   "execution_count": 2,
   "id": "e922d3aa",
   "metadata": {},
   "outputs": [
    {
     "name": "stderr",
     "output_type": "stream",
     "text": [
      "2024-04-11 14:23:52.280261: E external/local_xla/xla/stream_executor/cuda/cuda_dnn.cc:9261] Unable to register cuDNN factory: Attempting to register factory for plugin cuDNN when one has already been registered\n",
      "2024-04-11 14:23:52.280302: E external/local_xla/xla/stream_executor/cuda/cuda_fft.cc:607] Unable to register cuFFT factory: Attempting to register factory for plugin cuFFT when one has already been registered\n",
      "2024-04-11 14:23:52.281224: E external/local_xla/xla/stream_executor/cuda/cuda_blas.cc:1515] Unable to register cuBLAS factory: Attempting to register factory for plugin cuBLAS when one has already been registered\n",
      "2024-04-11 14:23:52.287085: I tensorflow/core/platform/cpu_feature_guard.cc:182] This TensorFlow binary is optimized to use available CPU instructions in performance-critical operations.\n",
      "To enable the following instructions: AVX2 FMA, in other operations, rebuild TensorFlow with the appropriate compiler flags.\n",
      "2024-04-11 14:23:52.973858: W tensorflow/compiler/tf2tensorrt/utils/py_utils.cc:38] TF-TRT Warning: Could not find TensorRT\n"
     ]
    }
   ],
   "source": [
    "import cv2\n",
    "import mediapipe as mp\n",
    "import matplotlib.pyplot as plt\n",
    "import numpy as np\n",
    "from tensorflow.keras.models import Sequential\n",
    "from tensorflow.keras.layers import Dense, LSTM\n",
    "from sklearn.model_selection import train_test_split\n",
    "from sklearn.metrics import confusion_matrix\n",
    "from sklearn.metrics import accuracy_score"
   ]
  },
  {
   "cell_type": "markdown",
   "id": "c1cd4608",
   "metadata": {},
   "source": [
    "# -------------------------------------------------------------------------------------------------------------"
   ]
  },
  {
   "cell_type": "code",
   "execution_count": 22,
   "id": "653c0255",
   "metadata": {},
   "outputs": [],
   "source": [
    "def evaluate(output, y_true):\n",
    "    y_pred = np.zeros((output.shape[0],1), dtype = \"int\")\n",
    "    y_pred[(output > 0.5)] = 1\n",
    "    y_pred = y_pred.reshape(y_pred.shape[0])\n",
    "    print(\"accuracy =\", accuracy_score(y_true, y_pred))"
   ]
  },
  {
   "cell_type": "markdown",
   "id": "fd397039",
   "metadata": {},
   "source": [
    "## 2) Criteria 1 - Poses"
   ]
  },
  {
   "cell_type": "markdown",
   "id": "e3002047",
   "metadata": {},
   "source": [
    "#### Loading training data"
   ]
  },
  {
   "cell_type": "code",
   "execution_count": 3,
   "id": "3250a80a",
   "metadata": {},
   "outputs": [],
   "source": [
    "criteria1_data_poses = np.load(\"../data/processed/bicep/poses/training_data_bicep_poses_criteria_1.npy\", allow_pickle = True)"
   ]
  },
  {
   "cell_type": "code",
   "execution_count": 5,
   "id": "b2245699",
   "metadata": {},
   "outputs": [
    {
     "data": {
      "text/plain": [
       "657"
      ]
     },
     "execution_count": 5,
     "metadata": {},
     "output_type": "execute_result"
    }
   ],
   "source": [
    "len(criteria1_data_poses)"
   ]
  },
  {
   "cell_type": "markdown",
   "id": "008162c4",
   "metadata": {},
   "source": [
    "#### Getting X_train, X_test, y_train, y_test"
   ]
  },
  {
   "cell_type": "code",
   "execution_count": 17,
   "id": "48f20591",
   "metadata": {},
   "outputs": [],
   "source": [
    "X = np.vstack(criteria1_data_poses[:, 0])\n",
    "y = np.vstack(criteria1_data_poses[:, 1])\n",
    "X_train_criteria1_poses, X_test_criteria1_poses, y_train_criteria1_poses, y_test_criteria1_poses = train_test_split(\n",
    "    X, y, test_size=0.2, random_state=42)"
   ]
  },
  {
   "cell_type": "code",
   "execution_count": 19,
   "id": "7a9c00d8",
   "metadata": {},
   "outputs": [
    {
     "name": "stdout",
     "output_type": "stream",
     "text": [
      "X_train_criteria1_poses shape: (525, 600, 24)\n",
      "y_train_criteria1_poses shape: (525, 1)\n",
      "X_test_criteria1_poses shape: (132, 600, 24)\n",
      "y_test_criteria1_poses shape: (132, 1)\n"
     ]
    }
   ],
   "source": [
    "print(\"X_train_criteria1_poses shape:\", X_train_criteria1_poses.shape)\n",
    "print(\"y_train_criteria1_poses shape:\", y_train_criteria1_poses.shape)\n",
    "print(\"X_test_criteria1_poses shape:\", X_test_criteria1_poses.shape)\n",
    "print(\"y_test_criteria1_poses shape:\", y_test_criteria1_poses.shape)"
   ]
  },
  {
   "cell_type": "markdown",
   "id": "9f4b1eda",
   "metadata": {},
   "source": [
    "#### Building and training the model"
   ]
  },
  {
   "cell_type": "code",
   "execution_count": 9,
   "id": "318929f4",
   "metadata": {},
   "outputs": [
    {
     "name": "stdout",
     "output_type": "stream",
     "text": [
      "Model: \"criteria1_poses_model\"\n",
      "_________________________________________________________________\n",
      " Layer (type)                Output Shape              Param #   \n",
      "=================================================================\n",
      " lstm (LSTM)                 (None, 50)                15000     \n",
      "                                                                 \n",
      " dense (Dense)               (None, 1)                 51        \n",
      "                                                                 \n",
      "=================================================================\n",
      "Total params: 15051 (58.79 KB)\n",
      "Trainable params: 15051 (58.79 KB)\n",
      "Non-trainable params: 0 (0.00 Byte)\n",
      "_________________________________________________________________\n"
     ]
    },
    {
     "name": "stderr",
     "output_type": "stream",
     "text": [
      "2024-04-11 14:26:50.746669: E external/local_xla/xla/stream_executor/cuda/cuda_driver.cc:274] failed call to cuInit: CUDA_ERROR_UNKNOWN: unknown error\n",
      "2024-04-11 14:26:50.746733: I external/local_xla/xla/stream_executor/cuda/cuda_diagnostics.cc:129] retrieving CUDA diagnostic information for host: amroPC\n",
      "2024-04-11 14:26:50.746751: I external/local_xla/xla/stream_executor/cuda/cuda_diagnostics.cc:136] hostname: amroPC\n",
      "2024-04-11 14:26:50.746986: I external/local_xla/xla/stream_executor/cuda/cuda_diagnostics.cc:159] libcuda reported version is: 535.161.7\n",
      "2024-04-11 14:26:50.747038: I external/local_xla/xla/stream_executor/cuda/cuda_diagnostics.cc:163] kernel reported version is: 535.161.7\n",
      "2024-04-11 14:26:50.747053: I external/local_xla/xla/stream_executor/cuda/cuda_diagnostics.cc:241] kernel version seems to match DSO: 535.161.7\n"
     ]
    }
   ],
   "source": [
    "criteria1_poses_model = Sequential(\n",
    "    [\n",
    "        LSTM(units=50, input_shape=(X_train_criteria1_poses.shape[1], X_train_criteria1_poses.shape[2])),\n",
    "        Dense(1, activation = \"sigmoid\")\n",
    "    ], name = \"criteria1_poses_model\"\n",
    ")\n",
    "criteria1_poses_model.summary()"
   ]
  },
  {
   "cell_type": "code",
   "execution_count": 11,
   "id": "72b2a8c1",
   "metadata": {},
   "outputs": [],
   "source": [
    "criteria1_poses_model.compile(optimizer='adam', loss='binary_crossentropy', metrics = ['accuracy'])"
   ]
  },
  {
   "cell_type": "code",
   "execution_count": 12,
   "id": "5a9684dc",
   "metadata": {
    "scrolled": true
   },
   "outputs": [
    {
     "name": "stdout",
     "output_type": "stream",
     "text": [
      "Epoch 1/50\n"
     ]
    },
    {
     "name": "stderr",
     "output_type": "stream",
     "text": [
      "2024-04-11 14:27:09.624351: W external/local_tsl/tsl/framework/cpu_allocator_impl.cc:83] Allocation of 30240000 exceeds 10% of free system memory.\n"
     ]
    },
    {
     "name": "stdout",
     "output_type": "stream",
     "text": [
      "17/17 [==============================] - 4s 186ms/step - loss: 0.6473 - accuracy: 0.7829\n",
      "Epoch 2/50\n",
      "17/17 [==============================] - 3s 202ms/step - loss: 0.4852 - accuracy: 0.8210\n",
      "Epoch 3/50\n",
      "17/17 [==============================] - 3s 199ms/step - loss: 0.4763 - accuracy: 0.8210\n",
      "Epoch 4/50\n",
      "17/17 [==============================] - 3s 195ms/step - loss: 0.4741 - accuracy: 0.8210\n",
      "Epoch 5/50\n",
      "17/17 [==============================] - 3s 191ms/step - loss: 0.4718 - accuracy: 0.8210\n",
      "Epoch 6/50\n",
      "17/17 [==============================] - 3s 185ms/step - loss: 0.4728 - accuracy: 0.8210\n",
      "Epoch 7/50\n",
      "17/17 [==============================] - 3s 175ms/step - loss: 0.4737 - accuracy: 0.8210\n",
      "Epoch 8/50\n",
      "17/17 [==============================] - 3s 177ms/step - loss: 0.4726 - accuracy: 0.8210\n",
      "Epoch 9/50\n",
      "17/17 [==============================] - 3s 178ms/step - loss: 0.4751 - accuracy: 0.8210\n",
      "Epoch 10/50\n",
      "17/17 [==============================] - 3s 182ms/step - loss: 0.4714 - accuracy: 0.8210\n",
      "Epoch 11/50\n",
      "17/17 [==============================] - 3s 171ms/step - loss: 0.4709 - accuracy: 0.8210\n",
      "Epoch 12/50\n",
      "17/17 [==============================] - 3s 178ms/step - loss: 0.4729 - accuracy: 0.8210\n",
      "Epoch 13/50\n",
      "17/17 [==============================] - 3s 187ms/step - loss: 0.4727 - accuracy: 0.8210\n",
      "Epoch 14/50\n",
      "17/17 [==============================] - 3s 190ms/step - loss: 0.4736 - accuracy: 0.8210\n",
      "Epoch 15/50\n",
      "17/17 [==============================] - 3s 182ms/step - loss: 0.4720 - accuracy: 0.8210\n",
      "Epoch 16/50\n",
      "17/17 [==============================] - 3s 176ms/step - loss: 0.4715 - accuracy: 0.8210\n",
      "Epoch 17/50\n",
      "17/17 [==============================] - 4s 210ms/step - loss: 0.4769 - accuracy: 0.8210\n",
      "Epoch 18/50\n",
      "17/17 [==============================] - 3s 183ms/step - loss: 0.4709 - accuracy: 0.8210\n",
      "Epoch 19/50\n",
      "17/17 [==============================] - 3s 174ms/step - loss: 0.4699 - accuracy: 0.8210\n",
      "Epoch 20/50\n",
      "17/17 [==============================] - 3s 191ms/step - loss: 0.4735 - accuracy: 0.8210\n",
      "Epoch 21/50\n",
      "17/17 [==============================] - 3s 187ms/step - loss: 0.4711 - accuracy: 0.8210\n",
      "Epoch 22/50\n",
      "17/17 [==============================] - 3s 194ms/step - loss: 0.4702 - accuracy: 0.8210\n",
      "Epoch 23/50\n",
      "17/17 [==============================] - 3s 175ms/step - loss: 0.4705 - accuracy: 0.8210\n",
      "Epoch 24/50\n",
      "17/17 [==============================] - 3s 186ms/step - loss: 0.4707 - accuracy: 0.8210\n",
      "Epoch 25/50\n",
      "17/17 [==============================] - 3s 190ms/step - loss: 0.4704 - accuracy: 0.8210\n",
      "Epoch 26/50\n",
      "17/17 [==============================] - 3s 189ms/step - loss: 0.4745 - accuracy: 0.8210\n",
      "Epoch 27/50\n",
      "17/17 [==============================] - 3s 187ms/step - loss: 0.4682 - accuracy: 0.8210\n",
      "Epoch 28/50\n",
      "17/17 [==============================] - 3s 200ms/step - loss: 0.4736 - accuracy: 0.8210\n",
      "Epoch 29/50\n",
      "17/17 [==============================] - 3s 189ms/step - loss: 0.4704 - accuracy: 0.8210\n",
      "Epoch 30/50\n",
      "17/17 [==============================] - 3s 191ms/step - loss: 0.4702 - accuracy: 0.8210\n",
      "Epoch 31/50\n",
      "17/17 [==============================] - 3s 199ms/step - loss: 0.4722 - accuracy: 0.8210\n",
      "Epoch 32/50\n",
      "17/17 [==============================] - 3s 187ms/step - loss: 0.4726 - accuracy: 0.8210\n",
      "Epoch 33/50\n",
      "17/17 [==============================] - 3s 187ms/step - loss: 0.4720 - accuracy: 0.8210\n",
      "Epoch 34/50\n",
      "17/17 [==============================] - 3s 183ms/step - loss: 0.4708 - accuracy: 0.8210\n",
      "Epoch 35/50\n",
      "17/17 [==============================] - 3s 202ms/step - loss: 0.4709 - accuracy: 0.8210\n",
      "Epoch 36/50\n",
      "17/17 [==============================] - 3s 192ms/step - loss: 0.4708 - accuracy: 0.8210\n",
      "Epoch 37/50\n",
      "17/17 [==============================] - 3s 200ms/step - loss: 0.4704 - accuracy: 0.8210\n",
      "Epoch 38/50\n",
      "17/17 [==============================] - 3s 197ms/step - loss: 0.4726 - accuracy: 0.8210\n",
      "Epoch 39/50\n",
      "17/17 [==============================] - 3s 201ms/step - loss: 0.4705 - accuracy: 0.8210\n",
      "Epoch 40/50\n",
      "17/17 [==============================] - 3s 199ms/step - loss: 0.4713 - accuracy: 0.8210\n",
      "Epoch 41/50\n",
      "17/17 [==============================] - 3s 178ms/step - loss: 0.4705 - accuracy: 0.8210\n",
      "Epoch 42/50\n",
      "17/17 [==============================] - 3s 192ms/step - loss: 0.4709 - accuracy: 0.8210\n",
      "Epoch 43/50\n",
      "17/17 [==============================] - 3s 198ms/step - loss: 0.4724 - accuracy: 0.8210\n",
      "Epoch 44/50\n",
      "17/17 [==============================] - 3s 200ms/step - loss: 0.4710 - accuracy: 0.8210\n",
      "Epoch 45/50\n",
      "17/17 [==============================] - 3s 198ms/step - loss: 0.4707 - accuracy: 0.8210\n",
      "Epoch 46/50\n",
      "17/17 [==============================] - 3s 192ms/step - loss: 0.4705 - accuracy: 0.8210\n",
      "Epoch 47/50\n",
      "17/17 [==============================] - 3s 191ms/step - loss: 0.4724 - accuracy: 0.8210\n",
      "Epoch 48/50\n",
      "17/17 [==============================] - 3s 199ms/step - loss: 0.4709 - accuracy: 0.8210\n",
      "Epoch 49/50\n",
      "17/17 [==============================] - 3s 191ms/step - loss: 0.4705 - accuracy: 0.8210\n",
      "Epoch 50/50\n",
      "17/17 [==============================] - 3s 186ms/step - loss: 0.4709 - accuracy: 0.8210\n"
     ]
    },
    {
     "data": {
      "text/plain": [
       "<keras.src.callbacks.History at 0x7ed05c369b50>"
      ]
     },
     "execution_count": 12,
     "metadata": {},
     "output_type": "execute_result"
    }
   ],
   "source": [
    "criteria1_poses_model.fit(X_train_criteria1_poses,y_train_criteria1_poses, epochs = 50)"
   ]
  },
  {
   "cell_type": "markdown",
   "id": "de242d59",
   "metadata": {},
   "source": [
    "#### Saving the model"
   ]
  },
  {
   "cell_type": "code",
   "execution_count": null,
   "id": "22934061",
   "metadata": {},
   "outputs": [],
   "source": [
    "criteria1_poses_model.save(\"model.h5\")"
   ]
  },
  {
   "cell_type": "markdown",
   "id": "8c8c0702",
   "metadata": {},
   "source": [
    "#### Loading the model"
   ]
  },
  {
   "cell_type": "code",
   "execution_count": null,
   "id": "7100c6b8",
   "metadata": {},
   "outputs": [],
   "source": [
    "loaded_model = load_model('my_model.h5')"
   ]
  },
  {
   "cell_type": "markdown",
   "id": "586c2a67",
   "metadata": {},
   "source": [
    "#### Evaluating the model"
   ]
  },
  {
   "cell_type": "markdown",
   "id": "bf8d50ec",
   "metadata": {},
   "source": [
    "###### Train Data"
   ]
  },
  {
   "cell_type": "code",
   "execution_count": 20,
   "id": "b158795f",
   "metadata": {
    "scrolled": true
   },
   "outputs": [
    {
     "name": "stdout",
     "output_type": "stream",
     "text": [
      " 2/17 [==>...........................] - ETA: 0s"
     ]
    },
    {
     "name": "stderr",
     "output_type": "stream",
     "text": [
      "2024-04-11 14:32:33.762644: W external/local_tsl/tsl/framework/cpu_allocator_impl.cc:83] Allocation of 30240000 exceeds 10% of free system memory.\n"
     ]
    },
    {
     "name": "stdout",
     "output_type": "stream",
     "text": [
      "17/17 [==============================] - 1s 66ms/step\n",
      "accuracy = 0.820952380952381\n"
     ]
    }
   ],
   "source": [
    "y_pred = criteria1_poses_model.predict(X_train_criteria1_poses)\n",
    "evaluate(y_pred, y_train_criteria1_poses)"
   ]
  },
  {
   "cell_type": "markdown",
   "id": "48c40fc2",
   "metadata": {},
   "source": [
    "###### Test Data"
   ]
  },
  {
   "cell_type": "code",
   "execution_count": 21,
   "id": "c1b08fdc",
   "metadata": {
    "scrolled": true
   },
   "outputs": [
    {
     "name": "stdout",
     "output_type": "stream",
     "text": [
      "5/5 [==============================] - 0s 48ms/step\n",
      "accuracy = 0.75\n"
     ]
    }
   ],
   "source": [
    "y_pred = criteria1_poses_model.predict(X_test_criteria1_poses)\n",
    "evaluate(y_pred, y_test_criteria1_poses)"
   ]
  },
  {
   "cell_type": "markdown",
   "id": "34df49b7",
   "metadata": {},
   "source": [
    "# -------------------------------------------------------------------------------------------------------------"
   ]
  },
  {
   "cell_type": "markdown",
   "id": "fd21aa89",
   "metadata": {},
   "source": [
    "## 3) Criteria 2 - Poses"
   ]
  },
  {
   "cell_type": "markdown",
   "id": "e2aa501e",
   "metadata": {},
   "source": [
    "#### Loading training data"
   ]
  },
  {
   "cell_type": "code",
   "execution_count": 23,
   "id": "0106fce6",
   "metadata": {},
   "outputs": [],
   "source": [
    "criteria2_data_poses = np.load(\"../data/processed/bicep/poses/training_data_bicep_poses_criteria_2.npy\", allow_pickle = True)"
   ]
  },
  {
   "cell_type": "code",
   "execution_count": 24,
   "id": "ed9ae8d6",
   "metadata": {},
   "outputs": [
    {
     "data": {
      "text/plain": [
       "764"
      ]
     },
     "execution_count": 24,
     "metadata": {},
     "output_type": "execute_result"
    }
   ],
   "source": [
    "len(criteria2_data_poses)"
   ]
  },
  {
   "cell_type": "markdown",
   "id": "497250b3",
   "metadata": {},
   "source": [
    "#### Getting X_train, X_test, y_train, y_test"
   ]
  },
  {
   "cell_type": "code",
   "execution_count": 25,
   "id": "f18f7459",
   "metadata": {},
   "outputs": [],
   "source": [
    "X = np.vstack(criteria2_data_poses[:, 0])\n",
    "y = np.vstack(criteria2_data_poses[:, 1])\n",
    "X_train_criteria2_poses, X_test_criteria2_poses, y_train_criteria2_poses, y_test_criteria2_poses = train_test_split(\n",
    "    X, y, test_size=0.2, random_state=42)"
   ]
  },
  {
   "cell_type": "code",
   "execution_count": 26,
   "id": "37ac90fd",
   "metadata": {},
   "outputs": [
    {
     "name": "stdout",
     "output_type": "stream",
     "text": [
      "X_train_criteria2_poses shape: (611, 600, 24)\n",
      "y_train_criteria2_poses shape: (611, 1)\n",
      "X_test_criteria2_poses shape: (153, 600, 24)\n",
      "y_test_criteria2_poses shape: (153, 1)\n"
     ]
    }
   ],
   "source": [
    "print(\"X_train_criteria2_poses shape:\", X_train_criteria2_poses.shape)\n",
    "print(\"y_train_criteria2_poses shape:\", y_train_criteria2_poses.shape)\n",
    "print(\"X_test_criteria2_poses shape:\", X_test_criteria2_poses.shape)\n",
    "print(\"y_test_criteria2_poses shape:\", y_test_criteria2_poses.shape)"
   ]
  },
  {
   "cell_type": "markdown",
   "id": "5704720b",
   "metadata": {},
   "source": [
    "#### Building and training the model"
   ]
  },
  {
   "cell_type": "code",
   "execution_count": 29,
   "id": "b19bbe73",
   "metadata": {},
   "outputs": [
    {
     "name": "stdout",
     "output_type": "stream",
     "text": [
      "Model: \"criteria2_poses_model\"\n",
      "_________________________________________________________________\n",
      " Layer (type)                Output Shape              Param #   \n",
      "=================================================================\n",
      " lstm_3 (LSTM)               (None, 50)                15000     \n",
      "                                                                 \n",
      " dense_3 (Dense)             (None, 1)                 51        \n",
      "                                                                 \n",
      "=================================================================\n",
      "Total params: 15051 (58.79 KB)\n",
      "Trainable params: 15051 (58.79 KB)\n",
      "Non-trainable params: 0 (0.00 Byte)\n",
      "_________________________________________________________________\n"
     ]
    }
   ],
   "source": [
    "criteria2_poses_model = Sequential(\n",
    "    [\n",
    "        LSTM(units=50, input_shape=(X_train_criteria2_poses.shape[1], X_train_criteria2_poses.shape[2])),\n",
    "        Dense(1, activation = \"sigmoid\")\n",
    "    ], name = \"criteria2_poses_model\"\n",
    ")\n",
    "criteria2_poses_model.summary()"
   ]
  },
  {
   "cell_type": "code",
   "execution_count": 31,
   "id": "1768b1c0",
   "metadata": {},
   "outputs": [],
   "source": [
    "criteria2_poses_model.compile(optimizer='adam', loss='binary_crossentropy', metrics = ['accuracy'])"
   ]
  },
  {
   "cell_type": "code",
   "execution_count": 32,
   "id": "13a83998",
   "metadata": {
    "scrolled": true
   },
   "outputs": [
    {
     "name": "stdout",
     "output_type": "stream",
     "text": [
      "Epoch 1/50\n"
     ]
    },
    {
     "name": "stderr",
     "output_type": "stream",
     "text": [
      "2024-04-11 16:07:51.915495: W external/local_tsl/tsl/framework/cpu_allocator_impl.cc:83] Allocation of 35193600 exceeds 10% of free system memory.\n"
     ]
    },
    {
     "name": "stdout",
     "output_type": "stream",
     "text": [
      "20/20 [==============================] - 5s 183ms/step - loss: 0.6533 - accuracy: 0.7349\n",
      "Epoch 2/50\n",
      "20/20 [==============================] - 4s 180ms/step - loss: 0.5629 - accuracy: 0.7578\n",
      "Epoch 3/50\n",
      "20/20 [==============================] - 4s 184ms/step - loss: 0.5556 - accuracy: 0.7578\n",
      "Epoch 4/50\n",
      "20/20 [==============================] - 4s 184ms/step - loss: 0.5559 - accuracy: 0.7578\n",
      "Epoch 5/50\n",
      "20/20 [==============================] - 4s 182ms/step - loss: 0.5553 - accuracy: 0.7578\n",
      "Epoch 6/50\n",
      "20/20 [==============================] - 4s 180ms/step - loss: 0.5558 - accuracy: 0.7578\n",
      "Epoch 7/50\n",
      "20/20 [==============================] - 4s 177ms/step - loss: 0.5563 - accuracy: 0.7578\n",
      "Epoch 8/50\n",
      "20/20 [==============================] - 3s 172ms/step - loss: 0.5574 - accuracy: 0.7578\n",
      "Epoch 9/50\n",
      "20/20 [==============================] - 4s 186ms/step - loss: 0.5544 - accuracy: 0.7578\n",
      "Epoch 10/50\n",
      "20/20 [==============================] - 4s 185ms/step - loss: 0.5558 - accuracy: 0.7578\n",
      "Epoch 11/50\n",
      "20/20 [==============================] - 3s 171ms/step - loss: 0.5554 - accuracy: 0.7578\n",
      "Epoch 12/50\n",
      "20/20 [==============================] - 4s 176ms/step - loss: 0.5561 - accuracy: 0.7578\n",
      "Epoch 13/50\n",
      "20/20 [==============================] - 4s 182ms/step - loss: 0.5552 - accuracy: 0.7578\n",
      "Epoch 14/50\n",
      "20/20 [==============================] - 4s 180ms/step - loss: 0.5577 - accuracy: 0.7578\n",
      "Epoch 15/50\n",
      "20/20 [==============================] - 4s 196ms/step - loss: 0.5545 - accuracy: 0.7578\n",
      "Epoch 16/50\n",
      "20/20 [==============================] - 4s 194ms/step - loss: 0.5570 - accuracy: 0.7578\n",
      "Epoch 17/50\n",
      "20/20 [==============================] - 4s 190ms/step - loss: 0.5557 - accuracy: 0.7578\n",
      "Epoch 18/50\n",
      "20/20 [==============================] - 4s 189ms/step - loss: 0.5554 - accuracy: 0.7578\n",
      "Epoch 19/50\n",
      "20/20 [==============================] - 4s 185ms/step - loss: 0.5555 - accuracy: 0.7578\n",
      "Epoch 20/50\n",
      "20/20 [==============================] - 4s 181ms/step - loss: 0.5570 - accuracy: 0.7578\n",
      "Epoch 21/50\n",
      "20/20 [==============================] - 4s 183ms/step - loss: 0.5630 - accuracy: 0.7578\n",
      "Epoch 22/50\n",
      "20/20 [==============================] - 4s 178ms/step - loss: 0.5588 - accuracy: 0.7578\n",
      "Epoch 23/50\n",
      "20/20 [==============================] - 3s 160ms/step - loss: 0.5550 - accuracy: 0.7578\n",
      "Epoch 24/50\n",
      "20/20 [==============================] - 4s 182ms/step - loss: 0.5544 - accuracy: 0.7578\n",
      "Epoch 25/50\n",
      "20/20 [==============================] - 4s 198ms/step - loss: 0.5561 - accuracy: 0.7578\n",
      "Epoch 26/50\n",
      "20/20 [==============================] - 4s 203ms/step - loss: 0.5545 - accuracy: 0.7578\n",
      "Epoch 27/50\n",
      "20/20 [==============================] - 4s 195ms/step - loss: 0.5544 - accuracy: 0.7578\n",
      "Epoch 28/50\n",
      "20/20 [==============================] - 4s 182ms/step - loss: 0.5552 - accuracy: 0.7578\n",
      "Epoch 29/50\n",
      "20/20 [==============================] - 4s 196ms/step - loss: 0.5542 - accuracy: 0.7578\n",
      "Epoch 30/50\n",
      "20/20 [==============================] - 4s 181ms/step - loss: 0.5541 - accuracy: 0.7578\n",
      "Epoch 31/50\n",
      "20/20 [==============================] - 4s 180ms/step - loss: 0.5550 - accuracy: 0.7578\n",
      "Epoch 32/50\n",
      "20/20 [==============================] - 3s 169ms/step - loss: 0.5546 - accuracy: 0.7578\n",
      "Epoch 33/50\n",
      "20/20 [==============================] - 4s 179ms/step - loss: 0.5539 - accuracy: 0.7578\n",
      "Epoch 34/50\n",
      "20/20 [==============================] - 3s 174ms/step - loss: 0.5542 - accuracy: 0.7578\n",
      "Epoch 35/50\n",
      "20/20 [==============================] - 4s 184ms/step - loss: 0.5561 - accuracy: 0.7578\n",
      "Epoch 36/50\n",
      "20/20 [==============================] - 4s 187ms/step - loss: 0.5552 - accuracy: 0.7578\n",
      "Epoch 37/50\n",
      "20/20 [==============================] - 4s 178ms/step - loss: 0.5573 - accuracy: 0.7578\n",
      "Epoch 38/50\n",
      "20/20 [==============================] - 4s 181ms/step - loss: 0.5545 - accuracy: 0.7578\n",
      "Epoch 39/50\n",
      "20/20 [==============================] - 4s 189ms/step - loss: 0.5545 - accuracy: 0.7578\n",
      "Epoch 40/50\n",
      "20/20 [==============================] - 4s 181ms/step - loss: 0.5542 - accuracy: 0.7578\n",
      "Epoch 41/50\n",
      "20/20 [==============================] - 4s 185ms/step - loss: 0.5557 - accuracy: 0.7578\n",
      "Epoch 42/50\n",
      "20/20 [==============================] - 4s 189ms/step - loss: 0.5548 - accuracy: 0.7578\n",
      "Epoch 43/50\n",
      "20/20 [==============================] - 4s 178ms/step - loss: 0.5540 - accuracy: 0.7578\n",
      "Epoch 44/50\n",
      "20/20 [==============================] - 4s 182ms/step - loss: 0.5561 - accuracy: 0.7578\n",
      "Epoch 45/50\n",
      "20/20 [==============================] - 4s 196ms/step - loss: 0.5566 - accuracy: 0.7578\n",
      "Epoch 46/50\n",
      "20/20 [==============================] - 4s 179ms/step - loss: 0.5563 - accuracy: 0.7578\n",
      "Epoch 47/50\n",
      "20/20 [==============================] - 4s 175ms/step - loss: 0.5540 - accuracy: 0.7578\n",
      "Epoch 48/50\n",
      "20/20 [==============================] - 3s 171ms/step - loss: 0.5541 - accuracy: 0.7578\n",
      "Epoch 49/50\n",
      "20/20 [==============================] - 4s 177ms/step - loss: 0.5543 - accuracy: 0.7578\n",
      "Epoch 50/50\n",
      "20/20 [==============================] - 4s 175ms/step - loss: 0.5582 - accuracy: 0.7578\n"
     ]
    },
    {
     "data": {
      "text/plain": [
       "<keras.src.callbacks.History at 0x7ed05c498e50>"
      ]
     },
     "execution_count": 32,
     "metadata": {},
     "output_type": "execute_result"
    }
   ],
   "source": [
    "criteria2_poses_model.fit(X_train_criteria2_poses,y_train_criteria2_poses, epochs = 50)"
   ]
  },
  {
   "cell_type": "markdown",
   "id": "c11790cf",
   "metadata": {},
   "source": [
    "#### Saving the model"
   ]
  },
  {
   "cell_type": "code",
   "execution_count": null,
   "id": "c47cbb44",
   "metadata": {},
   "outputs": [],
   "source": [
    "criteria2_poses_model.save(\"model.h5\")"
   ]
  },
  {
   "cell_type": "markdown",
   "id": "d8735754",
   "metadata": {},
   "source": [
    "#### Loading the model"
   ]
  },
  {
   "cell_type": "code",
   "execution_count": null,
   "id": "892a31b2",
   "metadata": {},
   "outputs": [],
   "source": [
    "loaded_model = load_model('my_model.h5')"
   ]
  },
  {
   "cell_type": "markdown",
   "id": "98969d23",
   "metadata": {},
   "source": [
    "#### Evaluating the model"
   ]
  },
  {
   "cell_type": "markdown",
   "id": "15b2cd6d",
   "metadata": {},
   "source": [
    "###### Train Data"
   ]
  },
  {
   "cell_type": "code",
   "execution_count": 35,
   "id": "80dd5dcc",
   "metadata": {
    "scrolled": true
   },
   "outputs": [
    {
     "name": "stdout",
     "output_type": "stream",
     "text": [
      " 3/20 [===>..........................] - ETA: 0s"
     ]
    },
    {
     "name": "stderr",
     "output_type": "stream",
     "text": [
      "2024-04-11 16:13:16.563091: W external/local_tsl/tsl/framework/cpu_allocator_impl.cc:83] Allocation of 35193600 exceeds 10% of free system memory.\n"
     ]
    },
    {
     "name": "stdout",
     "output_type": "stream",
     "text": [
      "20/20 [==============================] - 1s 54ms/step\n",
      "accuracy = 0.7577741407528642\n"
     ]
    }
   ],
   "source": [
    "y_pred = criteria2_poses_model.predict(X_train_criteria2_poses)\n",
    "evaluate(y_pred, y_train_criteria2_poses)"
   ]
  },
  {
   "cell_type": "markdown",
   "id": "a5322c2e",
   "metadata": {},
   "source": [
    "###### Test Data"
   ]
  },
  {
   "cell_type": "code",
   "execution_count": 36,
   "id": "95daf93a",
   "metadata": {
    "scrolled": true
   },
   "outputs": [
    {
     "name": "stdout",
     "output_type": "stream",
     "text": [
      "5/5 [==============================] - 0s 61ms/step\n",
      "accuracy = 0.7973856209150327\n"
     ]
    }
   ],
   "source": [
    "y_pred = criteria2_poses_model.predict(X_test_criteria2_poses)\n",
    "evaluate(y_pred, y_test_criteria2_poses)"
   ]
  },
  {
   "cell_type": "markdown",
   "id": "b9f3e780",
   "metadata": {},
   "source": [
    "# -------------------------------------------------------------------------------------------------------------"
   ]
  },
  {
   "cell_type": "markdown",
   "id": "7457b74a",
   "metadata": {},
   "source": [
    "## 4) Criteria 3 - Poses"
   ]
  },
  {
   "cell_type": "markdown",
   "id": "f64ccba7",
   "metadata": {},
   "source": [
    "#### Loading training data"
   ]
  },
  {
   "cell_type": "code",
   "execution_count": 37,
   "id": "9e74beab",
   "metadata": {},
   "outputs": [],
   "source": [
    "criteria3_data_poses = np.load(\"../data/processed/bicep/poses/training_data_bicep_poses_criteria_3.npy\", allow_pickle = True)"
   ]
  },
  {
   "cell_type": "code",
   "execution_count": 38,
   "id": "2875dfb3",
   "metadata": {},
   "outputs": [
    {
     "data": {
      "text/plain": [
       "764"
      ]
     },
     "execution_count": 38,
     "metadata": {},
     "output_type": "execute_result"
    }
   ],
   "source": [
    "len(criteria3_data_poses)"
   ]
  },
  {
   "cell_type": "markdown",
   "id": "fb3ef5da",
   "metadata": {},
   "source": [
    "#### Getting X_train, X_test, y_train, y_test"
   ]
  },
  {
   "cell_type": "code",
   "execution_count": 39,
   "id": "701cef9f",
   "metadata": {},
   "outputs": [],
   "source": [
    "X = np.vstack(criteria3_data_poses[:, 0])\n",
    "y = np.vstack(criteria3_data_poses[:, 1])\n",
    "X_train_criteria3_poses, X_test_criteria3_poses, y_train_criteria3_poses, y_test_criteria3_poses = train_test_split(\n",
    "    X, y, test_size=0.2, random_state=42)"
   ]
  },
  {
   "cell_type": "code",
   "execution_count": 40,
   "id": "0e271ce5",
   "metadata": {},
   "outputs": [
    {
     "name": "stdout",
     "output_type": "stream",
     "text": [
      "X_train_criteria3_poses shape: (611, 600, 24)\n",
      "y_train_criteria3_poses shape: (611, 1)\n",
      "X_test_criteria3_poses shape: (153, 600, 24)\n",
      "y_test_criteria3_poses shape: (153, 1)\n"
     ]
    }
   ],
   "source": [
    "print(\"X_train_criteria3_poses shape:\", X_train_criteria3_poses.shape)\n",
    "print(\"y_train_criteria3_poses shape:\", y_train_criteria3_poses.shape)\n",
    "print(\"X_test_criteria3_poses shape:\", X_test_criteria3_poses.shape)\n",
    "print(\"y_test_criteria3_poses shape:\", y_test_criteria3_poses.shape)"
   ]
  },
  {
   "cell_type": "markdown",
   "id": "216c631b",
   "metadata": {},
   "source": [
    "#### Building and training the model"
   ]
  },
  {
   "cell_type": "code",
   "execution_count": 41,
   "id": "523f6157",
   "metadata": {},
   "outputs": [
    {
     "name": "stdout",
     "output_type": "stream",
     "text": [
      "Model: \"criteria3_poses_model\"\n",
      "_________________________________________________________________\n",
      " Layer (type)                Output Shape              Param #   \n",
      "=================================================================\n",
      " lstm_4 (LSTM)               (None, 50)                15000     \n",
      "                                                                 \n",
      " dense_4 (Dense)             (None, 1)                 51        \n",
      "                                                                 \n",
      "=================================================================\n",
      "Total params: 15051 (58.79 KB)\n",
      "Trainable params: 15051 (58.79 KB)\n",
      "Non-trainable params: 0 (0.00 Byte)\n",
      "_________________________________________________________________\n"
     ]
    }
   ],
   "source": [
    "criteria3_poses_model = Sequential(\n",
    "    [\n",
    "        LSTM(units=50, input_shape=(X_train_criteria3_poses.shape[1], X_train_criteria3_poses.shape[2])),\n",
    "        Dense(1, activation = \"sigmoid\")\n",
    "    ], name = \"criteria3_poses_model\"\n",
    ")\n",
    "criteria3_poses_model.summary()"
   ]
  },
  {
   "cell_type": "code",
   "execution_count": 42,
   "id": "cdb14393",
   "metadata": {},
   "outputs": [],
   "source": [
    "criteria3_poses_model.compile(optimizer='adam', loss='binary_crossentropy', metrics = ['accuracy'])"
   ]
  },
  {
   "cell_type": "code",
   "execution_count": 43,
   "id": "c046a809",
   "metadata": {
    "scrolled": true
   },
   "outputs": [
    {
     "name": "stdout",
     "output_type": "stream",
     "text": [
      "Epoch 1/50\n",
      "20/20 [==============================] - 5s 177ms/step - loss: 0.6932 - accuracy: 0.5008\n",
      "Epoch 2/50\n",
      "20/20 [==============================] - 4s 180ms/step - loss: 0.6933 - accuracy: 0.5139\n",
      "Epoch 3/50\n",
      "20/20 [==============================] - 4s 181ms/step - loss: 0.6931 - accuracy: 0.5139\n",
      "Epoch 4/50\n",
      "20/20 [==============================] - 4s 185ms/step - loss: 0.6929 - accuracy: 0.5139\n",
      "Epoch 5/50\n",
      "20/20 [==============================] - 4s 180ms/step - loss: 0.6927 - accuracy: 0.5139\n",
      "Epoch 6/50\n",
      "20/20 [==============================] - 4s 191ms/step - loss: 0.6932 - accuracy: 0.5139\n",
      "Epoch 7/50\n",
      "20/20 [==============================] - 4s 185ms/step - loss: 0.6932 - accuracy: 0.5139\n",
      "Epoch 8/50\n",
      "20/20 [==============================] - 4s 187ms/step - loss: 0.6928 - accuracy: 0.5139\n",
      "Epoch 9/50\n",
      "20/20 [==============================] - 4s 176ms/step - loss: 0.6928 - accuracy: 0.5139\n",
      "Epoch 10/50\n",
      "20/20 [==============================] - 4s 182ms/step - loss: 0.6928 - accuracy: 0.5139\n",
      "Epoch 11/50\n",
      "20/20 [==============================] - 4s 176ms/step - loss: 0.6930 - accuracy: 0.5139\n",
      "Epoch 12/50\n",
      "20/20 [==============================] - 4s 188ms/step - loss: 0.6929 - accuracy: 0.5139\n",
      "Epoch 13/50\n",
      "20/20 [==============================] - 4s 185ms/step - loss: 0.6928 - accuracy: 0.5139\n",
      "Epoch 14/50\n",
      "20/20 [==============================] - 4s 176ms/step - loss: 0.6928 - accuracy: 0.5139\n",
      "Epoch 15/50\n",
      "20/20 [==============================] - 4s 193ms/step - loss: 0.6928 - accuracy: 0.5139\n",
      "Epoch 16/50\n",
      "20/20 [==============================] - 4s 187ms/step - loss: 0.6927 - accuracy: 0.5139\n",
      "Epoch 17/50\n",
      "20/20 [==============================] - 4s 190ms/step - loss: 0.6930 - accuracy: 0.5139\n",
      "Epoch 18/50\n",
      "20/20 [==============================] - 4s 181ms/step - loss: 0.6929 - accuracy: 0.5139\n",
      "Epoch 19/50\n",
      "20/20 [==============================] - 4s 182ms/step - loss: 0.6929 - accuracy: 0.5139\n",
      "Epoch 20/50\n",
      "20/20 [==============================] - 4s 189ms/step - loss: 0.6928 - accuracy: 0.5139\n",
      "Epoch 21/50\n",
      "20/20 [==============================] - 4s 188ms/step - loss: 0.6929 - accuracy: 0.5139\n",
      "Epoch 22/50\n",
      " 4/20 [=====>........................] - ETA: 2s - loss: 0.6928 - accuracy: 0.5156"
     ]
    },
    {
     "ename": "KeyboardInterrupt",
     "evalue": "",
     "output_type": "error",
     "traceback": [
      "\u001b[0;31m---------------------------------------------------------------------------\u001b[0m",
      "\u001b[0;31mKeyboardInterrupt\u001b[0m                         Traceback (most recent call last)",
      "Cell \u001b[0;32mIn[43], line 1\u001b[0m\n\u001b[0;32m----> 1\u001b[0m \u001b[43mcriteria3_poses_model\u001b[49m\u001b[38;5;241;43m.\u001b[39;49m\u001b[43mfit\u001b[49m\u001b[43m(\u001b[49m\u001b[43mX_train_criteria3_poses\u001b[49m\u001b[43m,\u001b[49m\u001b[43my_train_criteria3_poses\u001b[49m\u001b[43m,\u001b[49m\u001b[43m \u001b[49m\u001b[43mepochs\u001b[49m\u001b[43m \u001b[49m\u001b[38;5;241;43m=\u001b[39;49m\u001b[43m \u001b[49m\u001b[38;5;241;43m50\u001b[39;49m\u001b[43m)\u001b[49m\n",
      "File \u001b[0;32m~/anaconda3/envs/ai1/lib/python3.9/site-packages/keras/src/utils/traceback_utils.py:65\u001b[0m, in \u001b[0;36mfilter_traceback.<locals>.error_handler\u001b[0;34m(*args, **kwargs)\u001b[0m\n\u001b[1;32m     63\u001b[0m filtered_tb \u001b[38;5;241m=\u001b[39m \u001b[38;5;28;01mNone\u001b[39;00m\n\u001b[1;32m     64\u001b[0m \u001b[38;5;28;01mtry\u001b[39;00m:\n\u001b[0;32m---> 65\u001b[0m     \u001b[38;5;28;01mreturn\u001b[39;00m \u001b[43mfn\u001b[49m\u001b[43m(\u001b[49m\u001b[38;5;241;43m*\u001b[39;49m\u001b[43margs\u001b[49m\u001b[43m,\u001b[49m\u001b[43m \u001b[49m\u001b[38;5;241;43m*\u001b[39;49m\u001b[38;5;241;43m*\u001b[39;49m\u001b[43mkwargs\u001b[49m\u001b[43m)\u001b[49m\n\u001b[1;32m     66\u001b[0m \u001b[38;5;28;01mexcept\u001b[39;00m \u001b[38;5;167;01mException\u001b[39;00m \u001b[38;5;28;01mas\u001b[39;00m e:\n\u001b[1;32m     67\u001b[0m     filtered_tb \u001b[38;5;241m=\u001b[39m _process_traceback_frames(e\u001b[38;5;241m.\u001b[39m__traceback__)\n",
      "File \u001b[0;32m~/anaconda3/envs/ai1/lib/python3.9/site-packages/keras/src/engine/training.py:1807\u001b[0m, in \u001b[0;36mModel.fit\u001b[0;34m(self, x, y, batch_size, epochs, verbose, callbacks, validation_split, validation_data, shuffle, class_weight, sample_weight, initial_epoch, steps_per_epoch, validation_steps, validation_batch_size, validation_freq, max_queue_size, workers, use_multiprocessing)\u001b[0m\n\u001b[1;32m   1799\u001b[0m \u001b[38;5;28;01mwith\u001b[39;00m tf\u001b[38;5;241m.\u001b[39mprofiler\u001b[38;5;241m.\u001b[39mexperimental\u001b[38;5;241m.\u001b[39mTrace(\n\u001b[1;32m   1800\u001b[0m     \u001b[38;5;124m\"\u001b[39m\u001b[38;5;124mtrain\u001b[39m\u001b[38;5;124m\"\u001b[39m,\n\u001b[1;32m   1801\u001b[0m     epoch_num\u001b[38;5;241m=\u001b[39mepoch,\n\u001b[0;32m   (...)\u001b[0m\n\u001b[1;32m   1804\u001b[0m     _r\u001b[38;5;241m=\u001b[39m\u001b[38;5;241m1\u001b[39m,\n\u001b[1;32m   1805\u001b[0m ):\n\u001b[1;32m   1806\u001b[0m     callbacks\u001b[38;5;241m.\u001b[39mon_train_batch_begin(step)\n\u001b[0;32m-> 1807\u001b[0m     tmp_logs \u001b[38;5;241m=\u001b[39m \u001b[38;5;28;43mself\u001b[39;49m\u001b[38;5;241;43m.\u001b[39;49m\u001b[43mtrain_function\u001b[49m\u001b[43m(\u001b[49m\u001b[43miterator\u001b[49m\u001b[43m)\u001b[49m\n\u001b[1;32m   1808\u001b[0m     \u001b[38;5;28;01mif\u001b[39;00m data_handler\u001b[38;5;241m.\u001b[39mshould_sync:\n\u001b[1;32m   1809\u001b[0m         context\u001b[38;5;241m.\u001b[39masync_wait()\n",
      "File \u001b[0;32m~/anaconda3/envs/ai1/lib/python3.9/site-packages/tensorflow/python/util/traceback_utils.py:150\u001b[0m, in \u001b[0;36mfilter_traceback.<locals>.error_handler\u001b[0;34m(*args, **kwargs)\u001b[0m\n\u001b[1;32m    148\u001b[0m filtered_tb \u001b[38;5;241m=\u001b[39m \u001b[38;5;28;01mNone\u001b[39;00m\n\u001b[1;32m    149\u001b[0m \u001b[38;5;28;01mtry\u001b[39;00m:\n\u001b[0;32m--> 150\u001b[0m   \u001b[38;5;28;01mreturn\u001b[39;00m \u001b[43mfn\u001b[49m\u001b[43m(\u001b[49m\u001b[38;5;241;43m*\u001b[39;49m\u001b[43margs\u001b[49m\u001b[43m,\u001b[49m\u001b[43m \u001b[49m\u001b[38;5;241;43m*\u001b[39;49m\u001b[38;5;241;43m*\u001b[39;49m\u001b[43mkwargs\u001b[49m\u001b[43m)\u001b[49m\n\u001b[1;32m    151\u001b[0m \u001b[38;5;28;01mexcept\u001b[39;00m \u001b[38;5;167;01mException\u001b[39;00m \u001b[38;5;28;01mas\u001b[39;00m e:\n\u001b[1;32m    152\u001b[0m   filtered_tb \u001b[38;5;241m=\u001b[39m _process_traceback_frames(e\u001b[38;5;241m.\u001b[39m__traceback__)\n",
      "File \u001b[0;32m~/anaconda3/envs/ai1/lib/python3.9/site-packages/tensorflow/python/eager/polymorphic_function/polymorphic_function.py:832\u001b[0m, in \u001b[0;36mFunction.__call__\u001b[0;34m(self, *args, **kwds)\u001b[0m\n\u001b[1;32m    829\u001b[0m compiler \u001b[38;5;241m=\u001b[39m \u001b[38;5;124m\"\u001b[39m\u001b[38;5;124mxla\u001b[39m\u001b[38;5;124m\"\u001b[39m \u001b[38;5;28;01mif\u001b[39;00m \u001b[38;5;28mself\u001b[39m\u001b[38;5;241m.\u001b[39m_jit_compile \u001b[38;5;28;01melse\u001b[39;00m \u001b[38;5;124m\"\u001b[39m\u001b[38;5;124mnonXla\u001b[39m\u001b[38;5;124m\"\u001b[39m\n\u001b[1;32m    831\u001b[0m \u001b[38;5;28;01mwith\u001b[39;00m OptionalXlaContext(\u001b[38;5;28mself\u001b[39m\u001b[38;5;241m.\u001b[39m_jit_compile):\n\u001b[0;32m--> 832\u001b[0m   result \u001b[38;5;241m=\u001b[39m \u001b[38;5;28;43mself\u001b[39;49m\u001b[38;5;241;43m.\u001b[39;49m\u001b[43m_call\u001b[49m\u001b[43m(\u001b[49m\u001b[38;5;241;43m*\u001b[39;49m\u001b[43margs\u001b[49m\u001b[43m,\u001b[49m\u001b[43m \u001b[49m\u001b[38;5;241;43m*\u001b[39;49m\u001b[38;5;241;43m*\u001b[39;49m\u001b[43mkwds\u001b[49m\u001b[43m)\u001b[49m\n\u001b[1;32m    834\u001b[0m new_tracing_count \u001b[38;5;241m=\u001b[39m \u001b[38;5;28mself\u001b[39m\u001b[38;5;241m.\u001b[39mexperimental_get_tracing_count()\n\u001b[1;32m    835\u001b[0m without_tracing \u001b[38;5;241m=\u001b[39m (tracing_count \u001b[38;5;241m==\u001b[39m new_tracing_count)\n",
      "File \u001b[0;32m~/anaconda3/envs/ai1/lib/python3.9/site-packages/tensorflow/python/eager/polymorphic_function/polymorphic_function.py:868\u001b[0m, in \u001b[0;36mFunction._call\u001b[0;34m(self, *args, **kwds)\u001b[0m\n\u001b[1;32m    865\u001b[0m   \u001b[38;5;28mself\u001b[39m\u001b[38;5;241m.\u001b[39m_lock\u001b[38;5;241m.\u001b[39mrelease()\n\u001b[1;32m    866\u001b[0m   \u001b[38;5;66;03m# In this case we have created variables on the first call, so we run the\u001b[39;00m\n\u001b[1;32m    867\u001b[0m   \u001b[38;5;66;03m# defunned version which is guaranteed to never create variables.\u001b[39;00m\n\u001b[0;32m--> 868\u001b[0m   \u001b[38;5;28;01mreturn\u001b[39;00m \u001b[43mtracing_compilation\u001b[49m\u001b[38;5;241;43m.\u001b[39;49m\u001b[43mcall_function\u001b[49m\u001b[43m(\u001b[49m\n\u001b[1;32m    869\u001b[0m \u001b[43m      \u001b[49m\u001b[43margs\u001b[49m\u001b[43m,\u001b[49m\u001b[43m \u001b[49m\u001b[43mkwds\u001b[49m\u001b[43m,\u001b[49m\u001b[43m \u001b[49m\u001b[38;5;28;43mself\u001b[39;49m\u001b[38;5;241;43m.\u001b[39;49m\u001b[43m_no_variable_creation_config\u001b[49m\n\u001b[1;32m    870\u001b[0m \u001b[43m  \u001b[49m\u001b[43m)\u001b[49m\n\u001b[1;32m    871\u001b[0m \u001b[38;5;28;01melif\u001b[39;00m \u001b[38;5;28mself\u001b[39m\u001b[38;5;241m.\u001b[39m_variable_creation_config \u001b[38;5;129;01mis\u001b[39;00m \u001b[38;5;129;01mnot\u001b[39;00m \u001b[38;5;28;01mNone\u001b[39;00m:\n\u001b[1;32m    872\u001b[0m   \u001b[38;5;66;03m# Release the lock early so that multiple threads can perform the call\u001b[39;00m\n\u001b[1;32m    873\u001b[0m   \u001b[38;5;66;03m# in parallel.\u001b[39;00m\n\u001b[1;32m    874\u001b[0m   \u001b[38;5;28mself\u001b[39m\u001b[38;5;241m.\u001b[39m_lock\u001b[38;5;241m.\u001b[39mrelease()\n",
      "File \u001b[0;32m~/anaconda3/envs/ai1/lib/python3.9/site-packages/tensorflow/python/eager/polymorphic_function/tracing_compilation.py:139\u001b[0m, in \u001b[0;36mcall_function\u001b[0;34m(args, kwargs, tracing_options)\u001b[0m\n\u001b[1;32m    137\u001b[0m bound_args \u001b[38;5;241m=\u001b[39m function\u001b[38;5;241m.\u001b[39mfunction_type\u001b[38;5;241m.\u001b[39mbind(\u001b[38;5;241m*\u001b[39margs, \u001b[38;5;241m*\u001b[39m\u001b[38;5;241m*\u001b[39mkwargs)\n\u001b[1;32m    138\u001b[0m flat_inputs \u001b[38;5;241m=\u001b[39m function\u001b[38;5;241m.\u001b[39mfunction_type\u001b[38;5;241m.\u001b[39munpack_inputs(bound_args)\n\u001b[0;32m--> 139\u001b[0m \u001b[38;5;28;01mreturn\u001b[39;00m \u001b[43mfunction\u001b[49m\u001b[38;5;241;43m.\u001b[39;49m\u001b[43m_call_flat\u001b[49m\u001b[43m(\u001b[49m\u001b[43m  \u001b[49m\u001b[38;5;66;43;03m# pylint: disable=protected-access\u001b[39;49;00m\n\u001b[1;32m    140\u001b[0m \u001b[43m    \u001b[49m\u001b[43mflat_inputs\u001b[49m\u001b[43m,\u001b[49m\u001b[43m \u001b[49m\u001b[43mcaptured_inputs\u001b[49m\u001b[38;5;241;43m=\u001b[39;49m\u001b[43mfunction\u001b[49m\u001b[38;5;241;43m.\u001b[39;49m\u001b[43mcaptured_inputs\u001b[49m\n\u001b[1;32m    141\u001b[0m \u001b[43m\u001b[49m\u001b[43m)\u001b[49m\n",
      "File \u001b[0;32m~/anaconda3/envs/ai1/lib/python3.9/site-packages/tensorflow/python/eager/polymorphic_function/concrete_function.py:1323\u001b[0m, in \u001b[0;36mConcreteFunction._call_flat\u001b[0;34m(self, tensor_inputs, captured_inputs)\u001b[0m\n\u001b[1;32m   1319\u001b[0m possible_gradient_type \u001b[38;5;241m=\u001b[39m gradients_util\u001b[38;5;241m.\u001b[39mPossibleTapeGradientTypes(args)\n\u001b[1;32m   1320\u001b[0m \u001b[38;5;28;01mif\u001b[39;00m (possible_gradient_type \u001b[38;5;241m==\u001b[39m gradients_util\u001b[38;5;241m.\u001b[39mPOSSIBLE_GRADIENT_TYPES_NONE\n\u001b[1;32m   1321\u001b[0m     \u001b[38;5;129;01mand\u001b[39;00m executing_eagerly):\n\u001b[1;32m   1322\u001b[0m   \u001b[38;5;66;03m# No tape is watching; skip to running the function.\u001b[39;00m\n\u001b[0;32m-> 1323\u001b[0m   \u001b[38;5;28;01mreturn\u001b[39;00m \u001b[38;5;28;43mself\u001b[39;49m\u001b[38;5;241;43m.\u001b[39;49m\u001b[43m_inference_function\u001b[49m\u001b[38;5;241;43m.\u001b[39;49m\u001b[43mcall_preflattened\u001b[49m\u001b[43m(\u001b[49m\u001b[43margs\u001b[49m\u001b[43m)\u001b[49m\n\u001b[1;32m   1324\u001b[0m forward_backward \u001b[38;5;241m=\u001b[39m \u001b[38;5;28mself\u001b[39m\u001b[38;5;241m.\u001b[39m_select_forward_and_backward_functions(\n\u001b[1;32m   1325\u001b[0m     args,\n\u001b[1;32m   1326\u001b[0m     possible_gradient_type,\n\u001b[1;32m   1327\u001b[0m     executing_eagerly)\n\u001b[1;32m   1328\u001b[0m forward_function, args_with_tangents \u001b[38;5;241m=\u001b[39m forward_backward\u001b[38;5;241m.\u001b[39mforward()\n",
      "File \u001b[0;32m~/anaconda3/envs/ai1/lib/python3.9/site-packages/tensorflow/python/eager/polymorphic_function/atomic_function.py:216\u001b[0m, in \u001b[0;36mAtomicFunction.call_preflattened\u001b[0;34m(self, args)\u001b[0m\n\u001b[1;32m    214\u001b[0m \u001b[38;5;28;01mdef\u001b[39;00m \u001b[38;5;21mcall_preflattened\u001b[39m(\u001b[38;5;28mself\u001b[39m, args: Sequence[core\u001b[38;5;241m.\u001b[39mTensor]) \u001b[38;5;241m-\u001b[39m\u001b[38;5;241m>\u001b[39m Any:\n\u001b[1;32m    215\u001b[0m \u001b[38;5;250m  \u001b[39m\u001b[38;5;124;03m\"\"\"Calls with flattened tensor inputs and returns the structured output.\"\"\"\u001b[39;00m\n\u001b[0;32m--> 216\u001b[0m   flat_outputs \u001b[38;5;241m=\u001b[39m \u001b[38;5;28;43mself\u001b[39;49m\u001b[38;5;241;43m.\u001b[39;49m\u001b[43mcall_flat\u001b[49m\u001b[43m(\u001b[49m\u001b[38;5;241;43m*\u001b[39;49m\u001b[43margs\u001b[49m\u001b[43m)\u001b[49m\n\u001b[1;32m    217\u001b[0m   \u001b[38;5;28;01mreturn\u001b[39;00m \u001b[38;5;28mself\u001b[39m\u001b[38;5;241m.\u001b[39mfunction_type\u001b[38;5;241m.\u001b[39mpack_output(flat_outputs)\n",
      "File \u001b[0;32m~/anaconda3/envs/ai1/lib/python3.9/site-packages/tensorflow/python/eager/polymorphic_function/atomic_function.py:251\u001b[0m, in \u001b[0;36mAtomicFunction.call_flat\u001b[0;34m(self, *args)\u001b[0m\n\u001b[1;32m    249\u001b[0m \u001b[38;5;28;01mwith\u001b[39;00m record\u001b[38;5;241m.\u001b[39mstop_recording():\n\u001b[1;32m    250\u001b[0m   \u001b[38;5;28;01mif\u001b[39;00m \u001b[38;5;28mself\u001b[39m\u001b[38;5;241m.\u001b[39m_bound_context\u001b[38;5;241m.\u001b[39mexecuting_eagerly():\n\u001b[0;32m--> 251\u001b[0m     outputs \u001b[38;5;241m=\u001b[39m \u001b[38;5;28;43mself\u001b[39;49m\u001b[38;5;241;43m.\u001b[39;49m\u001b[43m_bound_context\u001b[49m\u001b[38;5;241;43m.\u001b[39;49m\u001b[43mcall_function\u001b[49m\u001b[43m(\u001b[49m\n\u001b[1;32m    252\u001b[0m \u001b[43m        \u001b[49m\u001b[38;5;28;43mself\u001b[39;49m\u001b[38;5;241;43m.\u001b[39;49m\u001b[43mname\u001b[49m\u001b[43m,\u001b[49m\n\u001b[1;32m    253\u001b[0m \u001b[43m        \u001b[49m\u001b[38;5;28;43mlist\u001b[39;49m\u001b[43m(\u001b[49m\u001b[43margs\u001b[49m\u001b[43m)\u001b[49m\u001b[43m,\u001b[49m\n\u001b[1;32m    254\u001b[0m \u001b[43m        \u001b[49m\u001b[38;5;28;43mlen\u001b[39;49m\u001b[43m(\u001b[49m\u001b[38;5;28;43mself\u001b[39;49m\u001b[38;5;241;43m.\u001b[39;49m\u001b[43mfunction_type\u001b[49m\u001b[38;5;241;43m.\u001b[39;49m\u001b[43mflat_outputs\u001b[49m\u001b[43m)\u001b[49m\u001b[43m,\u001b[49m\n\u001b[1;32m    255\u001b[0m \u001b[43m    \u001b[49m\u001b[43m)\u001b[49m\n\u001b[1;32m    256\u001b[0m   \u001b[38;5;28;01melse\u001b[39;00m:\n\u001b[1;32m    257\u001b[0m     outputs \u001b[38;5;241m=\u001b[39m make_call_op_in_graph(\n\u001b[1;32m    258\u001b[0m         \u001b[38;5;28mself\u001b[39m,\n\u001b[1;32m    259\u001b[0m         \u001b[38;5;28mlist\u001b[39m(args),\n\u001b[1;32m    260\u001b[0m         \u001b[38;5;28mself\u001b[39m\u001b[38;5;241m.\u001b[39m_bound_context\u001b[38;5;241m.\u001b[39mfunction_call_options\u001b[38;5;241m.\u001b[39mas_attrs(),\n\u001b[1;32m    261\u001b[0m     )\n",
      "File \u001b[0;32m~/anaconda3/envs/ai1/lib/python3.9/site-packages/tensorflow/python/eager/context.py:1486\u001b[0m, in \u001b[0;36mContext.call_function\u001b[0;34m(self, name, tensor_inputs, num_outputs)\u001b[0m\n\u001b[1;32m   1484\u001b[0m cancellation_context \u001b[38;5;241m=\u001b[39m cancellation\u001b[38;5;241m.\u001b[39mcontext()\n\u001b[1;32m   1485\u001b[0m \u001b[38;5;28;01mif\u001b[39;00m cancellation_context \u001b[38;5;129;01mis\u001b[39;00m \u001b[38;5;28;01mNone\u001b[39;00m:\n\u001b[0;32m-> 1486\u001b[0m   outputs \u001b[38;5;241m=\u001b[39m \u001b[43mexecute\u001b[49m\u001b[38;5;241;43m.\u001b[39;49m\u001b[43mexecute\u001b[49m\u001b[43m(\u001b[49m\n\u001b[1;32m   1487\u001b[0m \u001b[43m      \u001b[49m\u001b[43mname\u001b[49m\u001b[38;5;241;43m.\u001b[39;49m\u001b[43mdecode\u001b[49m\u001b[43m(\u001b[49m\u001b[38;5;124;43m\"\u001b[39;49m\u001b[38;5;124;43mutf-8\u001b[39;49m\u001b[38;5;124;43m\"\u001b[39;49m\u001b[43m)\u001b[49m\u001b[43m,\u001b[49m\n\u001b[1;32m   1488\u001b[0m \u001b[43m      \u001b[49m\u001b[43mnum_outputs\u001b[49m\u001b[38;5;241;43m=\u001b[39;49m\u001b[43mnum_outputs\u001b[49m\u001b[43m,\u001b[49m\n\u001b[1;32m   1489\u001b[0m \u001b[43m      \u001b[49m\u001b[43minputs\u001b[49m\u001b[38;5;241;43m=\u001b[39;49m\u001b[43mtensor_inputs\u001b[49m\u001b[43m,\u001b[49m\n\u001b[1;32m   1490\u001b[0m \u001b[43m      \u001b[49m\u001b[43mattrs\u001b[49m\u001b[38;5;241;43m=\u001b[39;49m\u001b[43mattrs\u001b[49m\u001b[43m,\u001b[49m\n\u001b[1;32m   1491\u001b[0m \u001b[43m      \u001b[49m\u001b[43mctx\u001b[49m\u001b[38;5;241;43m=\u001b[39;49m\u001b[38;5;28;43mself\u001b[39;49m\u001b[43m,\u001b[49m\n\u001b[1;32m   1492\u001b[0m \u001b[43m  \u001b[49m\u001b[43m)\u001b[49m\n\u001b[1;32m   1493\u001b[0m \u001b[38;5;28;01melse\u001b[39;00m:\n\u001b[1;32m   1494\u001b[0m   outputs \u001b[38;5;241m=\u001b[39m execute\u001b[38;5;241m.\u001b[39mexecute_with_cancellation(\n\u001b[1;32m   1495\u001b[0m       name\u001b[38;5;241m.\u001b[39mdecode(\u001b[38;5;124m\"\u001b[39m\u001b[38;5;124mutf-8\u001b[39m\u001b[38;5;124m\"\u001b[39m),\n\u001b[1;32m   1496\u001b[0m       num_outputs\u001b[38;5;241m=\u001b[39mnum_outputs,\n\u001b[0;32m   (...)\u001b[0m\n\u001b[1;32m   1500\u001b[0m       cancellation_manager\u001b[38;5;241m=\u001b[39mcancellation_context,\n\u001b[1;32m   1501\u001b[0m   )\n",
      "File \u001b[0;32m~/anaconda3/envs/ai1/lib/python3.9/site-packages/tensorflow/python/eager/execute.py:53\u001b[0m, in \u001b[0;36mquick_execute\u001b[0;34m(op_name, num_outputs, inputs, attrs, ctx, name)\u001b[0m\n\u001b[1;32m     51\u001b[0m \u001b[38;5;28;01mtry\u001b[39;00m:\n\u001b[1;32m     52\u001b[0m   ctx\u001b[38;5;241m.\u001b[39mensure_initialized()\n\u001b[0;32m---> 53\u001b[0m   tensors \u001b[38;5;241m=\u001b[39m \u001b[43mpywrap_tfe\u001b[49m\u001b[38;5;241;43m.\u001b[39;49m\u001b[43mTFE_Py_Execute\u001b[49m\u001b[43m(\u001b[49m\u001b[43mctx\u001b[49m\u001b[38;5;241;43m.\u001b[39;49m\u001b[43m_handle\u001b[49m\u001b[43m,\u001b[49m\u001b[43m \u001b[49m\u001b[43mdevice_name\u001b[49m\u001b[43m,\u001b[49m\u001b[43m \u001b[49m\u001b[43mop_name\u001b[49m\u001b[43m,\u001b[49m\n\u001b[1;32m     54\u001b[0m \u001b[43m                                      \u001b[49m\u001b[43minputs\u001b[49m\u001b[43m,\u001b[49m\u001b[43m \u001b[49m\u001b[43mattrs\u001b[49m\u001b[43m,\u001b[49m\u001b[43m \u001b[49m\u001b[43mnum_outputs\u001b[49m\u001b[43m)\u001b[49m\n\u001b[1;32m     55\u001b[0m \u001b[38;5;28;01mexcept\u001b[39;00m core\u001b[38;5;241m.\u001b[39m_NotOkStatusException \u001b[38;5;28;01mas\u001b[39;00m e:\n\u001b[1;32m     56\u001b[0m   \u001b[38;5;28;01mif\u001b[39;00m name \u001b[38;5;129;01mis\u001b[39;00m \u001b[38;5;129;01mnot\u001b[39;00m \u001b[38;5;28;01mNone\u001b[39;00m:\n",
      "\u001b[0;31mKeyboardInterrupt\u001b[0m: "
     ]
    }
   ],
   "source": [
    "criteria3_poses_model.fit(X_train_criteria3_poses,y_train_criteria3_poses, epochs = 50)"
   ]
  },
  {
   "cell_type": "markdown",
   "id": "0f3f7ac6",
   "metadata": {},
   "source": [
    "#### Saving the model"
   ]
  },
  {
   "cell_type": "code",
   "execution_count": null,
   "id": "cc354038",
   "metadata": {},
   "outputs": [],
   "source": [
    "criteria3_poses_model.save(\"model.h5\")"
   ]
  },
  {
   "cell_type": "markdown",
   "id": "62fbe77c",
   "metadata": {},
   "source": [
    "#### Loading the model"
   ]
  },
  {
   "cell_type": "code",
   "execution_count": null,
   "id": "4d26fe62",
   "metadata": {},
   "outputs": [],
   "source": [
    "loaded_model = load_model('my_model.h5')"
   ]
  },
  {
   "cell_type": "markdown",
   "id": "653c0d9d",
   "metadata": {},
   "source": [
    "#### Evaluating the model"
   ]
  },
  {
   "cell_type": "markdown",
   "id": "b2f5951f",
   "metadata": {},
   "source": [
    "###### Train Data"
   ]
  },
  {
   "cell_type": "code",
   "execution_count": 44,
   "id": "aeda4d8b",
   "metadata": {
    "scrolled": true
   },
   "outputs": [
    {
     "name": "stdout",
     "output_type": "stream",
     "text": [
      "20/20 [==============================] - 1s 59ms/step\n",
      "accuracy = 0.513911620294599\n"
     ]
    }
   ],
   "source": [
    "y_pred = criteria3_poses_model.predict(X_train_criteria3_poses)\n",
    "evaluate(y_pred, y_train_criteria3_poses)"
   ]
  },
  {
   "cell_type": "markdown",
   "id": "d6f82cb8",
   "metadata": {},
   "source": [
    "###### Test Data"
   ]
  },
  {
   "cell_type": "code",
   "execution_count": 45,
   "id": "2032f422",
   "metadata": {
    "scrolled": false
   },
   "outputs": [
    {
     "name": "stdout",
     "output_type": "stream",
     "text": [
      "5/5 [==============================] - 0s 57ms/step\n",
      "accuracy = 0.5032679738562091\n"
     ]
    }
   ],
   "source": [
    "y_pred = criteria3_poses_model.predict(X_test_criteria3_poses)\n",
    "evaluate(y_pred, y_test_criteria3_poses)"
   ]
  },
  {
   "cell_type": "markdown",
   "id": "3f8a8afa",
   "metadata": {},
   "source": [
    "# -------------------------------------------------------------------------------------------------------------"
   ]
  },
  {
   "cell_type": "markdown",
   "id": "5a33a5a8",
   "metadata": {},
   "source": [
    "## 5) Criteria 4 - Poses"
   ]
  },
  {
   "cell_type": "markdown",
   "id": "cf3a484d",
   "metadata": {},
   "source": [
    "#### Loading training data"
   ]
  },
  {
   "cell_type": "code",
   "execution_count": 46,
   "id": "878a5e74",
   "metadata": {},
   "outputs": [],
   "source": [
    "criteria4_data_poses = np.load(\"../data/processed/bicep/poses/training_data_bicep_poses_criteria_4.npy\", allow_pickle = True)"
   ]
  },
  {
   "cell_type": "code",
   "execution_count": 55,
   "id": "9e25cf0f",
   "metadata": {},
   "outputs": [
    {
     "data": {
      "text/plain": [
       "803"
      ]
     },
     "execution_count": 55,
     "metadata": {},
     "output_type": "execute_result"
    }
   ],
   "source": [
    "len(criteria4_data_poses)"
   ]
  },
  {
   "cell_type": "markdown",
   "id": "9ebe313b",
   "metadata": {},
   "source": [
    "#### Getting X_train, X_test, y_train, y_test"
   ]
  },
  {
   "cell_type": "code",
   "execution_count": 48,
   "id": "9f5347bf",
   "metadata": {},
   "outputs": [],
   "source": [
    "X = np.vstack(criteria4_data_poses[:, 0])\n",
    "y = np.vstack(criteria4_data_poses[:, 1])\n",
    "X_train_criteria4_poses, X_test_criteria4_poses, y_train_criteria4_poses, y_test_criteria4_poses = train_test_split(\n",
    "    X, y, test_size=0.2, random_state=42)"
   ]
  },
  {
   "cell_type": "code",
   "execution_count": 49,
   "id": "bed09d9b",
   "metadata": {},
   "outputs": [
    {
     "name": "stdout",
     "output_type": "stream",
     "text": [
      "X_train_criteria4_poses shape: (642, 600, 24)\n",
      "y_train_criteria4_poses shape: (642, 1)\n",
      "X_test_criteria4_poses shape: (161, 600, 24)\n",
      "y_test_criteria4_poses shape: (161, 1)\n"
     ]
    }
   ],
   "source": [
    "print(\"X_train_criteria4_poses shape:\", X_train_criteria4_poses.shape)\n",
    "print(\"y_train_criteria4_poses shape:\", y_train_criteria4_poses.shape)\n",
    "print(\"X_test_criteria4_poses shape:\", X_test_criteria4_poses.shape)\n",
    "print(\"y_test_criteria4_poses shape:\", y_test_criteria4_poses.shape)"
   ]
  },
  {
   "cell_type": "markdown",
   "id": "c5555974",
   "metadata": {},
   "source": [
    "#### Building and training the model"
   ]
  },
  {
   "cell_type": "code",
   "execution_count": 50,
   "id": "ddab9615",
   "metadata": {},
   "outputs": [
    {
     "name": "stdout",
     "output_type": "stream",
     "text": [
      "Model: \"criteria4_poses_model\"\n",
      "_________________________________________________________________\n",
      " Layer (type)                Output Shape              Param #   \n",
      "=================================================================\n",
      " lstm_5 (LSTM)               (None, 50)                15000     \n",
      "                                                                 \n",
      " dense_5 (Dense)             (None, 1)                 51        \n",
      "                                                                 \n",
      "=================================================================\n",
      "Total params: 15051 (58.79 KB)\n",
      "Trainable params: 15051 (58.79 KB)\n",
      "Non-trainable params: 0 (0.00 Byte)\n",
      "_________________________________________________________________\n"
     ]
    }
   ],
   "source": [
    "criteria4_poses_model = Sequential(\n",
    "    [\n",
    "        LSTM(units=50, input_shape=(X_train_criteria4_poses.shape[1], X_train_criteria4_poses.shape[2])),\n",
    "        Dense(1, activation = \"sigmoid\")\n",
    "    ], name = \"criteria4_poses_model\"\n",
    ")\n",
    "criteria4_poses_model.summary()"
   ]
  },
  {
   "cell_type": "code",
   "execution_count": 51,
   "id": "f8aca016",
   "metadata": {},
   "outputs": [],
   "source": [
    "criteria4_poses_model.compile(optimizer='adam', loss='binary_crossentropy', metrics = ['accuracy'])"
   ]
  },
  {
   "cell_type": "code",
   "execution_count": 52,
   "id": "52d42917",
   "metadata": {
    "scrolled": true
   },
   "outputs": [
    {
     "name": "stdout",
     "output_type": "stream",
     "text": [
      "Epoch 1/10\n",
      "21/21 [==============================] - 5s 187ms/step - loss: 0.6757 - accuracy: 0.6262\n",
      "Epoch 2/10\n",
      "21/21 [==============================] - 4s 176ms/step - loss: 0.6660 - accuracy: 0.6262\n",
      "Epoch 3/10\n",
      "21/21 [==============================] - 4s 187ms/step - loss: 0.6621 - accuracy: 0.6262\n",
      "Epoch 4/10\n",
      "21/21 [==============================] - 4s 198ms/step - loss: 0.6622 - accuracy: 0.6262\n",
      "Epoch 5/10\n",
      "21/21 [==============================] - 4s 185ms/step - loss: 0.6621 - accuracy: 0.6262\n",
      "Epoch 6/10\n",
      "21/21 [==============================] - 4s 188ms/step - loss: 0.6619 - accuracy: 0.6262\n",
      "Epoch 7/10\n",
      "21/21 [==============================] - 4s 184ms/step - loss: 0.6655 - accuracy: 0.6262\n",
      "Epoch 8/10\n",
      "21/21 [==============================] - 4s 187ms/step - loss: 0.6626 - accuracy: 0.6262\n",
      "Epoch 9/10\n",
      "21/21 [==============================] - 4s 167ms/step - loss: 0.6621 - accuracy: 0.6262\n",
      "Epoch 10/10\n",
      "21/21 [==============================] - 4s 179ms/step - loss: 0.6617 - accuracy: 0.6262\n"
     ]
    },
    {
     "data": {
      "text/plain": [
       "<keras.src.callbacks.History at 0x7ecf2796fa00>"
      ]
     },
     "execution_count": 52,
     "metadata": {},
     "output_type": "execute_result"
    }
   ],
   "source": [
    "criteria4_poses_model.fit(X_train_criteria4_poses,y_train_criteria4_poses, epochs = 10)"
   ]
  },
  {
   "cell_type": "markdown",
   "id": "31251fc9",
   "metadata": {},
   "source": [
    "#### Saving the model"
   ]
  },
  {
   "cell_type": "code",
   "execution_count": null,
   "id": "035ec544",
   "metadata": {},
   "outputs": [],
   "source": [
    "criteria4_poses_model.save(\"model.h5\")"
   ]
  },
  {
   "cell_type": "markdown",
   "id": "8dd06e74",
   "metadata": {},
   "source": [
    "#### Loading the model"
   ]
  },
  {
   "cell_type": "code",
   "execution_count": null,
   "id": "8aa9d059",
   "metadata": {},
   "outputs": [],
   "source": [
    "loaded_model = load_model('my_model.h5')"
   ]
  },
  {
   "cell_type": "markdown",
   "id": "7c0575ce",
   "metadata": {},
   "source": [
    "#### Evaluating the model"
   ]
  },
  {
   "cell_type": "markdown",
   "id": "db950fd5",
   "metadata": {},
   "source": [
    "###### Train Data"
   ]
  },
  {
   "cell_type": "code",
   "execution_count": 53,
   "id": "675e52ee",
   "metadata": {
    "scrolled": true
   },
   "outputs": [
    {
     "name": "stdout",
     "output_type": "stream",
     "text": [
      "21/21 [==============================] - 1s 57ms/step\n",
      "accuracy = 0.6261682242990654\n"
     ]
    }
   ],
   "source": [
    "y_pred = criteria4_poses_model.predict(X_train_criteria4_poses)\n",
    "evaluate(y_pred, y_train_criteria4_poses)"
   ]
  },
  {
   "cell_type": "markdown",
   "id": "697873be",
   "metadata": {},
   "source": [
    "###### Test Data"
   ]
  },
  {
   "cell_type": "code",
   "execution_count": 54,
   "id": "af0da39c",
   "metadata": {
    "scrolled": true
   },
   "outputs": [
    {
     "name": "stdout",
     "output_type": "stream",
     "text": [
      "6/6 [==============================] - 0s 40ms/step\n",
      "accuracy = 0.577639751552795\n"
     ]
    }
   ],
   "source": [
    "y_pred = criteria4_poses_model.predict(X_test_criteria4_poses)\n",
    "evaluate(y_pred, y_test_criteria4_poses)"
   ]
  },
  {
   "cell_type": "markdown",
   "id": "9bfe4dd6",
   "metadata": {},
   "source": [
    "# -------------------------------------------------------------------------------------------------------------"
   ]
  },
  {
   "cell_type": "markdown",
   "id": "7cf1e7f1",
   "metadata": {},
   "source": [
    "## 6) Full Test"
   ]
  },
  {
   "cell_type": "code",
   "execution_count": 84,
   "id": "b7a12b47",
   "metadata": {},
   "outputs": [],
   "source": [
    "def test_models(input_sample):\n",
    "    input_sample = input_sample.reshape((1, input_sample.shape[0], input_sample.shape[1]))\n",
    "    y_pred1 = criteria1_poses_model.predict(input_sample)\n",
    "    y_pred2 = criteria2_poses_model.predict(input_sample)\n",
    "    y_pred3 = criteria3_poses_model.predict(input_sample)\n",
    "    y_pred4 = criteria4_poses_model.predict(input_sample)\n",
    "    print(\"Criteria1:\", y_pred1[0][0])\n",
    "    print(\"Criteria2:\", y_pred2[0][0])\n",
    "    print(\"Criteria3:\", y_pred3[0][0])\n",
    "    print(\"Criteria4:\", y_pred4[0][0])"
   ]
  },
  {
   "cell_type": "code",
   "execution_count": 112,
   "id": "8162cf7b",
   "metadata": {},
   "outputs": [
    {
     "name": "stdout",
     "output_type": "stream",
     "text": [
      "[0]\n",
      "1/1 [==============================] - 0s 43ms/step\n",
      "1/1 [==============================] - 0s 25ms/step\n",
      "1/1 [==============================] - 0s 25ms/step\n",
      "1/1 [==============================] - 0s 25ms/step\n",
      "Criteria1: 0.8120975\n",
      "Criteria2: 0.74475485\n",
      "Criteria3: 0.51832634\n",
      "Criteria4: 0.3700179\n"
     ]
    }
   ],
   "source": [
    "input_sample = X_train_criteria1_poses[3]\n",
    "print(y_train_criteria1_poses[3])\n",
    "test_models(input_sample)"
   ]
  },
  {
   "cell_type": "code",
   "execution_count": null,
   "id": "11e93c9e",
   "metadata": {},
   "outputs": [],
   "source": []
  },
  {
   "cell_type": "code",
   "execution_count": 98,
   "id": "851b144a",
   "metadata": {},
   "outputs": [
    {
     "data": {
      "text/plain": [
       "array([[0.47694939, 0.38170713, 0.62068683, 0.48130608, 0.70470905,\n",
       "        0.58847463, 0.37311935, 0.40904704, 0.48230857, 0.50518072,\n",
       "        0.51940238, 0.59078938, 0.65015131, 0.57024443, 0.57197112,\n",
       "        0.57843429, 0.62934285, 0.72408319, 0.56654578, 0.721367  ,\n",
       "        0.6005159 , 0.89406526, 0.54073346, 0.88351095],\n",
       "       [0.47966072, 0.38484061, 0.62102592, 0.48727816, 0.70987254,\n",
       "        0.58960533, 0.36774644, 0.41126642, 0.48385882, 0.50748837,\n",
       "        0.52782786, 0.5914467 , 0.65376025, 0.57278311, 0.57604927,\n",
       "        0.57950509, 0.62906492, 0.72422856, 0.56956452, 0.72127497,\n",
       "        0.60050923, 0.89447099, 0.54160523, 0.88295013],\n",
       "       [0.48082623, 0.38303432, 0.62143523, 0.48523554, 0.71089268,\n",
       "        0.58586043, 0.36841384, 0.41365233, 0.48295695, 0.50933194,\n",
       "        0.51261729, 0.59480608, 0.66113335, 0.57343453, 0.58010888,\n",
       "        0.58096379, 0.62892526, 0.72437346, 0.56856811, 0.72151911,\n",
       "        0.60070682, 0.89448863, 0.54198331, 0.88292944],\n",
       "       [0.48262262, 0.37930423, 0.62157637, 0.48384756, 0.70892298,\n",
       "        0.58481264, 0.37136623, 0.41330582, 0.48612183, 0.51149833,\n",
       "        0.50828815, 0.5995332 , 0.6664654 , 0.57367325, 0.58627939,\n",
       "        0.58123469, 0.62885952, 0.72440094, 0.57013077, 0.72217023,\n",
       "        0.60050291, 0.89493066, 0.54482687, 0.88290912],\n",
       "       [0.48295039, 0.37721616, 0.62183934, 0.48270383, 0.70341671,\n",
       "        0.58416355, 0.37309265, 0.41103768, 0.48206142, 0.51059836,\n",
       "        0.50260216, 0.59900272, 0.66579372, 0.57347614, 0.58495355,\n",
       "        0.58070064, 0.62874013, 0.7250694 , 0.57273453, 0.7229017 ,\n",
       "        0.60046375, 0.89491779, 0.54477888, 0.88224685],\n",
       "       [0.487405  , 0.37059572, 0.62225068, 0.48154822, 0.70124859,\n",
       "        0.58250999, 0.3741143 , 0.40954614, 0.47760582, 0.50949585,\n",
       "        0.49065968, 0.59927392, 0.66780919, 0.57328004, 0.58327925,\n",
       "        0.58031493, 0.6302864 , 0.72442776, 0.57240379, 0.72365236,\n",
       "        0.60061479, 0.89493161, 0.5439927 , 0.88221949],\n",
       "       [0.49226573, 0.36165369, 0.62268651, 0.47037524, 0.68464714,\n",
       "        0.58196223, 0.37984741, 0.40456453, 0.47519934, 0.50881326,\n",
       "        0.47145545, 0.60082459, 0.66751677, 0.56827915, 0.58210236,\n",
       "        0.57769805, 0.63061756, 0.72389942, 0.57207477, 0.72362369,\n",
       "        0.60020703, 0.89526016, 0.54354137, 0.88221341],\n",
       "       [0.50394595, 0.35487181, 0.62865704, 0.46033818, 0.67122936,\n",
       "        0.57825959, 0.38992783, 0.39903909, 0.47479641, 0.50586414,\n",
       "        0.45515803, 0.60029823, 0.66987884, 0.5612905 , 0.58270526,\n",
       "        0.57212734, 0.63187468, 0.72163159, 0.57198304, 0.72338724,\n",
       "        0.60027045, 0.89588624, 0.5431748 , 0.88220769],\n",
       "       [0.5202468 , 0.34666845, 0.63328278, 0.45020252, 0.65337288,\n",
       "        0.56526697, 0.4042449 , 0.38939077, 0.47318357, 0.49682966,\n",
       "        0.43347737, 0.59959048, 0.66960001, 0.55595577, 0.58222663,\n",
       "        0.56709468, 0.63198233, 0.71945107, 0.56947893, 0.72279263,\n",
       "        0.60075063, 0.89602697, 0.5430963 , 0.88223666],\n",
       "       [0.53335077, 0.33824733, 0.635804  , 0.44088951, 0.63388205,\n",
       "        0.5522114 , 0.42321628, 0.38378426, 0.469446  , 0.48715907,\n",
       "        0.40246382, 0.58716846, 0.66771263, 0.55410391, 0.57938373,\n",
       "        0.56381989, 0.63191307, 0.71872354, 0.56501573, 0.71926326,\n",
       "        0.60086697, 0.89634484, 0.54247451, 0.88226718]])"
      ]
     },
     "execution_count": 98,
     "metadata": {},
     "output_type": "execute_result"
    }
   ],
   "source": [
    "X_test_criteria4_poses[0][0:10]"
   ]
  },
  {
   "cell_type": "code",
   "execution_count": 97,
   "id": "34b47da9",
   "metadata": {
    "scrolled": true
   },
   "outputs": [
    {
     "data": {
      "text/plain": [
       "array([[0.51568407, 0.32647872, 0.58713555, 0.43804756, 0.61232793,\n",
       "        0.5452165 , 0.37310156, 0.35943162, 0.39929247, 0.46497971,\n",
       "        0.36579835, 0.5490576 , 0.55821884, 0.54500216, 0.46016681,\n",
       "        0.54970205, 0.55036861, 0.72080767, 0.47006634, 0.7143957 ,\n",
       "        0.53299516, 0.89528531, 0.46245477, 0.87941372],\n",
       "       [0.51769227, 0.32627052, 0.58586574, 0.43800408, 0.60909283,\n",
       "        0.54230553, 0.3742938 , 0.35858622, 0.39940241, 0.46377355,\n",
       "        0.36420086, 0.54780072, 0.55636019, 0.54502803, 0.4589079 ,\n",
       "        0.54971755, 0.54905534, 0.72078454, 0.46891552, 0.71449172,\n",
       "        0.53305501, 0.89533842, 0.462441  , 0.87891084],\n",
       "       [0.51879531, 0.32582739, 0.58582956, 0.43787137, 0.60418093,\n",
       "        0.5405913 , 0.37546501, 0.35852847, 0.39879853, 0.46356106,\n",
       "        0.36240962, 0.54676419, 0.55501693, 0.5450834 , 0.45583084,\n",
       "        0.54964525, 0.54891992, 0.7216121 , 0.46655351, 0.71532315,\n",
       "        0.53293866, 0.89538699, 0.46234813, 0.87876523],\n",
       "       [0.52279925, 0.32538795, 0.58579278, 0.43764338, 0.59991282,\n",
       "        0.53832662, 0.37948406, 0.35845178, 0.39872879, 0.46363622,\n",
       "        0.35791215, 0.5462386 , 0.55265599, 0.54334557, 0.45520601,\n",
       "        0.54722172, 0.54703796, 0.7209509 , 0.46546301, 0.71525156,\n",
       "        0.53281128, 0.89525157, 0.46235517, 0.87846392],\n",
       "       [0.52945316, 0.32508817, 0.58670402, 0.4377622 , 0.59948075,\n",
       "        0.54003936, 0.38842702, 0.35843879, 0.39833668, 0.46409568,\n",
       "        0.35179737, 0.54586941, 0.54842061, 0.54329544, 0.45319808,\n",
       "        0.54610431, 0.54431278, 0.7207886 , 0.46246961, 0.71530735,\n",
       "        0.53194845, 0.89442176, 0.46226391, 0.87665319],\n",
       "       [0.53704482, 0.32461721, 0.58718145, 0.43769893, 0.57776082,\n",
       "        0.53945738, 0.39588886, 0.3587752 , 0.39710546, 0.46492377,\n",
       "        0.33610076, 0.54782915, 0.54632807, 0.54332513, 0.45197386,\n",
       "        0.54618496, 0.54106271, 0.72079885, 0.45824274, 0.71530491,\n",
       "        0.53156847, 0.8944481 , 0.46217927, 0.87571698],\n",
       "       [0.54799843, 0.32465586, 0.58716166, 0.43751907, 0.56016493,\n",
       "        0.53413403, 0.40045014, 0.35845098, 0.39637393, 0.4649455 ,\n",
       "        0.32027653, 0.54759109, 0.54553068, 0.54311883, 0.45079124,\n",
       "        0.54579449, 0.53898579, 0.72043252, 0.45613697, 0.7151317 ,\n",
       "        0.53050023, 0.89682114, 0.46216774, 0.87703055],\n",
       "       [0.55421644, 0.3246651 , 0.58715594, 0.4368003 , 0.54106498,\n",
       "        0.52590406, 0.40307233, 0.35832006, 0.39381257, 0.46463543,\n",
       "        0.3059957 , 0.54121268, 0.54408318, 0.54327691, 0.4503018 ,\n",
       "        0.54583657, 0.53795838, 0.71940875, 0.45391497, 0.71477062,\n",
       "        0.5294947 , 0.89681655, 0.46217188, 0.87704241],\n",
       "       [0.55942208, 0.32561859, 0.58696997, 0.43631667, 0.51655817,\n",
       "        0.51699257, 0.40937936, 0.35727498, 0.39049742, 0.46284786,\n",
       "        0.2895439 , 0.52922738, 0.54089129, 0.5436846 , 0.44837117,\n",
       "        0.54613286, 0.53772455, 0.71884638, 0.45190653, 0.71373719,\n",
       "        0.52920866, 0.89657152, 0.46204185, 0.877042  ],\n",
       "       [0.56445354, 0.32787633, 0.58295375, 0.43735781, 0.45673972,\n",
       "        0.49744764, 0.4136925 , 0.3570376 , 0.38895085, 0.46284112,\n",
       "        0.26347235, 0.51230526, 0.53601921, 0.5451256 , 0.44644469,\n",
       "        0.54804814, 0.53378797, 0.71754092, 0.44805789, 0.71311259,\n",
       "        0.52922517, 0.89803803, 0.461992  , 0.87760222]])"
      ]
     },
     "execution_count": 97,
     "metadata": {},
     "output_type": "execute_result"
    }
   ],
   "source": [
    "X_test_criteria4_poses[1][0:10]"
   ]
  },
  {
   "cell_type": "code",
   "execution_count": null,
   "id": "d6f2128d",
   "metadata": {},
   "outputs": [],
   "source": []
  },
  {
   "cell_type": "code",
   "execution_count": null,
   "id": "0d41518b",
   "metadata": {},
   "outputs": [],
   "source": []
  },
  {
   "cell_type": "code",
   "execution_count": null,
   "id": "5f242581",
   "metadata": {},
   "outputs": [],
   "source": []
  }
 ],
 "metadata": {
  "kernelspec": {
   "display_name": "ai1",
   "language": "python",
   "name": "ai1"
  },
  "language_info": {
   "codemirror_mode": {
    "name": "ipython",
    "version": 3
   },
   "file_extension": ".py",
   "mimetype": "text/x-python",
   "name": "python",
   "nbconvert_exporter": "python",
   "pygments_lexer": "ipython3",
   "version": "3.9.18"
  }
 },
 "nbformat": 4,
 "nbformat_minor": 5
}
